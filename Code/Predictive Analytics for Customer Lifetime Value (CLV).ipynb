{
 "cells": [
  {
   "cell_type": "markdown",
   "id": "724a7496",
   "metadata": {},
   "source": [
    "**Project Idea**: Predictive Analytics for Customer Lifetime Value (CLV)\n",
    "\n",
    "- **Description**: Develop a model to predict the lifetime value of a customer based on their purchasing history, browsing behavior, and other relevant factors. This can help the e-commerce company tailor marketing strategies and personalize customer experience.\n",
    "- **Skills Demonstrated**: Predictive modeling, customer segmentation, machine learning.\n",
    "- **dfset**: You can use the \"Online Retail II\" dfset from the UCI Machine Learning Repository. It contains all the transactions occurring for a UK-based and registered non-store online retail between 01/12/2009 and 09/12/2011. [UCI Machine Learning Repository: Online Retail II df Set](https://archive.ics.uci.edu/ml/dfsets/Online+Retail+II)\n",
    "\n",
    "\n",
    "(Analyzing the first 10k rows due to hardware complexity)"
   ]
  },
  {
   "cell_type": "markdown",
   "id": "439117f5",
   "metadata": {},
   "source": [
    "#### Dataset Information\n",
    "\n",
    "This Online Retail II df set contains all the transactions occurring for a UK-based and registered, non-store online retail between 01/12/2009 and 09/12/2011.The company mainly sells unique all-occasion gift-ware. Many customers of the company are wholesalers.\n",
    "\n",
    "#### Variable Name\n",
    "- InvoiceNo: Invoice number. Nominal. A 6-digit integral number uniquely assigned to each transaction. If this code starts with the letter 'c', it indicates a cancellation. \n",
    "- StockCode: Product (item) code. Nominal. A 5-digit integral number uniquely assigned to each distinct product. \n",
    "- Description: Product (item) name. Nominal. \n",
    "- Quantity: The quantities of each product (item) per transaction. Numeric.\t\n",
    "- InvoiceDate: Invice date and time. Numeric. The day and time when a transaction was generated. \n",
    "- UnitPrice: Unit price. Numeric. Product price per unit in sterling (Â£). \n",
    "- CustomerID: Customer number. Nominal. A 5-digit integral number uniquely assigned to each customer. \n",
    "- Country: Country name. Nominal. The name of the country where a customer resides."
   ]
  },
  {
   "cell_type": "markdown",
   "id": "2a7c0795",
   "metadata": {},
   "source": [
    "## Importing Libraries"
   ]
  },
  {
   "cell_type": "code",
   "execution_count": 191,
   "id": "ce9efebb",
   "metadata": {},
   "outputs": [],
   "source": [
    "import numpy as np \n",
    "import pandas as pd \n",
    "import matplotlib.pyplot as plt\n",
    "import datetime as dt\n",
    "import seaborn as sns\n",
    "from lifetimes import BetaGeoFitter\n",
    "from lifetimes import GammaGammaFitter\n",
    "from lifetimes.plotting import plot_period_transactions\n",
    "from sklearn.preprocessing import MinMaxScaler"
   ]
  },
  {
   "cell_type": "markdown",
   "id": "af5adec5",
   "metadata": {},
   "source": [
    "1. `BetaGeoFitter`: This class is used for modeling customer transactions in a probabilistic way. It is based on the Beta-Geometric (BG) model, which is suitable for scenarios where customers have a probability of dropping out after each transaction.\n",
    "<br>\n",
    "2. `GammaGammaFitter`: This class is used for modeling the monetary value of transactions. It assumes that the monetary value follows a gamma distribution. This is useful when you want to predict the future value of customers based on their historical purchasing behavior.\n",
    "<br>\n",
    "3. `plot_period_transactions`: This function is used for visualizing the number of transactions over time. It helps you understand the distribution of transactions and identify any patterns or trends."
   ]
  },
  {
   "cell_type": "markdown",
   "id": "62a36569",
   "metadata": {},
   "source": [
    "## Importing Data"
   ]
  },
  {
   "cell_type": "code",
   "execution_count": 192,
   "id": "07a88d3a",
   "metadata": {},
   "outputs": [],
   "source": [
    "# Read dfset\n",
    "df_ = pd.read_excel(\"data.xlsx\")\n",
    "df = df_.copy()"
   ]
  },
  {
   "cell_type": "code",
   "execution_count": 193,
   "id": "6de18eb5",
   "metadata": {},
   "outputs": [
    {
     "data": {
      "text/html": [
       "<div>\n",
       "<style scoped>\n",
       "    .dataframe tbody tr th:only-of-type {\n",
       "        vertical-align: middle;\n",
       "    }\n",
       "\n",
       "    .dataframe tbody tr th {\n",
       "        vertical-align: top;\n",
       "    }\n",
       "\n",
       "    .dataframe thead th {\n",
       "        text-align: right;\n",
       "    }\n",
       "</style>\n",
       "<table border=\"1\" class=\"dataframe\">\n",
       "  <thead>\n",
       "    <tr style=\"text-align: right;\">\n",
       "      <th></th>\n",
       "      <th>Invoice</th>\n",
       "      <th>StockCode</th>\n",
       "      <th>Description</th>\n",
       "      <th>Quantity</th>\n",
       "      <th>InvoiceDate</th>\n",
       "      <th>Price</th>\n",
       "      <th>Customer ID</th>\n",
       "      <th>Country</th>\n",
       "    </tr>\n",
       "  </thead>\n",
       "  <tbody>\n",
       "    <tr>\n",
       "      <th>0</th>\n",
       "      <td>536365</td>\n",
       "      <td>85123A</td>\n",
       "      <td>WHITE HANGING HEART T-LIGHT HOLDER</td>\n",
       "      <td>6</td>\n",
       "      <td>2010-12-01 08:26:00</td>\n",
       "      <td>2.55</td>\n",
       "      <td>17850.0</td>\n",
       "      <td>United Kingdom</td>\n",
       "    </tr>\n",
       "    <tr>\n",
       "      <th>1</th>\n",
       "      <td>536365</td>\n",
       "      <td>71053</td>\n",
       "      <td>WHITE METAL LANTERN</td>\n",
       "      <td>6</td>\n",
       "      <td>2010-12-01 08:26:00</td>\n",
       "      <td>3.39</td>\n",
       "      <td>17850.0</td>\n",
       "      <td>United Kingdom</td>\n",
       "    </tr>\n",
       "    <tr>\n",
       "      <th>2</th>\n",
       "      <td>536365</td>\n",
       "      <td>84406B</td>\n",
       "      <td>CREAM CUPID HEARTS COAT HANGER</td>\n",
       "      <td>8</td>\n",
       "      <td>2010-12-01 08:26:00</td>\n",
       "      <td>2.75</td>\n",
       "      <td>17850.0</td>\n",
       "      <td>United Kingdom</td>\n",
       "    </tr>\n",
       "    <tr>\n",
       "      <th>3</th>\n",
       "      <td>536365</td>\n",
       "      <td>84029G</td>\n",
       "      <td>KNITTED UNION FLAG HOT WATER BOTTLE</td>\n",
       "      <td>6</td>\n",
       "      <td>2010-12-01 08:26:00</td>\n",
       "      <td>3.39</td>\n",
       "      <td>17850.0</td>\n",
       "      <td>United Kingdom</td>\n",
       "    </tr>\n",
       "    <tr>\n",
       "      <th>4</th>\n",
       "      <td>536365</td>\n",
       "      <td>84029E</td>\n",
       "      <td>RED WOOLLY HOTTIE WHITE HEART.</td>\n",
       "      <td>6</td>\n",
       "      <td>2010-12-01 08:26:00</td>\n",
       "      <td>3.39</td>\n",
       "      <td>17850.0</td>\n",
       "      <td>United Kingdom</td>\n",
       "    </tr>\n",
       "  </tbody>\n",
       "</table>\n",
       "</div>"
      ],
      "text/plain": [
       "  Invoice StockCode                          Description  Quantity  \\\n",
       "0  536365    85123A   WHITE HANGING HEART T-LIGHT HOLDER         6   \n",
       "1  536365     71053                  WHITE METAL LANTERN         6   \n",
       "2  536365    84406B       CREAM CUPID HEARTS COAT HANGER         8   \n",
       "3  536365    84029G  KNITTED UNION FLAG HOT WATER BOTTLE         6   \n",
       "4  536365    84029E       RED WOOLLY HOTTIE WHITE HEART.         6   \n",
       "\n",
       "          InvoiceDate  Price  Customer ID         Country  \n",
       "0 2010-12-01 08:26:00   2.55      17850.0  United Kingdom  \n",
       "1 2010-12-01 08:26:00   3.39      17850.0  United Kingdom  \n",
       "2 2010-12-01 08:26:00   2.75      17850.0  United Kingdom  \n",
       "3 2010-12-01 08:26:00   3.39      17850.0  United Kingdom  \n",
       "4 2010-12-01 08:26:00   3.39      17850.0  United Kingdom  "
      ]
     },
     "execution_count": 193,
     "metadata": {},
     "output_type": "execute_result"
    }
   ],
   "source": [
    "df.head()"
   ]
  },
  {
   "cell_type": "code",
   "execution_count": 194,
   "id": "6f37f820",
   "metadata": {},
   "outputs": [
    {
     "data": {
      "text/plain": [
       "(100000, 8)"
      ]
     },
     "execution_count": 194,
     "metadata": {},
     "output_type": "execute_result"
    }
   ],
   "source": [
    "df.shape"
   ]
  },
  {
   "cell_type": "code",
   "execution_count": 195,
   "id": "693eb054",
   "metadata": {},
   "outputs": [
    {
     "name": "stdout",
     "output_type": "stream",
     "text": [
      "<class 'pandas.core.frame.DataFrame'>\n",
      "RangeIndex: 100000 entries, 0 to 99999\n",
      "Data columns (total 8 columns):\n",
      " #   Column       Non-Null Count   Dtype         \n",
      "---  ------       --------------   -----         \n",
      " 0   Invoice      100000 non-null  object        \n",
      " 1   StockCode    100000 non-null  object        \n",
      " 2   Description  99701 non-null   object        \n",
      " 3   Quantity     100000 non-null  int64         \n",
      " 4   InvoiceDate  100000 non-null  datetime64[ns]\n",
      " 5   Price        100000 non-null  float64       \n",
      " 6   Customer ID  65085 non-null   float64       \n",
      " 7   Country      100000 non-null  object        \n",
      "dtypes: datetime64[ns](1), float64(2), int64(1), object(4)\n",
      "memory usage: 6.1+ MB\n"
     ]
    }
   ],
   "source": [
    "df.info()"
   ]
  },
  {
   "cell_type": "code",
   "execution_count": 196,
   "id": "aacc5787",
   "metadata": {},
   "outputs": [
    {
     "data": {
      "text/html": [
       "<div>\n",
       "<style scoped>\n",
       "    .dataframe tbody tr th:only-of-type {\n",
       "        vertical-align: middle;\n",
       "    }\n",
       "\n",
       "    .dataframe tbody tr th {\n",
       "        vertical-align: top;\n",
       "    }\n",
       "\n",
       "    .dataframe thead th {\n",
       "        text-align: right;\n",
       "    }\n",
       "</style>\n",
       "<table border=\"1\" class=\"dataframe\">\n",
       "  <thead>\n",
       "    <tr style=\"text-align: right;\">\n",
       "      <th></th>\n",
       "      <th>Quantity</th>\n",
       "      <th>InvoiceDate</th>\n",
       "      <th>Price</th>\n",
       "      <th>Customer ID</th>\n",
       "    </tr>\n",
       "  </thead>\n",
       "  <tbody>\n",
       "    <tr>\n",
       "      <th>count</th>\n",
       "      <td>100000.00000</td>\n",
       "      <td>100000</td>\n",
       "      <td>100000.000000</td>\n",
       "      <td>65085.000000</td>\n",
       "    </tr>\n",
       "    <tr>\n",
       "      <th>mean</th>\n",
       "      <td>8.89292</td>\n",
       "      <td>2011-01-07 05:17:41.038200064</td>\n",
       "      <td>5.396608</td>\n",
       "      <td>15351.001583</td>\n",
       "    </tr>\n",
       "    <tr>\n",
       "      <th>min</th>\n",
       "      <td>-74215.00000</td>\n",
       "      <td>2010-12-01 08:26:00</td>\n",
       "      <td>0.000000</td>\n",
       "      <td>12346.000000</td>\n",
       "    </tr>\n",
       "    <tr>\n",
       "      <th>25%</th>\n",
       "      <td>1.00000</td>\n",
       "      <td>2010-12-10 15:17:00</td>\n",
       "      <td>1.250000</td>\n",
       "      <td>13869.000000</td>\n",
       "    </tr>\n",
       "    <tr>\n",
       "      <th>50%</th>\n",
       "      <td>3.00000</td>\n",
       "      <td>2011-01-09 15:15:30</td>\n",
       "      <td>2.510000</td>\n",
       "      <td>15311.000000</td>\n",
       "    </tr>\n",
       "    <tr>\n",
       "      <th>75%</th>\n",
       "      <td>8.00000</td>\n",
       "      <td>2011-01-28 13:54:00</td>\n",
       "      <td>4.250000</td>\n",
       "      <td>16997.000000</td>\n",
       "    </tr>\n",
       "    <tr>\n",
       "      <th>max</th>\n",
       "      <td>74215.00000</td>\n",
       "      <td>2011-02-23 13:37:00</td>\n",
       "      <td>16888.020000</td>\n",
       "      <td>18283.000000</td>\n",
       "    </tr>\n",
       "    <tr>\n",
       "      <th>std</th>\n",
       "      <td>336.56270</td>\n",
       "      <td>NaN</td>\n",
       "      <td>120.891000</td>\n",
       "      <td>1769.756387</td>\n",
       "    </tr>\n",
       "  </tbody>\n",
       "</table>\n",
       "</div>"
      ],
      "text/plain": [
       "           Quantity                    InvoiceDate          Price  \\\n",
       "count  100000.00000                         100000  100000.000000   \n",
       "mean        8.89292  2011-01-07 05:17:41.038200064       5.396608   \n",
       "min    -74215.00000            2010-12-01 08:26:00       0.000000   \n",
       "25%         1.00000            2010-12-10 15:17:00       1.250000   \n",
       "50%         3.00000            2011-01-09 15:15:30       2.510000   \n",
       "75%         8.00000            2011-01-28 13:54:00       4.250000   \n",
       "max     74215.00000            2011-02-23 13:37:00   16888.020000   \n",
       "std       336.56270                            NaN     120.891000   \n",
       "\n",
       "        Customer ID  \n",
       "count  65085.000000  \n",
       "mean   15351.001583  \n",
       "min    12346.000000  \n",
       "25%    13869.000000  \n",
       "50%    15311.000000  \n",
       "75%    16997.000000  \n",
       "max    18283.000000  \n",
       "std     1769.756387  "
      ]
     },
     "execution_count": 196,
     "metadata": {},
     "output_type": "execute_result"
    }
   ],
   "source": [
    "df.describe()"
   ]
  },
  {
   "cell_type": "code",
   "execution_count": 197,
   "id": "5e52fa04",
   "metadata": {},
   "outputs": [
    {
     "data": {
      "text/plain": [
       "Invoice            0\n",
       "StockCode          0\n",
       "Description      299\n",
       "Quantity           0\n",
       "InvoiceDate        0\n",
       "Price              0\n",
       "Customer ID    34915\n",
       "Country            0\n",
       "dtype: int64"
      ]
     },
     "execution_count": 197,
     "metadata": {},
     "output_type": "execute_result"
    }
   ],
   "source": [
    "df.isnull().sum()"
   ]
  },
  {
   "cell_type": "code",
   "execution_count": 198,
   "id": "c98c127f",
   "metadata": {},
   "outputs": [
    {
     "data": {
      "text/plain": [
       "1664"
      ]
     },
     "execution_count": 198,
     "metadata": {},
     "output_type": "execute_result"
    }
   ],
   "source": [
    "# Number of Customer in the dfset.\n",
    "df[\"Customer ID\"].nunique()"
   ]
  },
  {
   "cell_type": "code",
   "execution_count": 199,
   "id": "71d6fa1d",
   "metadata": {},
   "outputs": [
    {
     "data": {
      "text/plain": [
       "4657"
      ]
     },
     "execution_count": 199,
     "metadata": {},
     "output_type": "execute_result"
    }
   ],
   "source": [
    "# Number of Invoice in the dfset.\n",
    "df[\"Invoice\"].nunique()"
   ]
  },
  {
   "cell_type": "code",
   "execution_count": 200,
   "id": "3823c1bf",
   "metadata": {},
   "outputs": [
    {
     "data": {
      "text/plain": [
       "889292"
      ]
     },
     "execution_count": 200,
     "metadata": {},
     "output_type": "execute_result"
    }
   ],
   "source": [
    "# Total number of products sold in the dfset\n",
    "df[\"Quantity\"].sum()"
   ]
  },
  {
   "cell_type": "code",
   "execution_count": 201,
   "id": "2ba8b48a",
   "metadata": {},
   "outputs": [
    {
     "data": {
      "text/plain": [
       "1727708"
      ]
     },
     "execution_count": 201,
     "metadata": {},
     "output_type": "execute_result"
    }
   ],
   "source": [
    "# Total revenue in the dfset\n",
    "(df[\"Quantity\"] * df[\"Price\"]).sum().astype(int)"
   ]
  },
  {
   "cell_type": "code",
   "execution_count": 202,
   "id": "6008e703",
   "metadata": {},
   "outputs": [
    {
     "data": {
      "text/plain": [
       "99701"
      ]
     },
     "execution_count": 202,
     "metadata": {},
     "output_type": "execute_result"
    }
   ],
   "source": [
    "# Total number of product in the dfset.\n",
    "df[\"Description\"].count()"
   ]
  },
  {
   "cell_type": "code",
   "execution_count": 203,
   "id": "f3e0ec55",
   "metadata": {},
   "outputs": [
    {
     "data": {
      "text/html": [
       "<div>\n",
       "<style scoped>\n",
       "    .dataframe tbody tr th:only-of-type {\n",
       "        vertical-align: middle;\n",
       "    }\n",
       "\n",
       "    .dataframe tbody tr th {\n",
       "        vertical-align: top;\n",
       "    }\n",
       "\n",
       "    .dataframe thead th {\n",
       "        text-align: right;\n",
       "    }\n",
       "</style>\n",
       "<table border=\"1\" class=\"dataframe\">\n",
       "  <thead>\n",
       "    <tr style=\"text-align: right;\">\n",
       "      <th></th>\n",
       "      <th>Invoice</th>\n",
       "      <th>StockCode</th>\n",
       "      <th>Description</th>\n",
       "      <th>Quantity</th>\n",
       "      <th>InvoiceDate</th>\n",
       "      <th>Price</th>\n",
       "      <th>Customer ID</th>\n",
       "      <th>Country</th>\n",
       "    </tr>\n",
       "  </thead>\n",
       "  <tbody>\n",
       "    <tr>\n",
       "      <th>43702</th>\n",
       "      <td>C540117</td>\n",
       "      <td>AMAZONFEE</td>\n",
       "      <td>AMAZON FEE</td>\n",
       "      <td>-1</td>\n",
       "      <td>2011-01-05 09:55:00</td>\n",
       "      <td>16888.02</td>\n",
       "      <td>NaN</td>\n",
       "      <td>United Kingdom</td>\n",
       "    </tr>\n",
       "    <tr>\n",
       "      <th>43703</th>\n",
       "      <td>C540118</td>\n",
       "      <td>AMAZONFEE</td>\n",
       "      <td>AMAZON FEE</td>\n",
       "      <td>-1</td>\n",
       "      <td>2011-01-05 09:57:00</td>\n",
       "      <td>16453.71</td>\n",
       "      <td>NaN</td>\n",
       "      <td>United Kingdom</td>\n",
       "    </tr>\n",
       "    <tr>\n",
       "      <th>15016</th>\n",
       "      <td>C537630</td>\n",
       "      <td>AMAZONFEE</td>\n",
       "      <td>AMAZON FEE</td>\n",
       "      <td>-1</td>\n",
       "      <td>2010-12-07 15:04:00</td>\n",
       "      <td>13541.33</td>\n",
       "      <td>NaN</td>\n",
       "      <td>United Kingdom</td>\n",
       "    </tr>\n",
       "    <tr>\n",
       "      <th>16356</th>\n",
       "      <td>C537651</td>\n",
       "      <td>AMAZONFEE</td>\n",
       "      <td>AMAZON FEE</td>\n",
       "      <td>-1</td>\n",
       "      <td>2010-12-07 15:49:00</td>\n",
       "      <td>13541.33</td>\n",
       "      <td>NaN</td>\n",
       "      <td>United Kingdom</td>\n",
       "    </tr>\n",
       "    <tr>\n",
       "      <th>15017</th>\n",
       "      <td>537632</td>\n",
       "      <td>AMAZONFEE</td>\n",
       "      <td>AMAZON FEE</td>\n",
       "      <td>1</td>\n",
       "      <td>2010-12-07 15:08:00</td>\n",
       "      <td>13541.33</td>\n",
       "      <td>NaN</td>\n",
       "      <td>United Kingdom</td>\n",
       "    </tr>\n",
       "  </tbody>\n",
       "</table>\n",
       "</div>"
      ],
      "text/plain": [
       "       Invoice  StockCode Description  Quantity         InvoiceDate     Price  \\\n",
       "43702  C540117  AMAZONFEE  AMAZON FEE        -1 2011-01-05 09:55:00  16888.02   \n",
       "43703  C540118  AMAZONFEE  AMAZON FEE        -1 2011-01-05 09:57:00  16453.71   \n",
       "15016  C537630  AMAZONFEE  AMAZON FEE        -1 2010-12-07 15:04:00  13541.33   \n",
       "16356  C537651  AMAZONFEE  AMAZON FEE        -1 2010-12-07 15:49:00  13541.33   \n",
       "15017   537632  AMAZONFEE  AMAZON FEE         1 2010-12-07 15:08:00  13541.33   \n",
       "\n",
       "       Customer ID         Country  \n",
       "43702          NaN  United Kingdom  \n",
       "43703          NaN  United Kingdom  \n",
       "15016          NaN  United Kingdom  \n",
       "16356          NaN  United Kingdom  \n",
       "15017          NaN  United Kingdom  "
      ]
     },
     "execution_count": 203,
     "metadata": {},
     "output_type": "execute_result"
    }
   ],
   "source": [
    "# dfset ordered from highest price to lowest price\n",
    "df.sort_values(by = \"Price\", ascending  = False).head()"
   ]
  },
  {
   "cell_type": "code",
   "execution_count": 204,
   "id": "f605759e",
   "metadata": {},
   "outputs": [
    {
     "data": {
      "text/html": [
       "<div>\n",
       "<style scoped>\n",
       "    .dataframe tbody tr th:only-of-type {\n",
       "        vertical-align: middle;\n",
       "    }\n",
       "\n",
       "    .dataframe tbody tr th {\n",
       "        vertical-align: top;\n",
       "    }\n",
       "\n",
       "    .dataframe thead th {\n",
       "        text-align: right;\n",
       "    }\n",
       "</style>\n",
       "<table border=\"1\" class=\"dataframe\">\n",
       "  <thead>\n",
       "    <tr style=\"text-align: right;\">\n",
       "      <th></th>\n",
       "      <th>Invoice</th>\n",
       "      <th>StockCode</th>\n",
       "      <th>Description</th>\n",
       "      <th>Quantity</th>\n",
       "      <th>InvoiceDate</th>\n",
       "      <th>Price</th>\n",
       "      <th>Customer ID</th>\n",
       "      <th>Country</th>\n",
       "    </tr>\n",
       "  </thead>\n",
       "  <tbody>\n",
       "    <tr>\n",
       "      <th>23804</th>\n",
       "      <td>538249</td>\n",
       "      <td>85084</td>\n",
       "      <td>NaN</td>\n",
       "      <td>25</td>\n",
       "      <td>2010-12-10 12:19:00</td>\n",
       "      <td>0.0</td>\n",
       "      <td>NaN</td>\n",
       "      <td>United Kingdom</td>\n",
       "    </tr>\n",
       "    <tr>\n",
       "      <th>82794</th>\n",
       "      <td>543257</td>\n",
       "      <td>84611B</td>\n",
       "      <td>thrown away</td>\n",
       "      <td>-1430</td>\n",
       "      <td>2011-02-04 16:06:00</td>\n",
       "      <td>0.0</td>\n",
       "      <td>NaN</td>\n",
       "      <td>United Kingdom</td>\n",
       "    </tr>\n",
       "    <tr>\n",
       "      <th>82795</th>\n",
       "      <td>543258</td>\n",
       "      <td>84611B</td>\n",
       "      <td>NaN</td>\n",
       "      <td>1287</td>\n",
       "      <td>2011-02-04 16:06:00</td>\n",
       "      <td>0.0</td>\n",
       "      <td>NaN</td>\n",
       "      <td>United Kingdom</td>\n",
       "    </tr>\n",
       "    <tr>\n",
       "      <th>82796</th>\n",
       "      <td>543259</td>\n",
       "      <td>84612B</td>\n",
       "      <td>thrown away</td>\n",
       "      <td>-162</td>\n",
       "      <td>2011-02-04 16:07:00</td>\n",
       "      <td>0.0</td>\n",
       "      <td>NaN</td>\n",
       "      <td>United Kingdom</td>\n",
       "    </tr>\n",
       "    <tr>\n",
       "      <th>82797</th>\n",
       "      <td>543260</td>\n",
       "      <td>84613A</td>\n",
       "      <td>thrown away</td>\n",
       "      <td>-230</td>\n",
       "      <td>2011-02-04 16:07:00</td>\n",
       "      <td>0.0</td>\n",
       "      <td>NaN</td>\n",
       "      <td>United Kingdom</td>\n",
       "    </tr>\n",
       "  </tbody>\n",
       "</table>\n",
       "</div>"
      ],
      "text/plain": [
       "      Invoice StockCode  Description  Quantity         InvoiceDate  Price  \\\n",
       "23804  538249     85084          NaN        25 2010-12-10 12:19:00    0.0   \n",
       "82794  543257    84611B  thrown away     -1430 2011-02-04 16:06:00    0.0   \n",
       "82795  543258    84611B          NaN      1287 2011-02-04 16:06:00    0.0   \n",
       "82796  543259    84612B  thrown away      -162 2011-02-04 16:07:00    0.0   \n",
       "82797  543260    84613A  thrown away      -230 2011-02-04 16:07:00    0.0   \n",
       "\n",
       "       Customer ID         Country  \n",
       "23804          NaN  United Kingdom  \n",
       "82794          NaN  United Kingdom  \n",
       "82795          NaN  United Kingdom  \n",
       "82796          NaN  United Kingdom  \n",
       "82797          NaN  United Kingdom  "
      ]
     },
     "execution_count": 204,
     "metadata": {},
     "output_type": "execute_result"
    }
   ],
   "source": [
    "# dfset ordered from lowest price to highest price\n",
    "df.sort_values(by = \"Price\", ascending  = True).head()"
   ]
  },
  {
   "cell_type": "markdown",
   "id": "1d2bd608",
   "metadata": {},
   "source": [
    "## Data Cleaning"
   ]
  },
  {
   "cell_type": "code",
   "execution_count": 205,
   "id": "191126bc",
   "metadata": {},
   "outputs": [],
   "source": [
    "# Changing the type of the 'InvoiceDate' column\n",
    "df[\"InvoiceDate\"] = df[\"InvoiceDate\"].apply(pd.to_datetime)"
   ]
  },
  {
   "cell_type": "code",
   "execution_count": 206,
   "id": "cace1c92",
   "metadata": {},
   "outputs": [
    {
     "name": "stdout",
     "output_type": "stream",
     "text": [
      "<class 'pandas.core.frame.DataFrame'>\n",
      "RangeIndex: 100000 entries, 0 to 99999\n",
      "Data columns (total 8 columns):\n",
      " #   Column       Non-Null Count   Dtype         \n",
      "---  ------       --------------   -----         \n",
      " 0   Invoice      100000 non-null  object        \n",
      " 1   StockCode    100000 non-null  object        \n",
      " 2   Description  99701 non-null   object        \n",
      " 3   Quantity     100000 non-null  int64         \n",
      " 4   InvoiceDate  100000 non-null  datetime64[ns]\n",
      " 5   Price        100000 non-null  float64       \n",
      " 6   Customer ID  65085 non-null   float64       \n",
      " 7   Country      100000 non-null  object        \n",
      "dtypes: datetime64[ns](1), float64(2), int64(1), object(4)\n",
      "memory usage: 6.1+ MB\n"
     ]
    }
   ],
   "source": [
    "df.info()"
   ]
  },
  {
   "cell_type": "code",
   "execution_count": 207,
   "id": "92355c0b",
   "metadata": {},
   "outputs": [],
   "source": [
    "# Dropping the null values in the dfset. (\"Customer ID is an important column cannot have null values\")\n",
    "df.dropna(inplace = True)"
   ]
  },
  {
   "cell_type": "code",
   "execution_count": 208,
   "id": "6b7bbea3",
   "metadata": {},
   "outputs": [
    {
     "name": "stdout",
     "output_type": "stream",
     "text": [
      "<class 'pandas.core.frame.DataFrame'>\n",
      "Index: 65085 entries, 0 to 99999\n",
      "Data columns (total 8 columns):\n",
      " #   Column       Non-Null Count  Dtype         \n",
      "---  ------       --------------  -----         \n",
      " 0   Invoice      65085 non-null  object        \n",
      " 1   StockCode    65085 non-null  object        \n",
      " 2   Description  65085 non-null  object        \n",
      " 3   Quantity     65085 non-null  int64         \n",
      " 4   InvoiceDate  65085 non-null  datetime64[ns]\n",
      " 5   Price        65085 non-null  float64       \n",
      " 6   Customer ID  65085 non-null  float64       \n",
      " 7   Country      65085 non-null  object        \n",
      "dtypes: datetime64[ns](1), float64(2), int64(1), object(4)\n",
      "memory usage: 4.5+ MB\n"
     ]
    }
   ],
   "source": [
    "df.info() "
   ]
  },
  {
   "cell_type": "code",
   "execution_count": 209,
   "id": "33e99341",
   "metadata": {},
   "outputs": [
    {
     "data": {
      "text/html": [
       "<div>\n",
       "<style scoped>\n",
       "    .dataframe tbody tr th:only-of-type {\n",
       "        vertical-align: middle;\n",
       "    }\n",
       "\n",
       "    .dataframe tbody tr th {\n",
       "        vertical-align: top;\n",
       "    }\n",
       "\n",
       "    .dataframe thead th {\n",
       "        text-align: right;\n",
       "    }\n",
       "</style>\n",
       "<table border=\"1\" class=\"dataframe\">\n",
       "  <thead>\n",
       "    <tr style=\"text-align: right;\">\n",
       "      <th></th>\n",
       "      <th>Invoice</th>\n",
       "      <th>StockCode</th>\n",
       "      <th>Description</th>\n",
       "      <th>Quantity</th>\n",
       "      <th>InvoiceDate</th>\n",
       "      <th>Price</th>\n",
       "      <th>Customer ID</th>\n",
       "      <th>Country</th>\n",
       "    </tr>\n",
       "  </thead>\n",
       "  <tbody>\n",
       "    <tr>\n",
       "      <th>0</th>\n",
       "      <td>536365</td>\n",
       "      <td>85123A</td>\n",
       "      <td>WHITE HANGING HEART T-LIGHT HOLDER</td>\n",
       "      <td>6</td>\n",
       "      <td>2010-12-01 08:26:00</td>\n",
       "      <td>2.55</td>\n",
       "      <td>17850.0</td>\n",
       "      <td>United Kingdom</td>\n",
       "    </tr>\n",
       "    <tr>\n",
       "      <th>1</th>\n",
       "      <td>536365</td>\n",
       "      <td>71053</td>\n",
       "      <td>WHITE METAL LANTERN</td>\n",
       "      <td>6</td>\n",
       "      <td>2010-12-01 08:26:00</td>\n",
       "      <td>3.39</td>\n",
       "      <td>17850.0</td>\n",
       "      <td>United Kingdom</td>\n",
       "    </tr>\n",
       "    <tr>\n",
       "      <th>2</th>\n",
       "      <td>536365</td>\n",
       "      <td>84406B</td>\n",
       "      <td>CREAM CUPID HEARTS COAT HANGER</td>\n",
       "      <td>8</td>\n",
       "      <td>2010-12-01 08:26:00</td>\n",
       "      <td>2.75</td>\n",
       "      <td>17850.0</td>\n",
       "      <td>United Kingdom</td>\n",
       "    </tr>\n",
       "    <tr>\n",
       "      <th>3</th>\n",
       "      <td>536365</td>\n",
       "      <td>84029G</td>\n",
       "      <td>KNITTED UNION FLAG HOT WATER BOTTLE</td>\n",
       "      <td>6</td>\n",
       "      <td>2010-12-01 08:26:00</td>\n",
       "      <td>3.39</td>\n",
       "      <td>17850.0</td>\n",
       "      <td>United Kingdom</td>\n",
       "    </tr>\n",
       "    <tr>\n",
       "      <th>4</th>\n",
       "      <td>536365</td>\n",
       "      <td>84029E</td>\n",
       "      <td>RED WOOLLY HOTTIE WHITE HEART.</td>\n",
       "      <td>6</td>\n",
       "      <td>2010-12-01 08:26:00</td>\n",
       "      <td>3.39</td>\n",
       "      <td>17850.0</td>\n",
       "      <td>United Kingdom</td>\n",
       "    </tr>\n",
       "  </tbody>\n",
       "</table>\n",
       "</div>"
      ],
      "text/plain": [
       "  Invoice StockCode                          Description  Quantity  \\\n",
       "0  536365    85123A   WHITE HANGING HEART T-LIGHT HOLDER         6   \n",
       "1  536365     71053                  WHITE METAL LANTERN         6   \n",
       "2  536365    84406B       CREAM CUPID HEARTS COAT HANGER         8   \n",
       "3  536365    84029G  KNITTED UNION FLAG HOT WATER BOTTLE         6   \n",
       "4  536365    84029E       RED WOOLLY HOTTIE WHITE HEART.         6   \n",
       "\n",
       "          InvoiceDate  Price  Customer ID         Country  \n",
       "0 2010-12-01 08:26:00   2.55      17850.0  United Kingdom  \n",
       "1 2010-12-01 08:26:00   3.39      17850.0  United Kingdom  \n",
       "2 2010-12-01 08:26:00   2.75      17850.0  United Kingdom  \n",
       "3 2010-12-01 08:26:00   3.39      17850.0  United Kingdom  \n",
       "4 2010-12-01 08:26:00   3.39      17850.0  United Kingdom  "
      ]
     },
     "execution_count": 209,
     "metadata": {},
     "output_type": "execute_result"
    }
   ],
   "source": [
    "df.head()"
   ]
  },
  {
   "cell_type": "code",
   "execution_count": 210,
   "id": "77eb0fd4",
   "metadata": {},
   "outputs": [
    {
     "data": {
      "text/html": [
       "<div>\n",
       "<style scoped>\n",
       "    .dataframe tbody tr th:only-of-type {\n",
       "        vertical-align: middle;\n",
       "    }\n",
       "\n",
       "    .dataframe tbody tr th {\n",
       "        vertical-align: top;\n",
       "    }\n",
       "\n",
       "    .dataframe thead th {\n",
       "        text-align: right;\n",
       "    }\n",
       "</style>\n",
       "<table border=\"1\" class=\"dataframe\">\n",
       "  <thead>\n",
       "    <tr style=\"text-align: right;\">\n",
       "      <th></th>\n",
       "      <th>Invoice</th>\n",
       "      <th>StockCode</th>\n",
       "      <th>Description</th>\n",
       "      <th>Quantity</th>\n",
       "      <th>InvoiceDate</th>\n",
       "      <th>Price</th>\n",
       "      <th>Customer ID</th>\n",
       "      <th>Country</th>\n",
       "    </tr>\n",
       "  </thead>\n",
       "  <tbody>\n",
       "    <tr>\n",
       "      <th>141</th>\n",
       "      <td>C536379</td>\n",
       "      <td>D</td>\n",
       "      <td>Discount</td>\n",
       "      <td>-1</td>\n",
       "      <td>2010-12-01 09:41:00</td>\n",
       "      <td>27.50</td>\n",
       "      <td>14527.0</td>\n",
       "      <td>United Kingdom</td>\n",
       "    </tr>\n",
       "    <tr>\n",
       "      <th>154</th>\n",
       "      <td>C536383</td>\n",
       "      <td>35004C</td>\n",
       "      <td>SET OF 3 COLOURED  FLYING DUCKS</td>\n",
       "      <td>-1</td>\n",
       "      <td>2010-12-01 09:49:00</td>\n",
       "      <td>4.65</td>\n",
       "      <td>15311.0</td>\n",
       "      <td>United Kingdom</td>\n",
       "    </tr>\n",
       "    <tr>\n",
       "      <th>235</th>\n",
       "      <td>C536391</td>\n",
       "      <td>22556</td>\n",
       "      <td>PLASTERS IN TIN CIRCUS PARADE</td>\n",
       "      <td>-12</td>\n",
       "      <td>2010-12-01 10:24:00</td>\n",
       "      <td>1.65</td>\n",
       "      <td>17548.0</td>\n",
       "      <td>United Kingdom</td>\n",
       "    </tr>\n",
       "    <tr>\n",
       "      <th>236</th>\n",
       "      <td>C536391</td>\n",
       "      <td>21984</td>\n",
       "      <td>PACK OF 12 PINK PAISLEY TISSUES</td>\n",
       "      <td>-24</td>\n",
       "      <td>2010-12-01 10:24:00</td>\n",
       "      <td>0.29</td>\n",
       "      <td>17548.0</td>\n",
       "      <td>United Kingdom</td>\n",
       "    </tr>\n",
       "    <tr>\n",
       "      <th>237</th>\n",
       "      <td>C536391</td>\n",
       "      <td>21983</td>\n",
       "      <td>PACK OF 12 BLUE PAISLEY TISSUES</td>\n",
       "      <td>-24</td>\n",
       "      <td>2010-12-01 10:24:00</td>\n",
       "      <td>0.29</td>\n",
       "      <td>17548.0</td>\n",
       "      <td>United Kingdom</td>\n",
       "    </tr>\n",
       "  </tbody>\n",
       "</table>\n",
       "</div>"
      ],
      "text/plain": [
       "     Invoice StockCode                       Description  Quantity  \\\n",
       "141  C536379         D                          Discount        -1   \n",
       "154  C536383    35004C   SET OF 3 COLOURED  FLYING DUCKS        -1   \n",
       "235  C536391     22556    PLASTERS IN TIN CIRCUS PARADE        -12   \n",
       "236  C536391     21984  PACK OF 12 PINK PAISLEY TISSUES        -24   \n",
       "237  C536391     21983  PACK OF 12 BLUE PAISLEY TISSUES        -24   \n",
       "\n",
       "            InvoiceDate  Price  Customer ID         Country  \n",
       "141 2010-12-01 09:41:00  27.50      14527.0  United Kingdom  \n",
       "154 2010-12-01 09:49:00   4.65      15311.0  United Kingdom  \n",
       "235 2010-12-01 10:24:00   1.65      17548.0  United Kingdom  \n",
       "236 2010-12-01 10:24:00   0.29      17548.0  United Kingdom  \n",
       "237 2010-12-01 10:24:00   0.29      17548.0  United Kingdom  "
      ]
     },
     "execution_count": 210,
     "metadata": {},
     "output_type": "execute_result"
    }
   ],
   "source": [
    "df[df[\"Quantity\"] < 0].head() # return invoices starting with \"C\""
   ]
  },
  {
   "cell_type": "code",
   "execution_count": 211,
   "id": "be251bea",
   "metadata": {},
   "outputs": [],
   "source": [
    "# removing them\n",
    "df = df[~df[\"Invoice\"].str.contains(\"C\", na = False)]"
   ]
  },
  {
   "cell_type": "code",
   "execution_count": 212,
   "id": "d0699bf3",
   "metadata": {},
   "outputs": [
    {
     "name": "stdout",
     "output_type": "stream",
     "text": [
      "<class 'pandas.core.frame.DataFrame'>\n",
      "Index: 63314 entries, 0 to 99999\n",
      "Data columns (total 8 columns):\n",
      " #   Column       Non-Null Count  Dtype         \n",
      "---  ------       --------------  -----         \n",
      " 0   Invoice      63314 non-null  object        \n",
      " 1   StockCode    63314 non-null  object        \n",
      " 2   Description  63314 non-null  object        \n",
      " 3   Quantity     63314 non-null  int64         \n",
      " 4   InvoiceDate  63314 non-null  datetime64[ns]\n",
      " 5   Price        63314 non-null  float64       \n",
      " 6   Customer ID  63314 non-null  float64       \n",
      " 7   Country      63314 non-null  object        \n",
      "dtypes: datetime64[ns](1), float64(2), int64(1), object(4)\n",
      "memory usage: 4.3+ MB\n"
     ]
    }
   ],
   "source": [
    "df.info()"
   ]
  },
  {
   "cell_type": "code",
   "execution_count": 213,
   "id": "ceda6cd4",
   "metadata": {},
   "outputs": [
    {
     "data": {
      "text/html": [
       "<div>\n",
       "<style scoped>\n",
       "    .dataframe tbody tr th:only-of-type {\n",
       "        vertical-align: middle;\n",
       "    }\n",
       "\n",
       "    .dataframe tbody tr th {\n",
       "        vertical-align: top;\n",
       "    }\n",
       "\n",
       "    .dataframe thead th {\n",
       "        text-align: right;\n",
       "    }\n",
       "</style>\n",
       "<table border=\"1\" class=\"dataframe\">\n",
       "  <thead>\n",
       "    <tr style=\"text-align: right;\">\n",
       "      <th></th>\n",
       "      <th>Invoice</th>\n",
       "      <th>StockCode</th>\n",
       "      <th>Description</th>\n",
       "      <th>Quantity</th>\n",
       "      <th>InvoiceDate</th>\n",
       "      <th>Price</th>\n",
       "      <th>Customer ID</th>\n",
       "      <th>Country</th>\n",
       "    </tr>\n",
       "  </thead>\n",
       "  <tbody>\n",
       "  </tbody>\n",
       "</table>\n",
       "</div>"
      ],
      "text/plain": [
       "Empty DataFrame\n",
       "Columns: [Invoice, StockCode, Description, Quantity, InvoiceDate, Price, Customer ID, Country]\n",
       "Index: []"
      ]
     },
     "execution_count": 213,
     "metadata": {},
     "output_type": "execute_result"
    }
   ],
   "source": [
    "df[df[\"Quantity\"] < 0]"
   ]
  },
  {
   "cell_type": "code",
   "execution_count": 214,
   "id": "9ef185cc",
   "metadata": {},
   "outputs": [
    {
     "data": {
      "text/html": [
       "<div>\n",
       "<style scoped>\n",
       "    .dataframe tbody tr th:only-of-type {\n",
       "        vertical-align: middle;\n",
       "    }\n",
       "\n",
       "    .dataframe tbody tr th {\n",
       "        vertical-align: top;\n",
       "    }\n",
       "\n",
       "    .dataframe thead th {\n",
       "        text-align: right;\n",
       "    }\n",
       "</style>\n",
       "<table border=\"1\" class=\"dataframe\">\n",
       "  <thead>\n",
       "    <tr style=\"text-align: right;\">\n",
       "      <th></th>\n",
       "      <th>Invoice</th>\n",
       "      <th>StockCode</th>\n",
       "      <th>Description</th>\n",
       "      <th>Quantity</th>\n",
       "      <th>InvoiceDate</th>\n",
       "      <th>Price</th>\n",
       "      <th>Customer ID</th>\n",
       "      <th>Country</th>\n",
       "    </tr>\n",
       "  </thead>\n",
       "  <tbody>\n",
       "  </tbody>\n",
       "</table>\n",
       "</div>"
      ],
      "text/plain": [
       "Empty DataFrame\n",
       "Columns: [Invoice, StockCode, Description, Quantity, InvoiceDate, Price, Customer ID, Country]\n",
       "Index: []"
      ]
     },
     "execution_count": 214,
     "metadata": {},
     "output_type": "execute_result"
    }
   ],
   "source": [
    "df[df[\"Price\"] < 0]"
   ]
  },
  {
   "cell_type": "markdown",
   "id": "23f6efa8",
   "metadata": {},
   "source": [
    "## Feature Engineering"
   ]
  },
  {
   "cell_type": "code",
   "execution_count": 215,
   "id": "3b920fc3",
   "metadata": {},
   "outputs": [],
   "source": [
    "# Calculating total price and adding it.\n",
    "df[\"Total_Prize\"] = df[\"Quantity\"] * df[\"Price\"]"
   ]
  },
  {
   "cell_type": "code",
   "execution_count": 216,
   "id": "4178b5be",
   "metadata": {},
   "outputs": [
    {
     "data": {
      "text/html": [
       "<div>\n",
       "<style scoped>\n",
       "    .dataframe tbody tr th:only-of-type {\n",
       "        vertical-align: middle;\n",
       "    }\n",
       "\n",
       "    .dataframe tbody tr th {\n",
       "        vertical-align: top;\n",
       "    }\n",
       "\n",
       "    .dataframe thead th {\n",
       "        text-align: right;\n",
       "    }\n",
       "</style>\n",
       "<table border=\"1\" class=\"dataframe\">\n",
       "  <thead>\n",
       "    <tr style=\"text-align: right;\">\n",
       "      <th></th>\n",
       "      <th>Invoice</th>\n",
       "      <th>StockCode</th>\n",
       "      <th>Description</th>\n",
       "      <th>Quantity</th>\n",
       "      <th>InvoiceDate</th>\n",
       "      <th>Price</th>\n",
       "      <th>Customer ID</th>\n",
       "      <th>Country</th>\n",
       "      <th>Total_Prize</th>\n",
       "    </tr>\n",
       "  </thead>\n",
       "  <tbody>\n",
       "    <tr>\n",
       "      <th>0</th>\n",
       "      <td>536365</td>\n",
       "      <td>85123A</td>\n",
       "      <td>WHITE HANGING HEART T-LIGHT HOLDER</td>\n",
       "      <td>6</td>\n",
       "      <td>2010-12-01 08:26:00</td>\n",
       "      <td>2.55</td>\n",
       "      <td>17850.0</td>\n",
       "      <td>United Kingdom</td>\n",
       "      <td>15.30</td>\n",
       "    </tr>\n",
       "    <tr>\n",
       "      <th>1</th>\n",
       "      <td>536365</td>\n",
       "      <td>71053</td>\n",
       "      <td>WHITE METAL LANTERN</td>\n",
       "      <td>6</td>\n",
       "      <td>2010-12-01 08:26:00</td>\n",
       "      <td>3.39</td>\n",
       "      <td>17850.0</td>\n",
       "      <td>United Kingdom</td>\n",
       "      <td>20.34</td>\n",
       "    </tr>\n",
       "    <tr>\n",
       "      <th>2</th>\n",
       "      <td>536365</td>\n",
       "      <td>84406B</td>\n",
       "      <td>CREAM CUPID HEARTS COAT HANGER</td>\n",
       "      <td>8</td>\n",
       "      <td>2010-12-01 08:26:00</td>\n",
       "      <td>2.75</td>\n",
       "      <td>17850.0</td>\n",
       "      <td>United Kingdom</td>\n",
       "      <td>22.00</td>\n",
       "    </tr>\n",
       "    <tr>\n",
       "      <th>3</th>\n",
       "      <td>536365</td>\n",
       "      <td>84029G</td>\n",
       "      <td>KNITTED UNION FLAG HOT WATER BOTTLE</td>\n",
       "      <td>6</td>\n",
       "      <td>2010-12-01 08:26:00</td>\n",
       "      <td>3.39</td>\n",
       "      <td>17850.0</td>\n",
       "      <td>United Kingdom</td>\n",
       "      <td>20.34</td>\n",
       "    </tr>\n",
       "    <tr>\n",
       "      <th>4</th>\n",
       "      <td>536365</td>\n",
       "      <td>84029E</td>\n",
       "      <td>RED WOOLLY HOTTIE WHITE HEART.</td>\n",
       "      <td>6</td>\n",
       "      <td>2010-12-01 08:26:00</td>\n",
       "      <td>3.39</td>\n",
       "      <td>17850.0</td>\n",
       "      <td>United Kingdom</td>\n",
       "      <td>20.34</td>\n",
       "    </tr>\n",
       "  </tbody>\n",
       "</table>\n",
       "</div>"
      ],
      "text/plain": [
       "  Invoice StockCode                          Description  Quantity  \\\n",
       "0  536365    85123A   WHITE HANGING HEART T-LIGHT HOLDER         6   \n",
       "1  536365     71053                  WHITE METAL LANTERN         6   \n",
       "2  536365    84406B       CREAM CUPID HEARTS COAT HANGER         8   \n",
       "3  536365    84029G  KNITTED UNION FLAG HOT WATER BOTTLE         6   \n",
       "4  536365    84029E       RED WOOLLY HOTTIE WHITE HEART.         6   \n",
       "\n",
       "          InvoiceDate  Price  Customer ID         Country  Total_Prize  \n",
       "0 2010-12-01 08:26:00   2.55      17850.0  United Kingdom        15.30  \n",
       "1 2010-12-01 08:26:00   3.39      17850.0  United Kingdom        20.34  \n",
       "2 2010-12-01 08:26:00   2.75      17850.0  United Kingdom        22.00  \n",
       "3 2010-12-01 08:26:00   3.39      17850.0  United Kingdom        20.34  \n",
       "4 2010-12-01 08:26:00   3.39      17850.0  United Kingdom        20.34  "
      ]
     },
     "execution_count": 216,
     "metadata": {},
     "output_type": "execute_result"
    }
   ],
   "source": [
    "df.head()"
   ]
  },
  {
   "cell_type": "markdown",
   "id": "05a22f16",
   "metadata": {},
   "source": [
    "## RFM Analysis\n",
    "\n",
    "RFM (Recency, Frequency, Monetary) and CLTV (Customer Lifetime Value) are both models used in the field of marketing and customer relationship management. They are often employed in machine learning and df analysis to understand and predict customer behavior.\n",
    "\n",
    "1. **RFM Model:**\n",
    "   - **Recency (R):** This refers to how recently a customer has made a purchase. Customers who have made a purchase more recently are often considered more valuable.\n",
    "   - **Frequency (F):** This measures how often a customer makes a purchase. Customers who make frequent purchases may be more loyal and engaged.\n",
    "   - **Monetary (M):** This represents the monetary value of a customer's purchases. High-value customers are typically more valuable to a business.\n",
    "\n",
    "   The RFM model classifies customers based on these three dimensions, creating segments that help businesses tailor their marketing strategies. For example, a customer who made a high-value purchase recently might be targeted differently than a customer who hasn't made a purchase in a long time.\n",
    "\n",
    "2. **CLTV Model:**\n",
    "   - **Customer Lifetime Value (CLTV):** This model focuses on predicting the total value a customer is expected to bring to a business over their entire relationship. It takes into account not only the historical transactional df (similar to RFM) but also considers the potential future value of the customer.\n",
    "\n",
    "   CLTV involves predicting how much revenue a customer is likely to generate over the course of their relationship with the business. This model is valuable for guiding marketing and customer acquisition strategies, as it helps businesses identify and prioritize high-value customers.\n",
    "\n",
    "In summary, while RFM helps in segmenting customers based on their recent behavior, frequency of purchases, and monetary value, CLTV goes a step further by predicting the overall value a customer is likely to bring throughout their entire relationship with the business. Both models are useful for businesses looking to optimize their marketing efforts and enhance customer relationships."
   ]
  },
  {
   "cell_type": "code",
   "execution_count": 217,
   "id": "0f610abe",
   "metadata": {},
   "outputs": [
    {
     "data": {
      "text/plain": [
       "Timestamp('2011-02-23 13:37:00')"
      ]
     },
     "execution_count": 217,
     "metadata": {},
     "output_type": "execute_result"
    }
   ],
   "source": [
    "df[\"InvoiceDate\"].max() # most recent df"
   ]
  },
  {
   "cell_type": "code",
   "execution_count": 218,
   "id": "29f8de86",
   "metadata": {},
   "outputs": [],
   "source": [
    "today_date = dt.datetime(2024,1,1)"
   ]
  },
  {
   "cell_type": "code",
   "execution_count": 219,
   "id": "1d9946ed",
   "metadata": {},
   "outputs": [],
   "source": [
    "# Assuming 'df' is your original dfframe\n",
    "RFM = df.groupby(\"Customer ID\").agg(\n",
    "    Recency=('InvoiceDate', lambda x: (today_date - pd.to_datetime(x.max())).days),\n",
    "    Frequency=('Invoice', 'nunique'),\n",
    "    Monetary=('Total_Prize', 'sum')\n",
    ").reset_index()\n",
    "\n",
    "# Rename the columns if needed\n",
    "RFM.columns = ['Customer ID', 'Recency', 'Frequency', 'Monetary']"
   ]
  },
  {
   "cell_type": "code",
   "execution_count": 220,
   "id": "22eadd20",
   "metadata": {},
   "outputs": [],
   "source": [
    "RFM.set_index('Customer ID', inplace=True)"
   ]
  },
  {
   "cell_type": "code",
   "execution_count": 221,
   "id": "fb063ff9",
   "metadata": {},
   "outputs": [
    {
     "data": {
      "text/html": [
       "<div>\n",
       "<style scoped>\n",
       "    .dataframe tbody tr th:only-of-type {\n",
       "        vertical-align: middle;\n",
       "    }\n",
       "\n",
       "    .dataframe tbody tr th {\n",
       "        vertical-align: top;\n",
       "    }\n",
       "\n",
       "    .dataframe thead th {\n",
       "        text-align: right;\n",
       "    }\n",
       "</style>\n",
       "<table border=\"1\" class=\"dataframe\">\n",
       "  <thead>\n",
       "    <tr style=\"text-align: right;\">\n",
       "      <th></th>\n",
       "      <th>Recency</th>\n",
       "      <th>Frequency</th>\n",
       "      <th>Monetary</th>\n",
       "    </tr>\n",
       "    <tr>\n",
       "      <th>Customer ID</th>\n",
       "      <th></th>\n",
       "      <th></th>\n",
       "      <th></th>\n",
       "    </tr>\n",
       "  </thead>\n",
       "  <tbody>\n",
       "    <tr>\n",
       "      <th>12346.0</th>\n",
       "      <td>4730</td>\n",
       "      <td>1</td>\n",
       "      <td>77183.60</td>\n",
       "    </tr>\n",
       "    <tr>\n",
       "      <th>12347.0</th>\n",
       "      <td>4722</td>\n",
       "      <td>2</td>\n",
       "      <td>1187.18</td>\n",
       "    </tr>\n",
       "    <tr>\n",
       "      <th>12348.0</th>\n",
       "      <td>4723</td>\n",
       "      <td>2</td>\n",
       "      <td>1120.24</td>\n",
       "    </tr>\n",
       "    <tr>\n",
       "      <th>12350.0</th>\n",
       "      <td>4715</td>\n",
       "      <td>1</td>\n",
       "      <td>334.40</td>\n",
       "    </tr>\n",
       "    <tr>\n",
       "      <th>12352.0</th>\n",
       "      <td>4701</td>\n",
       "      <td>1</td>\n",
       "      <td>296.50</td>\n",
       "    </tr>\n",
       "  </tbody>\n",
       "</table>\n",
       "</div>"
      ],
      "text/plain": [
       "             Recency  Frequency  Monetary\n",
       "Customer ID                              \n",
       "12346.0         4730          1  77183.60\n",
       "12347.0         4722          2   1187.18\n",
       "12348.0         4723          2   1120.24\n",
       "12350.0         4715          1    334.40\n",
       "12352.0         4701          1    296.50"
      ]
     },
     "execution_count": 221,
     "metadata": {},
     "output_type": "execute_result"
    }
   ],
   "source": [
    "RFM.head()"
   ]
  },
  {
   "cell_type": "code",
   "execution_count": 222,
   "id": "6bbfd93e",
   "metadata": {},
   "outputs": [
    {
     "data": {
      "text/html": [
       "<div>\n",
       "<style scoped>\n",
       "    .dataframe tbody tr th:only-of-type {\n",
       "        vertical-align: middle;\n",
       "    }\n",
       "\n",
       "    .dataframe tbody tr th {\n",
       "        vertical-align: top;\n",
       "    }\n",
       "\n",
       "    .dataframe thead th {\n",
       "        text-align: right;\n",
       "    }\n",
       "</style>\n",
       "<table border=\"1\" class=\"dataframe\">\n",
       "  <thead>\n",
       "    <tr style=\"text-align: right;\">\n",
       "      <th></th>\n",
       "      <th>Recency</th>\n",
       "      <th>Frequency</th>\n",
       "      <th>Monetary</th>\n",
       "    </tr>\n",
       "    <tr>\n",
       "      <th>Customer ID</th>\n",
       "      <th></th>\n",
       "      <th></th>\n",
       "      <th></th>\n",
       "    </tr>\n",
       "  </thead>\n",
       "  <tbody>\n",
       "    <tr>\n",
       "      <th>12346.0</th>\n",
       "      <td>4730</td>\n",
       "      <td>1</td>\n",
       "      <td>77183.60</td>\n",
       "    </tr>\n",
       "    <tr>\n",
       "      <th>14646.0</th>\n",
       "      <td>4695</td>\n",
       "      <td>10</td>\n",
       "      <td>57866.02</td>\n",
       "    </tr>\n",
       "    <tr>\n",
       "      <th>18102.0</th>\n",
       "      <td>4710</td>\n",
       "      <td>6</td>\n",
       "      <td>38370.09</td>\n",
       "    </tr>\n",
       "    <tr>\n",
       "      <th>14156.0</th>\n",
       "      <td>4694</td>\n",
       "      <td>7</td>\n",
       "      <td>25752.25</td>\n",
       "    </tr>\n",
       "    <tr>\n",
       "      <th>15749.0</th>\n",
       "      <td>4737</td>\n",
       "      <td>2</td>\n",
       "      <td>22998.40</td>\n",
       "    </tr>\n",
       "  </tbody>\n",
       "</table>\n",
       "</div>"
      ],
      "text/plain": [
       "             Recency  Frequency  Monetary\n",
       "Customer ID                              \n",
       "12346.0         4730          1  77183.60\n",
       "14646.0         4695         10  57866.02\n",
       "18102.0         4710          6  38370.09\n",
       "14156.0         4694          7  25752.25\n",
       "15749.0         4737          2  22998.40"
      ]
     },
     "execution_count": 222,
     "metadata": {},
     "output_type": "execute_result"
    }
   ],
   "source": [
    "# The first five values with the highest monetary value\n",
    "RFM.sort_values(by = \"Monetary\", ascending = False).head()"
   ]
  },
  {
   "cell_type": "code",
   "execution_count": 223,
   "id": "7de2c1fd",
   "metadata": {},
   "outputs": [
    {
     "data": {
      "text/html": [
       "<div>\n",
       "<style scoped>\n",
       "    .dataframe tbody tr th:only-of-type {\n",
       "        vertical-align: middle;\n",
       "    }\n",
       "\n",
       "    .dataframe tbody tr th {\n",
       "        vertical-align: top;\n",
       "    }\n",
       "\n",
       "    .dataframe thead th {\n",
       "        text-align: right;\n",
       "    }\n",
       "</style>\n",
       "<table border=\"1\" class=\"dataframe\">\n",
       "  <thead>\n",
       "    <tr style=\"text-align: right;\">\n",
       "      <th></th>\n",
       "      <th>Recency</th>\n",
       "      <th>Frequency</th>\n",
       "      <th>Monetary</th>\n",
       "    </tr>\n",
       "    <tr>\n",
       "      <th>Customer ID</th>\n",
       "      <th></th>\n",
       "      <th></th>\n",
       "      <th></th>\n",
       "    </tr>\n",
       "  </thead>\n",
       "  <tbody>\n",
       "    <tr>\n",
       "      <th>16554.0</th>\n",
       "      <td>4736</td>\n",
       "      <td>1</td>\n",
       "      <td>0.85</td>\n",
       "    </tr>\n",
       "    <tr>\n",
       "      <th>16738.0</th>\n",
       "      <td>4702</td>\n",
       "      <td>1</td>\n",
       "      <td>3.75</td>\n",
       "    </tr>\n",
       "    <tr>\n",
       "      <th>16208.0</th>\n",
       "      <td>4694</td>\n",
       "      <td>1</td>\n",
       "      <td>5.10</td>\n",
       "    </tr>\n",
       "    <tr>\n",
       "      <th>16882.0</th>\n",
       "      <td>4722</td>\n",
       "      <td>1</td>\n",
       "      <td>9.90</td>\n",
       "    </tr>\n",
       "    <tr>\n",
       "      <th>15885.0</th>\n",
       "      <td>4714</td>\n",
       "      <td>1</td>\n",
       "      <td>15.00</td>\n",
       "    </tr>\n",
       "  </tbody>\n",
       "</table>\n",
       "</div>"
      ],
      "text/plain": [
       "             Recency  Frequency  Monetary\n",
       "Customer ID                              \n",
       "16554.0         4736          1      0.85\n",
       "16738.0         4702          1      3.75\n",
       "16208.0         4694          1      5.10\n",
       "16882.0         4722          1      9.90\n",
       "15885.0         4714          1     15.00"
      ]
     },
     "execution_count": 223,
     "metadata": {},
     "output_type": "execute_result"
    }
   ],
   "source": [
    "# The first five values with the lowest monetary value\n",
    "RFM.sort_values(by = \"Monetary\", ascending = True).head()"
   ]
  },
  {
   "cell_type": "markdown",
   "id": "6c9bfb37",
   "metadata": {},
   "source": [
    "**Recency_Score, Frequency_Score, Monetary_Score**<br>\n",
    "I rate the recency, frequency, and monetary scores between 5 and 1. In this section, df with a score of 5 will be the df with the best recency score for us, df with a score of 1 will have the worst score.\n",
    "\n",
    "**Recency_Score:**\n",
    "You know, high recency values are bad for us. Because high recency values represent the day the customer stays away from the company. Customers with low recency values are customers who do not stay away from the company.\n",
    "\n",
    "**Frequency_Score:**\n",
    "High-frequency values are good for us. The Frequency value is that customer use how many use our company more.\n",
    "\n",
    "**Monetary_Score:**\n",
    "High-monetary values are good for us. The Monetary value is the customer how much pays the company."
   ]
  },
  {
   "cell_type": "code",
   "execution_count": 224,
   "id": "696ac405",
   "metadata": {},
   "outputs": [],
   "source": [
    "# Define bin edges for Recency\n",
    "recency_bins = [-np.inf, 5140, 5141, 5142, 5143, np.inf]\n",
    "RFM[\"Recency_Score\"] = pd.cut(RFM[\"Recency\"], bins=recency_bins, labels=[5, 4, 3, 2, 1], include_lowest=True)\n",
    "\n",
    "# Use qcut for Frequency and Monetary\n",
    "RFM[\"Frequency_Score\"] = pd.qcut(RFM[\"Frequency\"].rank(method=\"first\"), 5, labels=[1, 2, 3, 4, 5])\n",
    "RFM[\"Monetary_Score\"] = pd.qcut(RFM[\"Monetary\"], 5, labels=[1, 2, 3, 4, 5])"
   ]
  },
  {
   "cell_type": "code",
   "execution_count": 225,
   "id": "c11b9641",
   "metadata": {},
   "outputs": [
    {
     "data": {
      "text/html": [
       "<div>\n",
       "<style scoped>\n",
       "    .dataframe tbody tr th:only-of-type {\n",
       "        vertical-align: middle;\n",
       "    }\n",
       "\n",
       "    .dataframe tbody tr th {\n",
       "        vertical-align: top;\n",
       "    }\n",
       "\n",
       "    .dataframe thead th {\n",
       "        text-align: right;\n",
       "    }\n",
       "</style>\n",
       "<table border=\"1\" class=\"dataframe\">\n",
       "  <thead>\n",
       "    <tr style=\"text-align: right;\">\n",
       "      <th></th>\n",
       "      <th>Recency</th>\n",
       "      <th>Frequency</th>\n",
       "      <th>Monetary</th>\n",
       "      <th>Recency_Score</th>\n",
       "      <th>Frequency_Score</th>\n",
       "      <th>Monetary_Score</th>\n",
       "    </tr>\n",
       "    <tr>\n",
       "      <th>Customer ID</th>\n",
       "      <th></th>\n",
       "      <th></th>\n",
       "      <th></th>\n",
       "      <th></th>\n",
       "      <th></th>\n",
       "      <th></th>\n",
       "    </tr>\n",
       "  </thead>\n",
       "  <tbody>\n",
       "    <tr>\n",
       "      <th>12346.0</th>\n",
       "      <td>4730</td>\n",
       "      <td>1</td>\n",
       "      <td>77183.60</td>\n",
       "      <td>5</td>\n",
       "      <td>1</td>\n",
       "      <td>5</td>\n",
       "    </tr>\n",
       "    <tr>\n",
       "      <th>12347.0</th>\n",
       "      <td>4722</td>\n",
       "      <td>2</td>\n",
       "      <td>1187.18</td>\n",
       "      <td>5</td>\n",
       "      <td>4</td>\n",
       "      <td>5</td>\n",
       "    </tr>\n",
       "    <tr>\n",
       "      <th>12348.0</th>\n",
       "      <td>4723</td>\n",
       "      <td>2</td>\n",
       "      <td>1120.24</td>\n",
       "      <td>5</td>\n",
       "      <td>4</td>\n",
       "      <td>5</td>\n",
       "    </tr>\n",
       "    <tr>\n",
       "      <th>12350.0</th>\n",
       "      <td>4715</td>\n",
       "      <td>1</td>\n",
       "      <td>334.40</td>\n",
       "      <td>5</td>\n",
       "      <td>1</td>\n",
       "      <td>3</td>\n",
       "    </tr>\n",
       "    <tr>\n",
       "      <th>12352.0</th>\n",
       "      <td>4701</td>\n",
       "      <td>1</td>\n",
       "      <td>296.50</td>\n",
       "      <td>5</td>\n",
       "      <td>1</td>\n",
       "      <td>2</td>\n",
       "    </tr>\n",
       "  </tbody>\n",
       "</table>\n",
       "</div>"
      ],
      "text/plain": [
       "             Recency  Frequency  Monetary Recency_Score Frequency_Score  \\\n",
       "Customer ID                                                               \n",
       "12346.0         4730          1  77183.60             5               1   \n",
       "12347.0         4722          2   1187.18             5               4   \n",
       "12348.0         4723          2   1120.24             5               4   \n",
       "12350.0         4715          1    334.40             5               1   \n",
       "12352.0         4701          1    296.50             5               1   \n",
       "\n",
       "            Monetary_Score  \n",
       "Customer ID                 \n",
       "12346.0                  5  \n",
       "12347.0                  5  \n",
       "12348.0                  5  \n",
       "12350.0                  3  \n",
       "12352.0                  2  "
      ]
     },
     "execution_count": 225,
     "metadata": {},
     "output_type": "execute_result"
    }
   ],
   "source": [
    "RFM.head()"
   ]
  },
  {
   "cell_type": "code",
   "execution_count": 226,
   "id": "4a983634",
   "metadata": {},
   "outputs": [
    {
     "data": {
      "text/html": [
       "<div>\n",
       "<style scoped>\n",
       "    .dataframe tbody tr th:only-of-type {\n",
       "        vertical-align: middle;\n",
       "    }\n",
       "\n",
       "    .dataframe tbody tr th {\n",
       "        vertical-align: top;\n",
       "    }\n",
       "\n",
       "    .dataframe thead th {\n",
       "        text-align: right;\n",
       "    }\n",
       "</style>\n",
       "<table border=\"1\" class=\"dataframe\">\n",
       "  <thead>\n",
       "    <tr style=\"text-align: right;\">\n",
       "      <th></th>\n",
       "      <th>Recency</th>\n",
       "      <th>Frequency</th>\n",
       "      <th>Monetary</th>\n",
       "      <th>Recency_Score</th>\n",
       "      <th>Frequency_Score</th>\n",
       "      <th>Monetary_Score</th>\n",
       "      <th>RF_Score</th>\n",
       "    </tr>\n",
       "    <tr>\n",
       "      <th>Customer ID</th>\n",
       "      <th></th>\n",
       "      <th></th>\n",
       "      <th></th>\n",
       "      <th></th>\n",
       "      <th></th>\n",
       "      <th></th>\n",
       "      <th></th>\n",
       "    </tr>\n",
       "  </thead>\n",
       "  <tbody>\n",
       "    <tr>\n",
       "      <th>12346.0</th>\n",
       "      <td>4730</td>\n",
       "      <td>1</td>\n",
       "      <td>77183.60</td>\n",
       "      <td>5</td>\n",
       "      <td>1</td>\n",
       "      <td>5</td>\n",
       "      <td>51</td>\n",
       "    </tr>\n",
       "    <tr>\n",
       "      <th>12347.0</th>\n",
       "      <td>4722</td>\n",
       "      <td>2</td>\n",
       "      <td>1187.18</td>\n",
       "      <td>5</td>\n",
       "      <td>4</td>\n",
       "      <td>5</td>\n",
       "      <td>54</td>\n",
       "    </tr>\n",
       "    <tr>\n",
       "      <th>12348.0</th>\n",
       "      <td>4723</td>\n",
       "      <td>2</td>\n",
       "      <td>1120.24</td>\n",
       "      <td>5</td>\n",
       "      <td>4</td>\n",
       "      <td>5</td>\n",
       "      <td>54</td>\n",
       "    </tr>\n",
       "    <tr>\n",
       "      <th>12350.0</th>\n",
       "      <td>4715</td>\n",
       "      <td>1</td>\n",
       "      <td>334.40</td>\n",
       "      <td>5</td>\n",
       "      <td>1</td>\n",
       "      <td>3</td>\n",
       "      <td>51</td>\n",
       "    </tr>\n",
       "    <tr>\n",
       "      <th>12352.0</th>\n",
       "      <td>4701</td>\n",
       "      <td>1</td>\n",
       "      <td>296.50</td>\n",
       "      <td>5</td>\n",
       "      <td>1</td>\n",
       "      <td>2</td>\n",
       "      <td>51</td>\n",
       "    </tr>\n",
       "  </tbody>\n",
       "</table>\n",
       "</div>"
      ],
      "text/plain": [
       "             Recency  Frequency  Monetary Recency_Score Frequency_Score  \\\n",
       "Customer ID                                                               \n",
       "12346.0         4730          1  77183.60             5               1   \n",
       "12347.0         4722          2   1187.18             5               4   \n",
       "12348.0         4723          2   1120.24             5               4   \n",
       "12350.0         4715          1    334.40             5               1   \n",
       "12352.0         4701          1    296.50             5               1   \n",
       "\n",
       "            Monetary_Score RF_Score  \n",
       "Customer ID                          \n",
       "12346.0                  5       51  \n",
       "12347.0                  5       54  \n",
       "12348.0                  5       54  \n",
       "12350.0                  3       51  \n",
       "12352.0                  2       51  "
      ]
     },
     "execution_count": 226,
     "metadata": {},
     "output_type": "execute_result"
    }
   ],
   "source": [
    "RFM[\"RF_Score\"] = RFM[\"Recency_Score\"].astype(str) + RFM[\"Frequency_Score\"].astype(str)\n",
    "RFM.head()"
   ]
  },
  {
   "cell_type": "code",
   "execution_count": 227,
   "id": "3b185f12",
   "metadata": {},
   "outputs": [
    {
     "data": {
      "text/html": [
       "<div>\n",
       "<style scoped>\n",
       "    .dataframe tbody tr th:only-of-type {\n",
       "        vertical-align: middle;\n",
       "    }\n",
       "\n",
       "    .dataframe tbody tr th {\n",
       "        vertical-align: top;\n",
       "    }\n",
       "\n",
       "    .dataframe thead th {\n",
       "        text-align: right;\n",
       "    }\n",
       "</style>\n",
       "<table border=\"1\" class=\"dataframe\">\n",
       "  <thead>\n",
       "    <tr style=\"text-align: right;\">\n",
       "      <th></th>\n",
       "      <th>Recency</th>\n",
       "      <th>Frequency</th>\n",
       "      <th>Monetary</th>\n",
       "      <th>Recency_Score</th>\n",
       "      <th>Frequency_Score</th>\n",
       "      <th>Monetary_Score</th>\n",
       "      <th>RF_Score</th>\n",
       "      <th>segment</th>\n",
       "    </tr>\n",
       "    <tr>\n",
       "      <th>Customer ID</th>\n",
       "      <th></th>\n",
       "      <th></th>\n",
       "      <th></th>\n",
       "      <th></th>\n",
       "      <th></th>\n",
       "      <th></th>\n",
       "      <th></th>\n",
       "      <th></th>\n",
       "    </tr>\n",
       "  </thead>\n",
       "  <tbody>\n",
       "    <tr>\n",
       "      <th>12346.0</th>\n",
       "      <td>4730</td>\n",
       "      <td>1</td>\n",
       "      <td>77183.60</td>\n",
       "      <td>5</td>\n",
       "      <td>1</td>\n",
       "      <td>5</td>\n",
       "      <td>51</td>\n",
       "      <td>New_Customers</td>\n",
       "    </tr>\n",
       "    <tr>\n",
       "      <th>12347.0</th>\n",
       "      <td>4722</td>\n",
       "      <td>2</td>\n",
       "      <td>1187.18</td>\n",
       "      <td>5</td>\n",
       "      <td>4</td>\n",
       "      <td>5</td>\n",
       "      <td>54</td>\n",
       "      <td>Champions</td>\n",
       "    </tr>\n",
       "    <tr>\n",
       "      <th>12348.0</th>\n",
       "      <td>4723</td>\n",
       "      <td>2</td>\n",
       "      <td>1120.24</td>\n",
       "      <td>5</td>\n",
       "      <td>4</td>\n",
       "      <td>5</td>\n",
       "      <td>54</td>\n",
       "      <td>Champions</td>\n",
       "    </tr>\n",
       "    <tr>\n",
       "      <th>12350.0</th>\n",
       "      <td>4715</td>\n",
       "      <td>1</td>\n",
       "      <td>334.40</td>\n",
       "      <td>5</td>\n",
       "      <td>1</td>\n",
       "      <td>3</td>\n",
       "      <td>51</td>\n",
       "      <td>New_Customers</td>\n",
       "    </tr>\n",
       "    <tr>\n",
       "      <th>12352.0</th>\n",
       "      <td>4701</td>\n",
       "      <td>1</td>\n",
       "      <td>296.50</td>\n",
       "      <td>5</td>\n",
       "      <td>1</td>\n",
       "      <td>2</td>\n",
       "      <td>51</td>\n",
       "      <td>New_Customers</td>\n",
       "    </tr>\n",
       "  </tbody>\n",
       "</table>\n",
       "</div>"
      ],
      "text/plain": [
       "             Recency  Frequency  Monetary Recency_Score Frequency_Score  \\\n",
       "Customer ID                                                               \n",
       "12346.0         4730          1  77183.60             5               1   \n",
       "12347.0         4722          2   1187.18             5               4   \n",
       "12348.0         4723          2   1120.24             5               4   \n",
       "12350.0         4715          1    334.40             5               1   \n",
       "12352.0         4701          1    296.50             5               1   \n",
       "\n",
       "            Monetary_Score RF_Score        segment  \n",
       "Customer ID                                         \n",
       "12346.0                  5       51  New_Customers  \n",
       "12347.0                  5       54      Champions  \n",
       "12348.0                  5       54      Champions  \n",
       "12350.0                  3       51  New_Customers  \n",
       "12352.0                  2       51  New_Customers  "
      ]
     },
     "execution_count": 227,
     "metadata": {},
     "output_type": "execute_result"
    }
   ],
   "source": [
    "seg_map = {\n",
    "    r'[1-2][1-2]' : 'Hibernating',\n",
    "    r'[1-2][3-4]' : 'Risky',\n",
    "    r'[1-2]5' : 'Most Wanted',\n",
    "    r'3[1-2]' : 'About_to_Go',\n",
    "    r'33' : 'Needs_Attention',\n",
    "    r'[3-4][4-5]' : 'Loyal',\n",
    "    r'41' : 'Promising',\n",
    "    r'51' : 'New_Customers',\n",
    "    r'[4-5][2-3]' : 'Potential_to_be_Loyal',\n",
    "    r'5[4-5]' : 'Champions'}\n",
    "\n",
    "RFM[\"segment\"] = RFM[\"RF_Score\"].replace(seg_map, regex = True)\n",
    "\n",
    "RFM.head()"
   ]
  },
  {
   "cell_type": "code",
   "execution_count": 228,
   "id": "ca90f762",
   "metadata": {},
   "outputs": [
    {
     "data": {
      "text/html": [
       "<div>\n",
       "<style scoped>\n",
       "    .dataframe tbody tr th:only-of-type {\n",
       "        vertical-align: middle;\n",
       "    }\n",
       "\n",
       "    .dataframe tbody tr th {\n",
       "        vertical-align: top;\n",
       "    }\n",
       "\n",
       "    .dataframe thead tr th {\n",
       "        text-align: left;\n",
       "    }\n",
       "\n",
       "    .dataframe thead tr:last-of-type th {\n",
       "        text-align: right;\n",
       "    }\n",
       "</style>\n",
       "<table border=\"1\" class=\"dataframe\">\n",
       "  <thead>\n",
       "    <tr>\n",
       "      <th></th>\n",
       "      <th colspan=\"3\" halign=\"left\">Recency</th>\n",
       "      <th colspan=\"3\" halign=\"left\">Frequency</th>\n",
       "      <th colspan=\"3\" halign=\"left\">Monetary</th>\n",
       "    </tr>\n",
       "    <tr>\n",
       "      <th></th>\n",
       "      <th>mean</th>\n",
       "      <th>sum</th>\n",
       "      <th>count</th>\n",
       "      <th>mean</th>\n",
       "      <th>sum</th>\n",
       "      <th>count</th>\n",
       "      <th>mean</th>\n",
       "      <th>sum</th>\n",
       "      <th>count</th>\n",
       "    </tr>\n",
       "    <tr>\n",
       "      <th>segment</th>\n",
       "      <th></th>\n",
       "      <th></th>\n",
       "      <th></th>\n",
       "      <th></th>\n",
       "      <th></th>\n",
       "      <th></th>\n",
       "      <th></th>\n",
       "      <th></th>\n",
       "      <th></th>\n",
       "    </tr>\n",
       "  </thead>\n",
       "  <tbody>\n",
       "    <tr>\n",
       "      <th>Champions</th>\n",
       "      <td>4718.821596</td>\n",
       "      <td>3015327</td>\n",
       "      <td>639</td>\n",
       "      <td>3.480438</td>\n",
       "      <td>2224</td>\n",
       "      <td>639</td>\n",
       "      <td>1707.777277</td>\n",
       "      <td>1091269.68</td>\n",
       "      <td>639</td>\n",
       "    </tr>\n",
       "    <tr>\n",
       "      <th>New_Customers</th>\n",
       "      <td>4734.456250</td>\n",
       "      <td>1515026</td>\n",
       "      <td>320</td>\n",
       "      <td>1.000000</td>\n",
       "      <td>320</td>\n",
       "      <td>320</td>\n",
       "      <td>667.014969</td>\n",
       "      <td>213444.79</td>\n",
       "      <td>320</td>\n",
       "    </tr>\n",
       "    <tr>\n",
       "      <th>Potential_to_be_Loyal</th>\n",
       "      <td>4741.385580</td>\n",
       "      <td>3025004</td>\n",
       "      <td>638</td>\n",
       "      <td>1.000000</td>\n",
       "      <td>638</td>\n",
       "      <td>638</td>\n",
       "      <td>336.211740</td>\n",
       "      <td>214503.09</td>\n",
       "      <td>638</td>\n",
       "    </tr>\n",
       "  </tbody>\n",
       "</table>\n",
       "</div>"
      ],
      "text/plain": [
       "                           Recency                Frequency              \\\n",
       "                              mean      sum count      mean   sum count   \n",
       "segment                                                                   \n",
       "Champions              4718.821596  3015327   639  3.480438  2224   639   \n",
       "New_Customers          4734.456250  1515026   320  1.000000   320   320   \n",
       "Potential_to_be_Loyal  4741.385580  3025004   638  1.000000   638   638   \n",
       "\n",
       "                          Monetary                    \n",
       "                              mean         sum count  \n",
       "segment                                               \n",
       "Champions              1707.777277  1091269.68   639  \n",
       "New_Customers           667.014969   213444.79   320  \n",
       "Potential_to_be_Loyal   336.211740   214503.09   638  "
      ]
     },
     "execution_count": 228,
     "metadata": {},
     "output_type": "execute_result"
    }
   ],
   "source": [
    "RFM[[\"segment\", \"Recency\", \"Frequency\", \"Monetary\"]].groupby(\"segment\").agg([\"mean\", \"sum\", \"count\"])"
   ]
  },
  {
   "cell_type": "code",
   "execution_count": 229,
   "id": "b1518236",
   "metadata": {},
   "outputs": [
    {
     "data": {
      "text/html": [
       "<div>\n",
       "<style scoped>\n",
       "    .dataframe tbody tr th:only-of-type {\n",
       "        vertical-align: middle;\n",
       "    }\n",
       "\n",
       "    .dataframe tbody tr th {\n",
       "        vertical-align: top;\n",
       "    }\n",
       "\n",
       "    .dataframe thead th {\n",
       "        text-align: right;\n",
       "    }\n",
       "</style>\n",
       "<table border=\"1\" class=\"dataframe\">\n",
       "  <thead>\n",
       "    <tr style=\"text-align: right;\">\n",
       "      <th></th>\n",
       "      <th>Invoice</th>\n",
       "      <th>StockCode</th>\n",
       "      <th>Description</th>\n",
       "      <th>Quantity</th>\n",
       "      <th>InvoiceDate</th>\n",
       "      <th>Price</th>\n",
       "      <th>Customer ID</th>\n",
       "      <th>Country</th>\n",
       "      <th>Total_Prize</th>\n",
       "    </tr>\n",
       "  </thead>\n",
       "  <tbody>\n",
       "    <tr>\n",
       "      <th>0</th>\n",
       "      <td>536365</td>\n",
       "      <td>85123A</td>\n",
       "      <td>WHITE HANGING HEART T-LIGHT HOLDER</td>\n",
       "      <td>6</td>\n",
       "      <td>2010-12-01 08:26:00</td>\n",
       "      <td>2.55</td>\n",
       "      <td>17850.0</td>\n",
       "      <td>United Kingdom</td>\n",
       "      <td>15.30</td>\n",
       "    </tr>\n",
       "    <tr>\n",
       "      <th>1</th>\n",
       "      <td>536365</td>\n",
       "      <td>71053</td>\n",
       "      <td>WHITE METAL LANTERN</td>\n",
       "      <td>6</td>\n",
       "      <td>2010-12-01 08:26:00</td>\n",
       "      <td>3.39</td>\n",
       "      <td>17850.0</td>\n",
       "      <td>United Kingdom</td>\n",
       "      <td>20.34</td>\n",
       "    </tr>\n",
       "    <tr>\n",
       "      <th>2</th>\n",
       "      <td>536365</td>\n",
       "      <td>84406B</td>\n",
       "      <td>CREAM CUPID HEARTS COAT HANGER</td>\n",
       "      <td>8</td>\n",
       "      <td>2010-12-01 08:26:00</td>\n",
       "      <td>2.75</td>\n",
       "      <td>17850.0</td>\n",
       "      <td>United Kingdom</td>\n",
       "      <td>22.00</td>\n",
       "    </tr>\n",
       "    <tr>\n",
       "      <th>3</th>\n",
       "      <td>536365</td>\n",
       "      <td>84029G</td>\n",
       "      <td>KNITTED UNION FLAG HOT WATER BOTTLE</td>\n",
       "      <td>6</td>\n",
       "      <td>2010-12-01 08:26:00</td>\n",
       "      <td>3.39</td>\n",
       "      <td>17850.0</td>\n",
       "      <td>United Kingdom</td>\n",
       "      <td>20.34</td>\n",
       "    </tr>\n",
       "    <tr>\n",
       "      <th>4</th>\n",
       "      <td>536365</td>\n",
       "      <td>84029E</td>\n",
       "      <td>RED WOOLLY HOTTIE WHITE HEART.</td>\n",
       "      <td>6</td>\n",
       "      <td>2010-12-01 08:26:00</td>\n",
       "      <td>3.39</td>\n",
       "      <td>17850.0</td>\n",
       "      <td>United Kingdom</td>\n",
       "      <td>20.34</td>\n",
       "    </tr>\n",
       "  </tbody>\n",
       "</table>\n",
       "</div>"
      ],
      "text/plain": [
       "  Invoice StockCode                          Description  Quantity  \\\n",
       "0  536365    85123A   WHITE HANGING HEART T-LIGHT HOLDER         6   \n",
       "1  536365     71053                  WHITE METAL LANTERN         6   \n",
       "2  536365    84406B       CREAM CUPID HEARTS COAT HANGER         8   \n",
       "3  536365    84029G  KNITTED UNION FLAG HOT WATER BOTTLE         6   \n",
       "4  536365    84029E       RED WOOLLY HOTTIE WHITE HEART.         6   \n",
       "\n",
       "          InvoiceDate  Price  Customer ID         Country  Total_Prize  \n",
       "0 2010-12-01 08:26:00   2.55      17850.0  United Kingdom        15.30  \n",
       "1 2010-12-01 08:26:00   3.39      17850.0  United Kingdom        20.34  \n",
       "2 2010-12-01 08:26:00   2.75      17850.0  United Kingdom        22.00  \n",
       "3 2010-12-01 08:26:00   3.39      17850.0  United Kingdom        20.34  \n",
       "4 2010-12-01 08:26:00   3.39      17850.0  United Kingdom        20.34  "
      ]
     },
     "execution_count": 229,
     "metadata": {},
     "output_type": "execute_result"
    }
   ],
   "source": [
    "df.head()"
   ]
  },
  {
   "cell_type": "code",
   "execution_count": 230,
   "id": "24254408",
   "metadata": {},
   "outputs": [],
   "source": [
    "quartile1 = df[\"Price\"].quantile(0.01)\n",
    "quartile3 = df[\"Price\"].quantile(0.99)\n",
    "interquantile_range = quartile3 - quartile1\n",
    "up_limit = quartile3 + 1.5 * interquantile_range\n",
    "low_limit = quartile1 - 1.5 * interquantile_range\n",
    "df.loc[(df[\"Price\"] > up_limit), \"Price\"] = up_limit"
   ]
  },
  {
   "cell_type": "code",
   "execution_count": 231,
   "id": "dc51bab4",
   "metadata": {},
   "outputs": [],
   "source": [
    "quartile1 = df[\"Quantity\"].quantile(0.01)\n",
    "quartile3 = df[\"Quantity\"].quantile(0.99)\n",
    "interquantile_range = quartile3 - quartile1\n",
    "up_limit = quartile3 + 1.5 * interquantile_range\n",
    "low_limit = quartile1 - 1.5 * interquantile_range\n",
    "df.loc[(df[\"Quantity\"] > up_limit), \"Quantity\"] = up_limit"
   ]
  },
  {
   "cell_type": "code",
   "execution_count": 232,
   "id": "7c78da5f",
   "metadata": {},
   "outputs": [
    {
     "data": {
      "image/png": "[encoded data removed]",
      "text/plain": [
       "<Figure size 2000x500 with 2 Axes>"
      ]
     },
     "metadata": {},
     "output_type": "display_data"
    }
   ],
   "source": [
    "col_list = [\"Quantity\", \"Price\"]\n",
    "\n",
    "f, ax = plt.subplots(2,1, figsize = (20,5))\n",
    "for i in range(0,2):\n",
    "    ax[i].boxplot(df[col_list[i]], vert = 0)\n",
    "plt.show()"
   ]
  },
  {
   "cell_type": "code",
   "execution_count": 233,
   "id": "107d7de1",
   "metadata": {},
   "outputs": [
    {
     "data": {
      "image/png": "[encoded data removed]",
      "text/plain": [
       "<Figure size 2000x500 with 2 Axes>"
      ]
     },
     "metadata": {},
     "output_type": "display_data"
    }
   ],
   "source": [
    "# I observe them before removing outliers.\n",
    "f, ax = plt.subplots(2,1, figsize = (20,5))\n",
    "col_list = [\"Quantity\", \"Price\"]\n",
    "for i in range(0,2):\n",
    "    ax[i].boxplot(df[col_list[i]], vert = 0)\n",
    "plt.show()"
   ]
  },
  {
   "cell_type": "markdown",
   "id": "e5ce62e1",
   "metadata": {},
   "source": [
    "The RFM analysis has been conducted, resulting in the following metrics for each customer:\n",
    "\n",
    "- **Recency**: The number of days since the customer's last purchase.\n",
    "- **Frequency**: The number of unique transactions (invoices) per customer.\n",
    "- **Monetary**: The total amount spent by the customer.\n",
    "\n",
    "For example, the first customer (ID 12395.0) has a recency of 4,776 days, indicating their last purchase was that long ago. They have only 1 recorded transaction (frequency) with a total spend (monetary value) of £346.10.\n",
    "\n",
    "These RFM metrics are crucial for customer segmentation and understanding customer behavior. They form the foundation for further analysis, such as segmenting customers into groups like 'Champions', 'Loyal', 'At Risk', etc., based on these metrics."
   ]
  },
  {
   "cell_type": "markdown",
   "id": "a17fb567",
   "metadata": {},
   "source": [
    "## CLTV Analysis"
   ]
  },
  {
   "cell_type": "code",
   "execution_count": 235,
   "id": "c2e55b58",
   "metadata": {},
   "outputs": [],
   "source": [
    "today_date = dt.datetime(2011, 12, 11)\n",
    "\n",
    "# Create the CLTV dfframe.\n",
    "CLTV = df.groupby(\"Customer ID\").agg({\"InvoiceDate\" : [lambda InvoiceDate: (InvoiceDate.max() - InvoiceDate.min()).days, # recency\n",
    "                                                  lambda InvoiceDate: (today_date - InvoiceDate.min()).days], # T\n",
    "                                         \"Invoice\" : lambda Invoice: Invoice.nunique(), # frequnecy\n",
    "                                         \"Total_Prize\": lambda Total_Prize: Total_Prize.sum()}) # monatery"
   ]
  },
  {
   "cell_type": "code",
   "execution_count": 236,
   "id": "05903407",
   "metadata": {},
   "outputs": [],
   "source": [
    "# Assuming 'df' is your original dfframe\n",
    "CLTV = df.groupby(\"Customer ID\").agg(\n",
    "    Recency=('InvoiceDate', lambda x: (today_date - pd.to_datetime(x.max())).days),\n",
    "    T=('InvoiceDate', lambda x: (today_date - pd.to_datetime(x.min())).days),\n",
    "    Frequency=('Invoice', 'nunique'),\n",
    "    Monetary=('Total_Prize', 'sum')\n",
    ").reset_index()\n",
    "\n",
    "# Rename the columns if needed\n",
    "CLTV.columns = ['Customer ID', 'Recency', \"T\", 'Frequency', 'Monetary']"
   ]
  },
  {
   "cell_type": "code",
   "execution_count": 237,
   "id": "996f06c2",
   "metadata": {},
   "outputs": [
    {
     "data": {
      "text/html": [
       "<div>\n",
       "<style scoped>\n",
       "    .dataframe tbody tr th:only-of-type {\n",
       "        vertical-align: middle;\n",
       "    }\n",
       "\n",
       "    .dataframe tbody tr th {\n",
       "        vertical-align: top;\n",
       "    }\n",
       "\n",
       "    .dataframe thead th {\n",
       "        text-align: right;\n",
       "    }\n",
       "</style>\n",
       "<table border=\"1\" class=\"dataframe\">\n",
       "  <thead>\n",
       "    <tr style=\"text-align: right;\">\n",
       "      <th></th>\n",
       "      <th>Customer ID</th>\n",
       "      <th>Recency</th>\n",
       "      <th>T</th>\n",
       "      <th>Frequency</th>\n",
       "      <th>Monetary</th>\n",
       "    </tr>\n",
       "  </thead>\n",
       "  <tbody>\n",
       "    <tr>\n",
       "      <th>0</th>\n",
       "      <td>12346.0</td>\n",
       "      <td>326</td>\n",
       "      <td>326</td>\n",
       "      <td>1</td>\n",
       "      <td>77183.60</td>\n",
       "    </tr>\n",
       "    <tr>\n",
       "      <th>1</th>\n",
       "      <td>12347.0</td>\n",
       "      <td>318</td>\n",
       "      <td>368</td>\n",
       "      <td>2</td>\n",
       "      <td>1187.18</td>\n",
       "    </tr>\n",
       "    <tr>\n",
       "      <th>2</th>\n",
       "      <td>12348.0</td>\n",
       "      <td>319</td>\n",
       "      <td>359</td>\n",
       "      <td>2</td>\n",
       "      <td>1120.24</td>\n",
       "    </tr>\n",
       "    <tr>\n",
       "      <th>3</th>\n",
       "      <td>12350.0</td>\n",
       "      <td>311</td>\n",
       "      <td>311</td>\n",
       "      <td>1</td>\n",
       "      <td>334.40</td>\n",
       "    </tr>\n",
       "    <tr>\n",
       "      <th>4</th>\n",
       "      <td>12352.0</td>\n",
       "      <td>297</td>\n",
       "      <td>297</td>\n",
       "      <td>1</td>\n",
       "      <td>296.50</td>\n",
       "    </tr>\n",
       "  </tbody>\n",
       "</table>\n",
       "</div>"
      ],
      "text/plain": [
       "   Customer ID  Recency    T  Frequency  Monetary\n",
       "0      12346.0      326  326          1  77183.60\n",
       "1      12347.0      318  368          2   1187.18\n",
       "2      12348.0      319  359          2   1120.24\n",
       "3      12350.0      311  311          1    334.40\n",
       "4      12352.0      297  297          1    296.50"
      ]
     },
     "execution_count": 237,
     "metadata": {},
     "output_type": "execute_result"
    }
   ],
   "source": [
    "CLTV.head()"
   ]
  },
  {
   "cell_type": "code",
   "execution_count": 238,
   "id": "8cc83cbb",
   "metadata": {},
   "outputs": [],
   "source": [
    "# Average earnings per purchase\n",
    "CLTV[\"Monetary\"] = CLTV[\"Monetary\"] / CLTV[\"Frequency\"]"
   ]
  },
  {
   "cell_type": "code",
   "execution_count": 239,
   "id": "f752076c",
   "metadata": {},
   "outputs": [
    {
     "data": {
      "text/html": [
       "<div>\n",
       "<style scoped>\n",
       "    .dataframe tbody tr th:only-of-type {\n",
       "        vertical-align: middle;\n",
       "    }\n",
       "\n",
       "    .dataframe tbody tr th {\n",
       "        vertical-align: top;\n",
       "    }\n",
       "\n",
       "    .dataframe thead th {\n",
       "        text-align: right;\n",
       "    }\n",
       "</style>\n",
       "<table border=\"1\" class=\"dataframe\">\n",
       "  <thead>\n",
       "    <tr style=\"text-align: right;\">\n",
       "      <th></th>\n",
       "      <th>Customer ID</th>\n",
       "      <th>Recency</th>\n",
       "      <th>T</th>\n",
       "      <th>Frequency</th>\n",
       "      <th>Monetary</th>\n",
       "    </tr>\n",
       "  </thead>\n",
       "  <tbody>\n",
       "    <tr>\n",
       "      <th>0</th>\n",
       "      <td>12346.0</td>\n",
       "      <td>326</td>\n",
       "      <td>326</td>\n",
       "      <td>1</td>\n",
       "      <td>77183.60</td>\n",
       "    </tr>\n",
       "    <tr>\n",
       "      <th>1</th>\n",
       "      <td>12347.0</td>\n",
       "      <td>318</td>\n",
       "      <td>368</td>\n",
       "      <td>2</td>\n",
       "      <td>593.59</td>\n",
       "    </tr>\n",
       "    <tr>\n",
       "      <th>2</th>\n",
       "      <td>12348.0</td>\n",
       "      <td>319</td>\n",
       "      <td>359</td>\n",
       "      <td>2</td>\n",
       "      <td>560.12</td>\n",
       "    </tr>\n",
       "    <tr>\n",
       "      <th>3</th>\n",
       "      <td>12350.0</td>\n",
       "      <td>311</td>\n",
       "      <td>311</td>\n",
       "      <td>1</td>\n",
       "      <td>334.40</td>\n",
       "    </tr>\n",
       "    <tr>\n",
       "      <th>4</th>\n",
       "      <td>12352.0</td>\n",
       "      <td>297</td>\n",
       "      <td>297</td>\n",
       "      <td>1</td>\n",
       "      <td>296.50</td>\n",
       "    </tr>\n",
       "  </tbody>\n",
       "</table>\n",
       "</div>"
      ],
      "text/plain": [
       "   Customer ID  Recency    T  Frequency  Monetary\n",
       "0      12346.0      326  326          1  77183.60\n",
       "1      12347.0      318  368          2    593.59\n",
       "2      12348.0      319  359          2    560.12\n",
       "3      12350.0      311  311          1    334.40\n",
       "4      12352.0      297  297          1    296.50"
      ]
     },
     "execution_count": 239,
     "metadata": {},
     "output_type": "execute_result"
    }
   ],
   "source": [
    "CLTV.head()"
   ]
  },
  {
   "cell_type": "code",
   "execution_count": 240,
   "id": "50bd0034",
   "metadata": {},
   "outputs": [],
   "source": [
    "CLTV = CLTV[CLTV[\"Frequency\"] > 1]"
   ]
  },
  {
   "cell_type": "code",
   "execution_count": 241,
   "id": "65f93b79",
   "metadata": {},
   "outputs": [
    {
     "data": {
      "text/html": [
       "<div>\n",
       "<style scoped>\n",
       "    .dataframe tbody tr th:only-of-type {\n",
       "        vertical-align: middle;\n",
       "    }\n",
       "\n",
       "    .dataframe tbody tr th {\n",
       "        vertical-align: top;\n",
       "    }\n",
       "\n",
       "    .dataframe thead th {\n",
       "        text-align: right;\n",
       "    }\n",
       "</style>\n",
       "<table border=\"1\" class=\"dataframe\">\n",
       "  <thead>\n",
       "    <tr style=\"text-align: right;\">\n",
       "      <th></th>\n",
       "      <th>Customer ID</th>\n",
       "      <th>Recency</th>\n",
       "      <th>T</th>\n",
       "      <th>Frequency</th>\n",
       "      <th>Monetary</th>\n",
       "    </tr>\n",
       "  </thead>\n",
       "  <tbody>\n",
       "    <tr>\n",
       "      <th>1</th>\n",
       "      <td>12347.0</td>\n",
       "      <td>318</td>\n",
       "      <td>368</td>\n",
       "      <td>2</td>\n",
       "      <td>593.590</td>\n",
       "    </tr>\n",
       "    <tr>\n",
       "      <th>2</th>\n",
       "      <td>12348.0</td>\n",
       "      <td>319</td>\n",
       "      <td>359</td>\n",
       "      <td>2</td>\n",
       "      <td>560.120</td>\n",
       "    </tr>\n",
       "    <tr>\n",
       "      <th>6</th>\n",
       "      <td>12359.0</td>\n",
       "      <td>306</td>\n",
       "      <td>332</td>\n",
       "      <td>2</td>\n",
       "      <td>1193.205</td>\n",
       "    </tr>\n",
       "    <tr>\n",
       "      <th>8</th>\n",
       "      <td>12365.0</td>\n",
       "      <td>292</td>\n",
       "      <td>292</td>\n",
       "      <td>2</td>\n",
       "      <td>320.690</td>\n",
       "    </tr>\n",
       "    <tr>\n",
       "      <th>9</th>\n",
       "      <td>12370.0</td>\n",
       "      <td>358</td>\n",
       "      <td>361</td>\n",
       "      <td>2</td>\n",
       "      <td>934.010</td>\n",
       "    </tr>\n",
       "  </tbody>\n",
       "</table>\n",
       "</div>"
      ],
      "text/plain": [
       "   Customer ID  Recency    T  Frequency  Monetary\n",
       "1      12347.0      318  368          2   593.590\n",
       "2      12348.0      319  359          2   560.120\n",
       "6      12359.0      306  332          2  1193.205\n",
       "8      12365.0      292  292          2   320.690\n",
       "9      12370.0      358  361          2   934.010"
      ]
     },
     "execution_count": 241,
     "metadata": {},
     "output_type": "execute_result"
    }
   ],
   "source": [
    "CLTV.head()"
   ]
  },
  {
   "cell_type": "code",
   "execution_count": 242,
   "id": "dd730323",
   "metadata": {},
   "outputs": [],
   "source": [
    "# turn the recency and T values to the weekly format \n",
    "CLTV[\"Recency\"] = CLTV[\"Recency\"] / 7\n",
    "CLTV[\"T\"] = CLTV[\"T\"] / 7"
   ]
  },
  {
   "cell_type": "code",
   "execution_count": 243,
   "id": "db4beb0a",
   "metadata": {},
   "outputs": [
    {
     "data": {
      "text/html": [
       "<div>\n",
       "<style scoped>\n",
       "    .dataframe tbody tr th:only-of-type {\n",
       "        vertical-align: middle;\n",
       "    }\n",
       "\n",
       "    .dataframe tbody tr th {\n",
       "        vertical-align: top;\n",
       "    }\n",
       "\n",
       "    .dataframe thead th {\n",
       "        text-align: right;\n",
       "    }\n",
       "</style>\n",
       "<table border=\"1\" class=\"dataframe\">\n",
       "  <thead>\n",
       "    <tr style=\"text-align: right;\">\n",
       "      <th></th>\n",
       "      <th>Customer ID</th>\n",
       "      <th>Recency</th>\n",
       "      <th>T</th>\n",
       "      <th>Frequency</th>\n",
       "      <th>Monetary</th>\n",
       "    </tr>\n",
       "  </thead>\n",
       "  <tbody>\n",
       "    <tr>\n",
       "      <th>1</th>\n",
       "      <td>12347.0</td>\n",
       "      <td>45.428571</td>\n",
       "      <td>52.571429</td>\n",
       "      <td>2</td>\n",
       "      <td>593.590</td>\n",
       "    </tr>\n",
       "    <tr>\n",
       "      <th>2</th>\n",
       "      <td>12348.0</td>\n",
       "      <td>45.571429</td>\n",
       "      <td>51.285714</td>\n",
       "      <td>2</td>\n",
       "      <td>560.120</td>\n",
       "    </tr>\n",
       "    <tr>\n",
       "      <th>6</th>\n",
       "      <td>12359.0</td>\n",
       "      <td>43.714286</td>\n",
       "      <td>47.428571</td>\n",
       "      <td>2</td>\n",
       "      <td>1193.205</td>\n",
       "    </tr>\n",
       "    <tr>\n",
       "      <th>8</th>\n",
       "      <td>12365.0</td>\n",
       "      <td>41.714286</td>\n",
       "      <td>41.714286</td>\n",
       "      <td>2</td>\n",
       "      <td>320.690</td>\n",
       "    </tr>\n",
       "    <tr>\n",
       "      <th>9</th>\n",
       "      <td>12370.0</td>\n",
       "      <td>51.142857</td>\n",
       "      <td>51.571429</td>\n",
       "      <td>2</td>\n",
       "      <td>934.010</td>\n",
       "    </tr>\n",
       "  </tbody>\n",
       "</table>\n",
       "</div>"
      ],
      "text/plain": [
       "   Customer ID    Recency          T  Frequency  Monetary\n",
       "1      12347.0  45.428571  52.571429          2   593.590\n",
       "2      12348.0  45.571429  51.285714          2   560.120\n",
       "6      12359.0  43.714286  47.428571          2  1193.205\n",
       "8      12365.0  41.714286  41.714286          2   320.690\n",
       "9      12370.0  51.142857  51.571429          2   934.010"
      ]
     },
     "execution_count": 243,
     "metadata": {},
     "output_type": "execute_result"
    }
   ],
   "source": [
    "CLTV.head()"
   ]
  },
  {
   "cell_type": "markdown",
   "id": "34b75172",
   "metadata": {},
   "source": [
    "## EDA"
   ]
  },
  {
   "cell_type": "code",
   "execution_count": 244,
   "id": "865f09e4",
   "metadata": {},
   "outputs": [
    {
     "name": "stdout",
     "output_type": "stream",
     "text": [
      "RFM dfFrame:\n"
     ]
    },
    {
     "data": {
      "text/html": [
       "<div>\n",
       "<style scoped>\n",
       "    .dataframe tbody tr th:only-of-type {\n",
       "        vertical-align: middle;\n",
       "    }\n",
       "\n",
       "    .dataframe tbody tr th {\n",
       "        vertical-align: top;\n",
       "    }\n",
       "\n",
       "    .dataframe thead th {\n",
       "        text-align: right;\n",
       "    }\n",
       "</style>\n",
       "<table border=\"1\" class=\"dataframe\">\n",
       "  <thead>\n",
       "    <tr style=\"text-align: right;\">\n",
       "      <th></th>\n",
       "      <th>Recency</th>\n",
       "      <th>Frequency</th>\n",
       "      <th>Monetary</th>\n",
       "      <th>Recency_Score</th>\n",
       "      <th>Frequency_Score</th>\n",
       "      <th>Monetary_Score</th>\n",
       "      <th>RF_Score</th>\n",
       "      <th>segment</th>\n",
       "    </tr>\n",
       "    <tr>\n",
       "      <th>Customer ID</th>\n",
       "      <th></th>\n",
       "      <th></th>\n",
       "      <th></th>\n",
       "      <th></th>\n",
       "      <th></th>\n",
       "      <th></th>\n",
       "      <th></th>\n",
       "      <th></th>\n",
       "    </tr>\n",
       "  </thead>\n",
       "  <tbody>\n",
       "    <tr>\n",
       "      <th>12346.0</th>\n",
       "      <td>4730</td>\n",
       "      <td>1</td>\n",
       "      <td>77183.60</td>\n",
       "      <td>5</td>\n",
       "      <td>1</td>\n",
       "      <td>5</td>\n",
       "      <td>51</td>\n",
       "      <td>New_Customers</td>\n",
       "    </tr>\n",
       "    <tr>\n",
       "      <th>12347.0</th>\n",
       "      <td>4722</td>\n",
       "      <td>2</td>\n",
       "      <td>1187.18</td>\n",
       "      <td>5</td>\n",
       "      <td>4</td>\n",
       "      <td>5</td>\n",
       "      <td>54</td>\n",
       "      <td>Champions</td>\n",
       "    </tr>\n",
       "    <tr>\n",
       "      <th>12348.0</th>\n",
       "      <td>4723</td>\n",
       "      <td>2</td>\n",
       "      <td>1120.24</td>\n",
       "      <td>5</td>\n",
       "      <td>4</td>\n",
       "      <td>5</td>\n",
       "      <td>54</td>\n",
       "      <td>Champions</td>\n",
       "    </tr>\n",
       "    <tr>\n",
       "      <th>12350.0</th>\n",
       "      <td>4715</td>\n",
       "      <td>1</td>\n",
       "      <td>334.40</td>\n",
       "      <td>5</td>\n",
       "      <td>1</td>\n",
       "      <td>3</td>\n",
       "      <td>51</td>\n",
       "      <td>New_Customers</td>\n",
       "    </tr>\n",
       "    <tr>\n",
       "      <th>12352.0</th>\n",
       "      <td>4701</td>\n",
       "      <td>1</td>\n",
       "      <td>296.50</td>\n",
       "      <td>5</td>\n",
       "      <td>1</td>\n",
       "      <td>2</td>\n",
       "      <td>51</td>\n",
       "      <td>New_Customers</td>\n",
       "    </tr>\n",
       "  </tbody>\n",
       "</table>\n",
       "</div>"
      ],
      "text/plain": [
       "             Recency  Frequency  Monetary Recency_Score Frequency_Score  \\\n",
       "Customer ID                                                               \n",
       "12346.0         4730          1  77183.60             5               1   \n",
       "12347.0         4722          2   1187.18             5               4   \n",
       "12348.0         4723          2   1120.24             5               4   \n",
       "12350.0         4715          1    334.40             5               1   \n",
       "12352.0         4701          1    296.50             5               1   \n",
       "\n",
       "            Monetary_Score RF_Score        segment  \n",
       "Customer ID                                         \n",
       "12346.0                  5       51  New_Customers  \n",
       "12347.0                  5       54      Champions  \n",
       "12348.0                  5       54      Champions  \n",
       "12350.0                  3       51  New_Customers  \n",
       "12352.0                  2       51  New_Customers  "
      ]
     },
     "execution_count": 244,
     "metadata": {},
     "output_type": "execute_result"
    }
   ],
   "source": [
    "# Inspecting the first few rows of the dfsets\n",
    "print(\"RFM dfFrame:\")\n",
    "RFM.head()"
   ]
  },
  {
   "cell_type": "code",
   "execution_count": 245,
   "id": "ba5993c1",
   "metadata": {},
   "outputs": [
    {
     "name": "stdout",
     "output_type": "stream",
     "text": [
      "\n",
      "CLTV dfFrame:\n"
     ]
    },
    {
     "data": {
      "text/html": [
       "<div>\n",
       "<style scoped>\n",
       "    .dataframe tbody tr th:only-of-type {\n",
       "        vertical-align: middle;\n",
       "    }\n",
       "\n",
       "    .dataframe tbody tr th {\n",
       "        vertical-align: top;\n",
       "    }\n",
       "\n",
       "    .dataframe thead th {\n",
       "        text-align: right;\n",
       "    }\n",
       "</style>\n",
       "<table border=\"1\" class=\"dataframe\">\n",
       "  <thead>\n",
       "    <tr style=\"text-align: right;\">\n",
       "      <th></th>\n",
       "      <th>Customer ID</th>\n",
       "      <th>Recency</th>\n",
       "      <th>T</th>\n",
       "      <th>Frequency</th>\n",
       "      <th>Monetary</th>\n",
       "    </tr>\n",
       "  </thead>\n",
       "  <tbody>\n",
       "    <tr>\n",
       "      <th>1</th>\n",
       "      <td>12347.0</td>\n",
       "      <td>45.428571</td>\n",
       "      <td>52.571429</td>\n",
       "      <td>2</td>\n",
       "      <td>593.590</td>\n",
       "    </tr>\n",
       "    <tr>\n",
       "      <th>2</th>\n",
       "      <td>12348.0</td>\n",
       "      <td>45.571429</td>\n",
       "      <td>51.285714</td>\n",
       "      <td>2</td>\n",
       "      <td>560.120</td>\n",
       "    </tr>\n",
       "    <tr>\n",
       "      <th>6</th>\n",
       "      <td>12359.0</td>\n",
       "      <td>43.714286</td>\n",
       "      <td>47.428571</td>\n",
       "      <td>2</td>\n",
       "      <td>1193.205</td>\n",
       "    </tr>\n",
       "    <tr>\n",
       "      <th>8</th>\n",
       "      <td>12365.0</td>\n",
       "      <td>41.714286</td>\n",
       "      <td>41.714286</td>\n",
       "      <td>2</td>\n",
       "      <td>320.690</td>\n",
       "    </tr>\n",
       "    <tr>\n",
       "      <th>9</th>\n",
       "      <td>12370.0</td>\n",
       "      <td>51.142857</td>\n",
       "      <td>51.571429</td>\n",
       "      <td>2</td>\n",
       "      <td>934.010</td>\n",
       "    </tr>\n",
       "  </tbody>\n",
       "</table>\n",
       "</div>"
      ],
      "text/plain": [
       "   Customer ID    Recency          T  Frequency  Monetary\n",
       "1      12347.0  45.428571  52.571429          2   593.590\n",
       "2      12348.0  45.571429  51.285714          2   560.120\n",
       "6      12359.0  43.714286  47.428571          2  1193.205\n",
       "8      12365.0  41.714286  41.714286          2   320.690\n",
       "9      12370.0  51.142857  51.571429          2   934.010"
      ]
     },
     "execution_count": 245,
     "metadata": {},
     "output_type": "execute_result"
    }
   ],
   "source": [
    "print(\"\\nCLTV dfFrame:\")\n",
    "CLTV.head()"
   ]
  },
  {
   "cell_type": "code",
   "execution_count": 246,
   "id": "bcbab187",
   "metadata": {},
   "outputs": [],
   "source": [
    "# Converting the score columns to integer type\n",
    "RFMv2 = RFM.copy()\n",
    "RFMv2[\"Recency_Score\"] = RFMv2[\"Recency_Score\"].astype(int)\n",
    "RFMv2[\"Frequency_Score\"] = RFMv2[\"Frequency_Score\"].astype(int)\n",
    "RFMv2[\"Monetary_Score\"] = RFMv2[\"Monetary_Score\"].astype(int)"
   ]
  },
  {
   "cell_type": "code",
   "execution_count": 247,
   "id": "e3df2b1e",
   "metadata": {},
   "outputs": [
    {
     "name": "stdout",
     "output_type": "stream",
     "text": [
      "Top five Recency - RF Score 55\n"
     ]
    },
    {
     "data": {
      "text/html": [
       "<div>\n",
       "<style scoped>\n",
       "    .dataframe tbody tr th:only-of-type {\n",
       "        vertical-align: middle;\n",
       "    }\n",
       "\n",
       "    .dataframe tbody tr th {\n",
       "        vertical-align: top;\n",
       "    }\n",
       "\n",
       "    .dataframe thead th {\n",
       "        text-align: right;\n",
       "    }\n",
       "</style>\n",
       "<table border=\"1\" class=\"dataframe\">\n",
       "  <thead>\n",
       "    <tr style=\"text-align: right;\">\n",
       "      <th></th>\n",
       "      <th>Recency</th>\n",
       "      <th>Frequency</th>\n",
       "      <th>Monetary</th>\n",
       "      <th>Recency_Score</th>\n",
       "      <th>Frequency_Score</th>\n",
       "      <th>Monetary_Score</th>\n",
       "      <th>RF_Score</th>\n",
       "      <th>segment</th>\n",
       "    </tr>\n",
       "    <tr>\n",
       "      <th>Customer ID</th>\n",
       "      <th></th>\n",
       "      <th></th>\n",
       "      <th></th>\n",
       "      <th></th>\n",
       "      <th></th>\n",
       "      <th></th>\n",
       "      <th></th>\n",
       "      <th></th>\n",
       "    </tr>\n",
       "  </thead>\n",
       "  <tbody>\n",
       "    <tr>\n",
       "      <th>15373.0</th>\n",
       "      <td>4694</td>\n",
       "      <td>4</td>\n",
       "      <td>900.00</td>\n",
       "      <td>5</td>\n",
       "      <td>5</td>\n",
       "      <td>4</td>\n",
       "      <td>55</td>\n",
       "      <td>Champions</td>\n",
       "    </tr>\n",
       "    <tr>\n",
       "      <th>18041.0</th>\n",
       "      <td>4694</td>\n",
       "      <td>7</td>\n",
       "      <td>1557.58</td>\n",
       "      <td>5</td>\n",
       "      <td>5</td>\n",
       "      <td>5</td>\n",
       "      <td>55</td>\n",
       "      <td>Champions</td>\n",
       "    </tr>\n",
       "    <tr>\n",
       "      <th>13089.0</th>\n",
       "      <td>4694</td>\n",
       "      <td>24</td>\n",
       "      <td>15557.62</td>\n",
       "      <td>5</td>\n",
       "      <td>5</td>\n",
       "      <td>5</td>\n",
       "      <td>55</td>\n",
       "      <td>Champions</td>\n",
       "    </tr>\n",
       "    <tr>\n",
       "      <th>14156.0</th>\n",
       "      <td>4694</td>\n",
       "      <td>7</td>\n",
       "      <td>25752.25</td>\n",
       "      <td>5</td>\n",
       "      <td>5</td>\n",
       "      <td>5</td>\n",
       "      <td>55</td>\n",
       "      <td>Champions</td>\n",
       "    </tr>\n",
       "    <tr>\n",
       "      <th>14978.0</th>\n",
       "      <td>4694</td>\n",
       "      <td>3</td>\n",
       "      <td>1142.45</td>\n",
       "      <td>5</td>\n",
       "      <td>5</td>\n",
       "      <td>5</td>\n",
       "      <td>55</td>\n",
       "      <td>Champions</td>\n",
       "    </tr>\n",
       "  </tbody>\n",
       "</table>\n",
       "</div>"
      ],
      "text/plain": [
       "             Recency  Frequency  Monetary Recency_Score Frequency_Score  \\\n",
       "Customer ID                                                               \n",
       "15373.0         4694          4    900.00             5               5   \n",
       "18041.0         4694          7   1557.58             5               5   \n",
       "13089.0         4694         24  15557.62             5               5   \n",
       "14156.0         4694          7  25752.25             5               5   \n",
       "14978.0         4694          3   1142.45             5               5   \n",
       "\n",
       "            Monetary_Score RF_Score    segment  \n",
       "Customer ID                                     \n",
       "15373.0                  4       55  Champions  \n",
       "18041.0                  5       55  Champions  \n",
       "13089.0                  5       55  Champions  \n",
       "14156.0                  5       55  Champions  \n",
       "14978.0                  5       55  Champions  "
      ]
     },
     "execution_count": 247,
     "metadata": {},
     "output_type": "execute_result"
    }
   ],
   "source": [
    "rfScore = \"55\"\n",
    "# Sorting and displaying based on Recency\n",
    "print(f\"Top five Recency - RF Score {rfScore}\")\n",
    "RFM[RFM[\"RF_Score\"] == rfScore].sort_values(by=\"Recency\", ascending=True).head()"
   ]
  },
  {
   "cell_type": "code",
   "execution_count": 248,
   "id": "8684ef8e",
   "metadata": {},
   "outputs": [
    {
     "name": "stdout",
     "output_type": "stream",
     "text": [
      "\n",
      "Bottom five Recency - RF Score 55\n"
     ]
    },
    {
     "data": {
      "text/html": [
       "<div>\n",
       "<style scoped>\n",
       "    .dataframe tbody tr th:only-of-type {\n",
       "        vertical-align: middle;\n",
       "    }\n",
       "\n",
       "    .dataframe tbody tr th {\n",
       "        vertical-align: top;\n",
       "    }\n",
       "\n",
       "    .dataframe thead th {\n",
       "        text-align: right;\n",
       "    }\n",
       "</style>\n",
       "<table border=\"1\" class=\"dataframe\">\n",
       "  <thead>\n",
       "    <tr style=\"text-align: right;\">\n",
       "      <th></th>\n",
       "      <th>Recency</th>\n",
       "      <th>Frequency</th>\n",
       "      <th>Monetary</th>\n",
       "      <th>Recency_Score</th>\n",
       "      <th>Frequency_Score</th>\n",
       "      <th>Monetary_Score</th>\n",
       "      <th>RF_Score</th>\n",
       "      <th>segment</th>\n",
       "    </tr>\n",
       "    <tr>\n",
       "      <th>Customer ID</th>\n",
       "      <th></th>\n",
       "      <th></th>\n",
       "      <th></th>\n",
       "      <th></th>\n",
       "      <th></th>\n",
       "      <th></th>\n",
       "      <th></th>\n",
       "      <th></th>\n",
       "    </tr>\n",
       "  </thead>\n",
       "  <tbody>\n",
       "    <tr>\n",
       "      <th>17850.0</th>\n",
       "      <td>4777</td>\n",
       "      <td>34</td>\n",
       "      <td>5391.21</td>\n",
       "      <td>5</td>\n",
       "      <td>5</td>\n",
       "      <td>5</td>\n",
       "      <td>55</td>\n",
       "      <td>Champions</td>\n",
       "    </tr>\n",
       "    <tr>\n",
       "      <th>15299.0</th>\n",
       "      <td>4777</td>\n",
       "      <td>3</td>\n",
       "      <td>1835.01</td>\n",
       "      <td>5</td>\n",
       "      <td>5</td>\n",
       "      <td>5</td>\n",
       "      <td>55</td>\n",
       "      <td>Champions</td>\n",
       "    </tr>\n",
       "    <tr>\n",
       "      <th>15502.0</th>\n",
       "      <td>4773</td>\n",
       "      <td>3</td>\n",
       "      <td>929.40</td>\n",
       "      <td>5</td>\n",
       "      <td>5</td>\n",
       "      <td>4</td>\n",
       "      <td>55</td>\n",
       "      <td>Champions</td>\n",
       "    </tr>\n",
       "    <tr>\n",
       "      <th>17191.0</th>\n",
       "      <td>4773</td>\n",
       "      <td>3</td>\n",
       "      <td>510.11</td>\n",
       "      <td>5</td>\n",
       "      <td>5</td>\n",
       "      <td>3</td>\n",
       "      <td>55</td>\n",
       "      <td>Champions</td>\n",
       "    </tr>\n",
       "    <tr>\n",
       "      <th>15332.0</th>\n",
       "      <td>4771</td>\n",
       "      <td>4</td>\n",
       "      <td>1661.06</td>\n",
       "      <td>5</td>\n",
       "      <td>5</td>\n",
       "      <td>5</td>\n",
       "      <td>55</td>\n",
       "      <td>Champions</td>\n",
       "    </tr>\n",
       "  </tbody>\n",
       "</table>\n",
       "</div>"
      ],
      "text/plain": [
       "             Recency  Frequency  Monetary Recency_Score Frequency_Score  \\\n",
       "Customer ID                                                               \n",
       "17850.0         4777         34   5391.21             5               5   \n",
       "15299.0         4777          3   1835.01             5               5   \n",
       "15502.0         4773          3    929.40             5               5   \n",
       "17191.0         4773          3    510.11             5               5   \n",
       "15332.0         4771          4   1661.06             5               5   \n",
       "\n",
       "            Monetary_Score RF_Score    segment  \n",
       "Customer ID                                     \n",
       "17850.0                  5       55  Champions  \n",
       "15299.0                  5       55  Champions  \n",
       "15502.0                  4       55  Champions  \n",
       "17191.0                  3       55  Champions  \n",
       "15332.0                  5       55  Champions  "
      ]
     },
     "execution_count": 248,
     "metadata": {},
     "output_type": "execute_result"
    }
   ],
   "source": [
    "print(f\"\\nBottom five Recency - RF Score {rfScore}\")\n",
    "RFM[RFM[\"RF_Score\"] == rfScore].sort_values(by=\"Recency\", ascending=False).head()"
   ]
  },
  {
   "cell_type": "code",
   "execution_count": 249,
   "id": "20193c5b",
   "metadata": {},
   "outputs": [
    {
     "name": "stdout",
     "output_type": "stream",
     "text": [
      "\n",
      "Top five Frequency - RF Score 55\n"
     ]
    },
    {
     "data": {
      "text/html": [
       "<div>\n",
       "<style scoped>\n",
       "    .dataframe tbody tr th:only-of-type {\n",
       "        vertical-align: middle;\n",
       "    }\n",
       "\n",
       "    .dataframe tbody tr th {\n",
       "        vertical-align: top;\n",
       "    }\n",
       "\n",
       "    .dataframe thead th {\n",
       "        text-align: right;\n",
       "    }\n",
       "</style>\n",
       "<table border=\"1\" class=\"dataframe\">\n",
       "  <thead>\n",
       "    <tr style=\"text-align: right;\">\n",
       "      <th></th>\n",
       "      <th>Recency</th>\n",
       "      <th>Frequency</th>\n",
       "      <th>Monetary</th>\n",
       "      <th>Recency_Score</th>\n",
       "      <th>Frequency_Score</th>\n",
       "      <th>Monetary_Score</th>\n",
       "      <th>RF_Score</th>\n",
       "      <th>segment</th>\n",
       "    </tr>\n",
       "    <tr>\n",
       "      <th>Customer ID</th>\n",
       "      <th></th>\n",
       "      <th></th>\n",
       "      <th></th>\n",
       "      <th></th>\n",
       "      <th></th>\n",
       "      <th></th>\n",
       "      <th></th>\n",
       "      <th></th>\n",
       "    </tr>\n",
       "  </thead>\n",
       "  <tbody>\n",
       "    <tr>\n",
       "      <th>12748.0</th>\n",
       "      <td>4695</td>\n",
       "      <td>41</td>\n",
       "      <td>4678.65</td>\n",
       "      <td>5</td>\n",
       "      <td>5</td>\n",
       "      <td>5</td>\n",
       "      <td>55</td>\n",
       "      <td>Champions</td>\n",
       "    </tr>\n",
       "    <tr>\n",
       "      <th>17850.0</th>\n",
       "      <td>4777</td>\n",
       "      <td>34</td>\n",
       "      <td>5391.21</td>\n",
       "      <td>5</td>\n",
       "      <td>5</td>\n",
       "      <td>5</td>\n",
       "      <td>55</td>\n",
       "      <td>Champions</td>\n",
       "    </tr>\n",
       "    <tr>\n",
       "      <th>15311.0</th>\n",
       "      <td>4694</td>\n",
       "      <td>26</td>\n",
       "      <td>12877.85</td>\n",
       "      <td>5</td>\n",
       "      <td>5</td>\n",
       "      <td>5</td>\n",
       "      <td>55</td>\n",
       "      <td>Champions</td>\n",
       "    </tr>\n",
       "    <tr>\n",
       "      <th>14606.0</th>\n",
       "      <td>4697</td>\n",
       "      <td>24</td>\n",
       "      <td>3674.44</td>\n",
       "      <td>5</td>\n",
       "      <td>5</td>\n",
       "      <td>5</td>\n",
       "      <td>55</td>\n",
       "      <td>Champions</td>\n",
       "    </tr>\n",
       "    <tr>\n",
       "      <th>13089.0</th>\n",
       "      <td>4694</td>\n",
       "      <td>24</td>\n",
       "      <td>15557.62</td>\n",
       "      <td>5</td>\n",
       "      <td>5</td>\n",
       "      <td>5</td>\n",
       "      <td>55</td>\n",
       "      <td>Champions</td>\n",
       "    </tr>\n",
       "  </tbody>\n",
       "</table>\n",
       "</div>"
      ],
      "text/plain": [
       "             Recency  Frequency  Monetary Recency_Score Frequency_Score  \\\n",
       "Customer ID                                                               \n",
       "12748.0         4695         41   4678.65             5               5   \n",
       "17850.0         4777         34   5391.21             5               5   \n",
       "15311.0         4694         26  12877.85             5               5   \n",
       "14606.0         4697         24   3674.44             5               5   \n",
       "13089.0         4694         24  15557.62             5               5   \n",
       "\n",
       "            Monetary_Score RF_Score    segment  \n",
       "Customer ID                                     \n",
       "12748.0                  5       55  Champions  \n",
       "17850.0                  5       55  Champions  \n",
       "15311.0                  5       55  Champions  \n",
       "14606.0                  5       55  Champions  \n",
       "13089.0                  5       55  Champions  "
      ]
     },
     "execution_count": 249,
     "metadata": {},
     "output_type": "execute_result"
    }
   ],
   "source": [
    "# Sorting and displaying based on Frequency\n",
    "print(f\"\\nTop five Frequency - RF Score {rfScore}\")\n",
    "RFM[RFM[\"RF_Score\"] == rfScore].sort_values(by=\"Frequency\", ascending=False).head()"
   ]
  },
  {
   "cell_type": "code",
   "execution_count": 250,
   "id": "9da0fc64",
   "metadata": {},
   "outputs": [
    {
     "name": "stdout",
     "output_type": "stream",
     "text": [
      "\n",
      "Bottom five Frequency - RF Score 55\n"
     ]
    },
    {
     "data": {
      "text/html": [
       "<div>\n",
       "<style scoped>\n",
       "    .dataframe tbody tr th:only-of-type {\n",
       "        vertical-align: middle;\n",
       "    }\n",
       "\n",
       "    .dataframe tbody tr th {\n",
       "        vertical-align: top;\n",
       "    }\n",
       "\n",
       "    .dataframe thead th {\n",
       "        text-align: right;\n",
       "    }\n",
       "</style>\n",
       "<table border=\"1\" class=\"dataframe\">\n",
       "  <thead>\n",
       "    <tr style=\"text-align: right;\">\n",
       "      <th></th>\n",
       "      <th>Recency</th>\n",
       "      <th>Frequency</th>\n",
       "      <th>Monetary</th>\n",
       "      <th>Recency_Score</th>\n",
       "      <th>Frequency_Score</th>\n",
       "      <th>Monetary_Score</th>\n",
       "      <th>RF_Score</th>\n",
       "      <th>segment</th>\n",
       "    </tr>\n",
       "    <tr>\n",
       "      <th>Customer ID</th>\n",
       "      <th></th>\n",
       "      <th></th>\n",
       "      <th></th>\n",
       "      <th></th>\n",
       "      <th></th>\n",
       "      <th></th>\n",
       "      <th></th>\n",
       "      <th></th>\n",
       "    </tr>\n",
       "  </thead>\n",
       "  <tbody>\n",
       "    <tr>\n",
       "      <th>15574.0</th>\n",
       "      <td>4763</td>\n",
       "      <td>3</td>\n",
       "      <td>590.15</td>\n",
       "      <td>5</td>\n",
       "      <td>5</td>\n",
       "      <td>4</td>\n",
       "      <td>55</td>\n",
       "      <td>Champions</td>\n",
       "    </tr>\n",
       "    <tr>\n",
       "      <th>15854.0</th>\n",
       "      <td>4716</td>\n",
       "      <td>3</td>\n",
       "      <td>747.30</td>\n",
       "      <td>5</td>\n",
       "      <td>5</td>\n",
       "      <td>4</td>\n",
       "      <td>55</td>\n",
       "      <td>Champions</td>\n",
       "    </tr>\n",
       "    <tr>\n",
       "      <th>15916.0</th>\n",
       "      <td>4735</td>\n",
       "      <td>3</td>\n",
       "      <td>575.06</td>\n",
       "      <td>5</td>\n",
       "      <td>5</td>\n",
       "      <td>4</td>\n",
       "      <td>55</td>\n",
       "      <td>Champions</td>\n",
       "    </tr>\n",
       "    <tr>\n",
       "      <th>15939.0</th>\n",
       "      <td>4716</td>\n",
       "      <td>3</td>\n",
       "      <td>1116.30</td>\n",
       "      <td>5</td>\n",
       "      <td>5</td>\n",
       "      <td>5</td>\n",
       "      <td>55</td>\n",
       "      <td>Champions</td>\n",
       "    </tr>\n",
       "    <tr>\n",
       "      <th>15983.0</th>\n",
       "      <td>4765</td>\n",
       "      <td>3</td>\n",
       "      <td>1148.27</td>\n",
       "      <td>5</td>\n",
       "      <td>5</td>\n",
       "      <td>5</td>\n",
       "      <td>55</td>\n",
       "      <td>Champions</td>\n",
       "    </tr>\n",
       "  </tbody>\n",
       "</table>\n",
       "</div>"
      ],
      "text/plain": [
       "             Recency  Frequency  Monetary Recency_Score Frequency_Score  \\\n",
       "Customer ID                                                               \n",
       "15574.0         4763          3    590.15             5               5   \n",
       "15854.0         4716          3    747.30             5               5   \n",
       "15916.0         4735          3    575.06             5               5   \n",
       "15939.0         4716          3   1116.30             5               5   \n",
       "15983.0         4765          3   1148.27             5               5   \n",
       "\n",
       "            Monetary_Score RF_Score    segment  \n",
       "Customer ID                                     \n",
       "15574.0                  4       55  Champions  \n",
       "15854.0                  4       55  Champions  \n",
       "15916.0                  4       55  Champions  \n",
       "15939.0                  5       55  Champions  \n",
       "15983.0                  5       55  Champions  "
      ]
     },
     "execution_count": 250,
     "metadata": {},
     "output_type": "execute_result"
    }
   ],
   "source": [
    "print(f\"\\nBottom five Frequency - RF Score {rfScore}\")\n",
    "RFM[RFM[\"RF_Score\"] == rfScore].sort_values(by=\"Frequency\", ascending=True).head()"
   ]
  },
  {
   "cell_type": "code",
   "execution_count": 251,
   "id": "d5bf4497",
   "metadata": {},
   "outputs": [
    {
     "name": "stdout",
     "output_type": "stream",
     "text": [
      "\n",
      "Top five Monetary - RF Score 55\n"
     ]
    },
    {
     "data": {
      "text/html": [
       "<div>\n",
       "<style scoped>\n",
       "    .dataframe tbody tr th:only-of-type {\n",
       "        vertical-align: middle;\n",
       "    }\n",
       "\n",
       "    .dataframe tbody tr th {\n",
       "        vertical-align: top;\n",
       "    }\n",
       "\n",
       "    .dataframe thead th {\n",
       "        text-align: right;\n",
       "    }\n",
       "</style>\n",
       "<table border=\"1\" class=\"dataframe\">\n",
       "  <thead>\n",
       "    <tr style=\"text-align: right;\">\n",
       "      <th></th>\n",
       "      <th>Recency</th>\n",
       "      <th>Frequency</th>\n",
       "      <th>Monetary</th>\n",
       "      <th>Recency_Score</th>\n",
       "      <th>Frequency_Score</th>\n",
       "      <th>Monetary_Score</th>\n",
       "      <th>RF_Score</th>\n",
       "      <th>segment</th>\n",
       "    </tr>\n",
       "    <tr>\n",
       "      <th>Customer ID</th>\n",
       "      <th></th>\n",
       "      <th></th>\n",
       "      <th></th>\n",
       "      <th></th>\n",
       "      <th></th>\n",
       "      <th></th>\n",
       "      <th></th>\n",
       "      <th></th>\n",
       "    </tr>\n",
       "  </thead>\n",
       "  <tbody>\n",
       "    <tr>\n",
       "      <th>14646.0</th>\n",
       "      <td>4695</td>\n",
       "      <td>10</td>\n",
       "      <td>57866.02</td>\n",
       "      <td>5</td>\n",
       "      <td>5</td>\n",
       "      <td>5</td>\n",
       "      <td>55</td>\n",
       "      <td>Champions</td>\n",
       "    </tr>\n",
       "    <tr>\n",
       "      <th>18102.0</th>\n",
       "      <td>4710</td>\n",
       "      <td>6</td>\n",
       "      <td>38370.09</td>\n",
       "      <td>5</td>\n",
       "      <td>5</td>\n",
       "      <td>5</td>\n",
       "      <td>55</td>\n",
       "      <td>Champions</td>\n",
       "    </tr>\n",
       "    <tr>\n",
       "      <th>14156.0</th>\n",
       "      <td>4694</td>\n",
       "      <td>7</td>\n",
       "      <td>25752.25</td>\n",
       "      <td>5</td>\n",
       "      <td>5</td>\n",
       "      <td>5</td>\n",
       "      <td>55</td>\n",
       "      <td>Champions</td>\n",
       "    </tr>\n",
       "    <tr>\n",
       "      <th>15061.0</th>\n",
       "      <td>4706</td>\n",
       "      <td>18</td>\n",
       "      <td>22671.33</td>\n",
       "      <td>5</td>\n",
       "      <td>5</td>\n",
       "      <td>5</td>\n",
       "      <td>55</td>\n",
       "      <td>Champions</td>\n",
       "    </tr>\n",
       "    <tr>\n",
       "      <th>17450.0</th>\n",
       "      <td>4737</td>\n",
       "      <td>5</td>\n",
       "      <td>20649.04</td>\n",
       "      <td>5</td>\n",
       "      <td>5</td>\n",
       "      <td>5</td>\n",
       "      <td>55</td>\n",
       "      <td>Champions</td>\n",
       "    </tr>\n",
       "  </tbody>\n",
       "</table>\n",
       "</div>"
      ],
      "text/plain": [
       "             Recency  Frequency  Monetary Recency_Score Frequency_Score  \\\n",
       "Customer ID                                                               \n",
       "14646.0         4695         10  57866.02             5               5   \n",
       "18102.0         4710          6  38370.09             5               5   \n",
       "14156.0         4694          7  25752.25             5               5   \n",
       "15061.0         4706         18  22671.33             5               5   \n",
       "17450.0         4737          5  20649.04             5               5   \n",
       "\n",
       "            Monetary_Score RF_Score    segment  \n",
       "Customer ID                                     \n",
       "14646.0                  5       55  Champions  \n",
       "18102.0                  5       55  Champions  \n",
       "14156.0                  5       55  Champions  \n",
       "15061.0                  5       55  Champions  \n",
       "17450.0                  5       55  Champions  "
      ]
     },
     "execution_count": 251,
     "metadata": {},
     "output_type": "execute_result"
    }
   ],
   "source": [
    "# Sorting and displaying based on Monetary\n",
    "print(f\"\\nTop five Monetary - RF Score {rfScore}\")\n",
    "RFM[RFM[\"RF_Score\"] == rfScore].sort_values(by=\"Monetary\", ascending=False).head()"
   ]
  },
  {
   "cell_type": "code",
   "execution_count": 252,
   "id": "ad9e8c16",
   "metadata": {},
   "outputs": [
    {
     "name": "stdout",
     "output_type": "stream",
     "text": [
      "\n",
      "Bottom five Monetary - RF Score 55\n"
     ]
    },
    {
     "data": {
      "text/html": [
       "<div>\n",
       "<style scoped>\n",
       "    .dataframe tbody tr th:only-of-type {\n",
       "        vertical-align: middle;\n",
       "    }\n",
       "\n",
       "    .dataframe tbody tr th {\n",
       "        vertical-align: top;\n",
       "    }\n",
       "\n",
       "    .dataframe thead th {\n",
       "        text-align: right;\n",
       "    }\n",
       "</style>\n",
       "<table border=\"1\" class=\"dataframe\">\n",
       "  <thead>\n",
       "    <tr style=\"text-align: right;\">\n",
       "      <th></th>\n",
       "      <th>Recency</th>\n",
       "      <th>Frequency</th>\n",
       "      <th>Monetary</th>\n",
       "      <th>Recency_Score</th>\n",
       "      <th>Frequency_Score</th>\n",
       "      <th>Monetary_Score</th>\n",
       "      <th>RF_Score</th>\n",
       "      <th>segment</th>\n",
       "    </tr>\n",
       "    <tr>\n",
       "      <th>Customer ID</th>\n",
       "      <th></th>\n",
       "      <th></th>\n",
       "      <th></th>\n",
       "      <th></th>\n",
       "      <th></th>\n",
       "      <th></th>\n",
       "      <th></th>\n",
       "      <th></th>\n",
       "    </tr>\n",
       "  </thead>\n",
       "  <tbody>\n",
       "    <tr>\n",
       "      <th>17460.0</th>\n",
       "      <td>4723</td>\n",
       "      <td>3</td>\n",
       "      <td>203.80</td>\n",
       "      <td>5</td>\n",
       "      <td>5</td>\n",
       "      <td>2</td>\n",
       "      <td>55</td>\n",
       "      <td>Champions</td>\n",
       "    </tr>\n",
       "    <tr>\n",
       "      <th>17848.0</th>\n",
       "      <td>4715</td>\n",
       "      <td>3</td>\n",
       "      <td>213.91</td>\n",
       "      <td>5</td>\n",
       "      <td>5</td>\n",
       "      <td>2</td>\n",
       "      <td>55</td>\n",
       "      <td>Champions</td>\n",
       "    </tr>\n",
       "    <tr>\n",
       "      <th>16321.0</th>\n",
       "      <td>4710</td>\n",
       "      <td>3</td>\n",
       "      <td>223.65</td>\n",
       "      <td>5</td>\n",
       "      <td>5</td>\n",
       "      <td>2</td>\n",
       "      <td>55</td>\n",
       "      <td>Champions</td>\n",
       "    </tr>\n",
       "    <tr>\n",
       "      <th>17288.0</th>\n",
       "      <td>4700</td>\n",
       "      <td>3</td>\n",
       "      <td>290.52</td>\n",
       "      <td>5</td>\n",
       "      <td>5</td>\n",
       "      <td>2</td>\n",
       "      <td>55</td>\n",
       "      <td>Champions</td>\n",
       "    </tr>\n",
       "    <tr>\n",
       "      <th>17912.0</th>\n",
       "      <td>4715</td>\n",
       "      <td>5</td>\n",
       "      <td>311.01</td>\n",
       "      <td>5</td>\n",
       "      <td>5</td>\n",
       "      <td>2</td>\n",
       "      <td>55</td>\n",
       "      <td>Champions</td>\n",
       "    </tr>\n",
       "  </tbody>\n",
       "</table>\n",
       "</div>"
      ],
      "text/plain": [
       "             Recency  Frequency  Monetary Recency_Score Frequency_Score  \\\n",
       "Customer ID                                                               \n",
       "17460.0         4723          3    203.80             5               5   \n",
       "17848.0         4715          3    213.91             5               5   \n",
       "16321.0         4710          3    223.65             5               5   \n",
       "17288.0         4700          3    290.52             5               5   \n",
       "17912.0         4715          5    311.01             5               5   \n",
       "\n",
       "            Monetary_Score RF_Score    segment  \n",
       "Customer ID                                     \n",
       "17460.0                  2       55  Champions  \n",
       "17848.0                  2       55  Champions  \n",
       "16321.0                  2       55  Champions  \n",
       "17288.0                  2       55  Champions  \n",
       "17912.0                  2       55  Champions  "
      ]
     },
     "execution_count": 252,
     "metadata": {},
     "output_type": "execute_result"
    }
   ],
   "source": [
    "print(f\"\\nBottom five Monetary - RF Score {rfScore}\")\n",
    "RFM[RFM[\"RF_Score\"] == rfScore].sort_values(by=\"Monetary\", ascending=True).head()"
   ]
  },
  {
   "cell_type": "code",
   "execution_count": 253,
   "id": "eb668423",
   "metadata": {},
   "outputs": [
    {
     "name": "stdout",
     "output_type": "stream",
     "text": [
      "Top five Recency\n"
     ]
    },
    {
     "data": {
      "text/html": [
       "<div>\n",
       "<style scoped>\n",
       "    .dataframe tbody tr th:only-of-type {\n",
       "        vertical-align: middle;\n",
       "    }\n",
       "\n",
       "    .dataframe tbody tr th {\n",
       "        vertical-align: top;\n",
       "    }\n",
       "\n",
       "    .dataframe thead th {\n",
       "        text-align: right;\n",
       "    }\n",
       "</style>\n",
       "<table border=\"1\" class=\"dataframe\">\n",
       "  <thead>\n",
       "    <tr style=\"text-align: right;\">\n",
       "      <th></th>\n",
       "      <th>Recency</th>\n",
       "      <th>Frequency</th>\n",
       "      <th>Monetary</th>\n",
       "      <th>Recency_Score</th>\n",
       "      <th>Frequency_Score</th>\n",
       "      <th>Monetary_Score</th>\n",
       "      <th>RF_Score</th>\n",
       "      <th>segment</th>\n",
       "    </tr>\n",
       "    <tr>\n",
       "      <th>Customer ID</th>\n",
       "      <th></th>\n",
       "      <th></th>\n",
       "      <th></th>\n",
       "      <th></th>\n",
       "      <th></th>\n",
       "      <th></th>\n",
       "      <th></th>\n",
       "      <th></th>\n",
       "    </tr>\n",
       "  </thead>\n",
       "  <tbody>\n",
       "    <tr>\n",
       "      <th>13694.0</th>\n",
       "      <td>4694</td>\n",
       "      <td>10</td>\n",
       "      <td>10770.16</td>\n",
       "      <td>5</td>\n",
       "      <td>5</td>\n",
       "      <td>5</td>\n",
       "      <td>55</td>\n",
       "      <td>Champions</td>\n",
       "    </tr>\n",
       "    <tr>\n",
       "      <th>13089.0</th>\n",
       "      <td>4694</td>\n",
       "      <td>24</td>\n",
       "      <td>15557.62</td>\n",
       "      <td>5</td>\n",
       "      <td>5</td>\n",
       "      <td>5</td>\n",
       "      <td>55</td>\n",
       "      <td>Champions</td>\n",
       "    </tr>\n",
       "    <tr>\n",
       "      <th>15311.0</th>\n",
       "      <td>4694</td>\n",
       "      <td>26</td>\n",
       "      <td>12877.85</td>\n",
       "      <td>5</td>\n",
       "      <td>5</td>\n",
       "      <td>5</td>\n",
       "      <td>55</td>\n",
       "      <td>Champions</td>\n",
       "    </tr>\n",
       "    <tr>\n",
       "      <th>13804.0</th>\n",
       "      <td>4694</td>\n",
       "      <td>1</td>\n",
       "      <td>723.63</td>\n",
       "      <td>5</td>\n",
       "      <td>1</td>\n",
       "      <td>4</td>\n",
       "      <td>51</td>\n",
       "      <td>New_Customers</td>\n",
       "    </tr>\n",
       "    <tr>\n",
       "      <th>12980.0</th>\n",
       "      <td>4694</td>\n",
       "      <td>4</td>\n",
       "      <td>2834.94</td>\n",
       "      <td>5</td>\n",
       "      <td>5</td>\n",
       "      <td>5</td>\n",
       "      <td>55</td>\n",
       "      <td>Champions</td>\n",
       "    </tr>\n",
       "  </tbody>\n",
       "</table>\n",
       "</div>"
      ],
      "text/plain": [
       "             Recency  Frequency  Monetary Recency_Score Frequency_Score  \\\n",
       "Customer ID                                                               \n",
       "13694.0         4694         10  10770.16             5               5   \n",
       "13089.0         4694         24  15557.62             5               5   \n",
       "15311.0         4694         26  12877.85             5               5   \n",
       "13804.0         4694          1    723.63             5               1   \n",
       "12980.0         4694          4   2834.94             5               5   \n",
       "\n",
       "            Monetary_Score RF_Score        segment  \n",
       "Customer ID                                         \n",
       "13694.0                  5       55      Champions  \n",
       "13089.0                  5       55      Champions  \n",
       "15311.0                  5       55      Champions  \n",
       "13804.0                  4       51  New_Customers  \n",
       "12980.0                  5       55      Champions  "
      ]
     },
     "execution_count": 253,
     "metadata": {},
     "output_type": "execute_result"
    }
   ],
   "source": [
    "# Recency\n",
    "print(\"Top five Recency\")\n",
    "RFM.sort_values(by=\"Recency\", ascending=True).head()"
   ]
  },
  {
   "cell_type": "code",
   "execution_count": 254,
   "id": "e40ea2b8",
   "metadata": {},
   "outputs": [
    {
     "name": "stdout",
     "output_type": "stream",
     "text": [
      "\n",
      "Bottom five Recency\n"
     ]
    },
    {
     "data": {
      "text/html": [
       "<div>\n",
       "<style scoped>\n",
       "    .dataframe tbody tr th:only-of-type {\n",
       "        vertical-align: middle;\n",
       "    }\n",
       "\n",
       "    .dataframe tbody tr th {\n",
       "        vertical-align: top;\n",
       "    }\n",
       "\n",
       "    .dataframe thead th {\n",
       "        text-align: right;\n",
       "    }\n",
       "</style>\n",
       "<table border=\"1\" class=\"dataframe\">\n",
       "  <thead>\n",
       "    <tr style=\"text-align: right;\">\n",
       "      <th></th>\n",
       "      <th>Recency</th>\n",
       "      <th>Frequency</th>\n",
       "      <th>Monetary</th>\n",
       "      <th>Recency_Score</th>\n",
       "      <th>Frequency_Score</th>\n",
       "      <th>Monetary_Score</th>\n",
       "      <th>RF_Score</th>\n",
       "      <th>segment</th>\n",
       "    </tr>\n",
       "    <tr>\n",
       "      <th>Customer ID</th>\n",
       "      <th></th>\n",
       "      <th></th>\n",
       "      <th></th>\n",
       "      <th></th>\n",
       "      <th></th>\n",
       "      <th></th>\n",
       "      <th></th>\n",
       "      <th></th>\n",
       "    </tr>\n",
       "  </thead>\n",
       "  <tbody>\n",
       "    <tr>\n",
       "      <th>16218.0</th>\n",
       "      <td>4778</td>\n",
       "      <td>1</td>\n",
       "      <td>471.30</td>\n",
       "      <td>5</td>\n",
       "      <td>3</td>\n",
       "      <td>3</td>\n",
       "      <td>53</td>\n",
       "      <td>Potential_to_be_Loyal</td>\n",
       "    </tr>\n",
       "    <tr>\n",
       "      <th>16274.0</th>\n",
       "      <td>4778</td>\n",
       "      <td>1</td>\n",
       "      <td>357.95</td>\n",
       "      <td>5</td>\n",
       "      <td>3</td>\n",
       "      <td>3</td>\n",
       "      <td>53</td>\n",
       "      <td>Potential_to_be_Loyal</td>\n",
       "    </tr>\n",
       "    <tr>\n",
       "      <th>17572.0</th>\n",
       "      <td>4778</td>\n",
       "      <td>1</td>\n",
       "      <td>70.80</td>\n",
       "      <td>5</td>\n",
       "      <td>3</td>\n",
       "      <td>1</td>\n",
       "      <td>53</td>\n",
       "      <td>Potential_to_be_Loyal</td>\n",
       "    </tr>\n",
       "    <tr>\n",
       "      <th>17420.0</th>\n",
       "      <td>4778</td>\n",
       "      <td>1</td>\n",
       "      <td>130.85</td>\n",
       "      <td>5</td>\n",
       "      <td>3</td>\n",
       "      <td>1</td>\n",
       "      <td>53</td>\n",
       "      <td>Potential_to_be_Loyal</td>\n",
       "    </tr>\n",
       "    <tr>\n",
       "      <th>16552.0</th>\n",
       "      <td>4778</td>\n",
       "      <td>1</td>\n",
       "      <td>95.29</td>\n",
       "      <td>5</td>\n",
       "      <td>3</td>\n",
       "      <td>1</td>\n",
       "      <td>53</td>\n",
       "      <td>Potential_to_be_Loyal</td>\n",
       "    </tr>\n",
       "  </tbody>\n",
       "</table>\n",
       "</div>"
      ],
      "text/plain": [
       "             Recency  Frequency  Monetary Recency_Score Frequency_Score  \\\n",
       "Customer ID                                                               \n",
       "16218.0         4778          1    471.30             5               3   \n",
       "16274.0         4778          1    357.95             5               3   \n",
       "17572.0         4778          1     70.80             5               3   \n",
       "17420.0         4778          1    130.85             5               3   \n",
       "16552.0         4778          1     95.29             5               3   \n",
       "\n",
       "            Monetary_Score RF_Score                segment  \n",
       "Customer ID                                                 \n",
       "16218.0                  3       53  Potential_to_be_Loyal  \n",
       "16274.0                  3       53  Potential_to_be_Loyal  \n",
       "17572.0                  1       53  Potential_to_be_Loyal  \n",
       "17420.0                  1       53  Potential_to_be_Loyal  \n",
       "16552.0                  1       53  Potential_to_be_Loyal  "
      ]
     },
     "execution_count": 254,
     "metadata": {},
     "output_type": "execute_result"
    }
   ],
   "source": [
    "print(\"\\nBottom five Recency\")\n",
    "RFM.sort_values(by=\"Recency\", ascending=False).head()"
   ]
  },
  {
   "cell_type": "code",
   "execution_count": 255,
   "id": "45fbc5cb",
   "metadata": {},
   "outputs": [
    {
     "name": "stdout",
     "output_type": "stream",
     "text": [
      "\n",
      "Top five Frequency\n"
     ]
    },
    {
     "data": {
      "text/html": [
       "<div>\n",
       "<style scoped>\n",
       "    .dataframe tbody tr th:only-of-type {\n",
       "        vertical-align: middle;\n",
       "    }\n",
       "\n",
       "    .dataframe tbody tr th {\n",
       "        vertical-align: top;\n",
       "    }\n",
       "\n",
       "    .dataframe thead th {\n",
       "        text-align: right;\n",
       "    }\n",
       "</style>\n",
       "<table border=\"1\" class=\"dataframe\">\n",
       "  <thead>\n",
       "    <tr style=\"text-align: right;\">\n",
       "      <th></th>\n",
       "      <th>Recency</th>\n",
       "      <th>Frequency</th>\n",
       "      <th>Monetary</th>\n",
       "      <th>Recency_Score</th>\n",
       "      <th>Frequency_Score</th>\n",
       "      <th>Monetary_Score</th>\n",
       "      <th>RF_Score</th>\n",
       "      <th>segment</th>\n",
       "    </tr>\n",
       "    <tr>\n",
       "      <th>Customer ID</th>\n",
       "      <th></th>\n",
       "      <th></th>\n",
       "      <th></th>\n",
       "      <th></th>\n",
       "      <th></th>\n",
       "      <th></th>\n",
       "      <th></th>\n",
       "      <th></th>\n",
       "    </tr>\n",
       "  </thead>\n",
       "  <tbody>\n",
       "    <tr>\n",
       "      <th>12748.0</th>\n",
       "      <td>4695</td>\n",
       "      <td>41</td>\n",
       "      <td>4678.65</td>\n",
       "      <td>5</td>\n",
       "      <td>5</td>\n",
       "      <td>5</td>\n",
       "      <td>55</td>\n",
       "      <td>Champions</td>\n",
       "    </tr>\n",
       "    <tr>\n",
       "      <th>17850.0</th>\n",
       "      <td>4777</td>\n",
       "      <td>34</td>\n",
       "      <td>5391.21</td>\n",
       "      <td>5</td>\n",
       "      <td>5</td>\n",
       "      <td>5</td>\n",
       "      <td>55</td>\n",
       "      <td>Champions</td>\n",
       "    </tr>\n",
       "    <tr>\n",
       "      <th>15311.0</th>\n",
       "      <td>4694</td>\n",
       "      <td>26</td>\n",
       "      <td>12877.85</td>\n",
       "      <td>5</td>\n",
       "      <td>5</td>\n",
       "      <td>5</td>\n",
       "      <td>55</td>\n",
       "      <td>Champions</td>\n",
       "    </tr>\n",
       "    <tr>\n",
       "      <th>14606.0</th>\n",
       "      <td>4697</td>\n",
       "      <td>24</td>\n",
       "      <td>3674.44</td>\n",
       "      <td>5</td>\n",
       "      <td>5</td>\n",
       "      <td>5</td>\n",
       "      <td>55</td>\n",
       "      <td>Champions</td>\n",
       "    </tr>\n",
       "    <tr>\n",
       "      <th>13089.0</th>\n",
       "      <td>4694</td>\n",
       "      <td>24</td>\n",
       "      <td>15557.62</td>\n",
       "      <td>5</td>\n",
       "      <td>5</td>\n",
       "      <td>5</td>\n",
       "      <td>55</td>\n",
       "      <td>Champions</td>\n",
       "    </tr>\n",
       "  </tbody>\n",
       "</table>\n",
       "</div>"
      ],
      "text/plain": [
       "             Recency  Frequency  Monetary Recency_Score Frequency_Score  \\\n",
       "Customer ID                                                               \n",
       "12748.0         4695         41   4678.65             5               5   \n",
       "17850.0         4777         34   5391.21             5               5   \n",
       "15311.0         4694         26  12877.85             5               5   \n",
       "14606.0         4697         24   3674.44             5               5   \n",
       "13089.0         4694         24  15557.62             5               5   \n",
       "\n",
       "            Monetary_Score RF_Score    segment  \n",
       "Customer ID                                     \n",
       "12748.0                  5       55  Champions  \n",
       "17850.0                  5       55  Champions  \n",
       "15311.0                  5       55  Champions  \n",
       "14606.0                  5       55  Champions  \n",
       "13089.0                  5       55  Champions  "
      ]
     },
     "execution_count": 255,
     "metadata": {},
     "output_type": "execute_result"
    }
   ],
   "source": [
    "# Frequency\n",
    "print(\"\\nTop five Frequency\")\n",
    "RFM.sort_values(by=\"Frequency\", ascending=False).head()"
   ]
  },
  {
   "cell_type": "code",
   "execution_count": 256,
   "id": "3750b785",
   "metadata": {},
   "outputs": [
    {
     "name": "stdout",
     "output_type": "stream",
     "text": [
      "\n",
      "Bottom five Frequency\n"
     ]
    },
    {
     "data": {
      "text/html": [
       "<div>\n",
       "<style scoped>\n",
       "    .dataframe tbody tr th:only-of-type {\n",
       "        vertical-align: middle;\n",
       "    }\n",
       "\n",
       "    .dataframe tbody tr th {\n",
       "        vertical-align: top;\n",
       "    }\n",
       "\n",
       "    .dataframe thead th {\n",
       "        text-align: right;\n",
       "    }\n",
       "</style>\n",
       "<table border=\"1\" class=\"dataframe\">\n",
       "  <thead>\n",
       "    <tr style=\"text-align: right;\">\n",
       "      <th></th>\n",
       "      <th>Recency</th>\n",
       "      <th>Frequency</th>\n",
       "      <th>Monetary</th>\n",
       "      <th>Recency_Score</th>\n",
       "      <th>Frequency_Score</th>\n",
       "      <th>Monetary_Score</th>\n",
       "      <th>RF_Score</th>\n",
       "      <th>segment</th>\n",
       "    </tr>\n",
       "    <tr>\n",
       "      <th>Customer ID</th>\n",
       "      <th></th>\n",
       "      <th></th>\n",
       "      <th></th>\n",
       "      <th></th>\n",
       "      <th></th>\n",
       "      <th></th>\n",
       "      <th></th>\n",
       "      <th></th>\n",
       "    </tr>\n",
       "  </thead>\n",
       "  <tbody>\n",
       "    <tr>\n",
       "      <th>12346.0</th>\n",
       "      <td>4730</td>\n",
       "      <td>1</td>\n",
       "      <td>77183.60</td>\n",
       "      <td>5</td>\n",
       "      <td>1</td>\n",
       "      <td>5</td>\n",
       "      <td>51</td>\n",
       "      <td>New_Customers</td>\n",
       "    </tr>\n",
       "    <tr>\n",
       "      <th>15799.0</th>\n",
       "      <td>4739</td>\n",
       "      <td>1</td>\n",
       "      <td>320.22</td>\n",
       "      <td>5</td>\n",
       "      <td>2</td>\n",
       "      <td>3</td>\n",
       "      <td>52</td>\n",
       "      <td>Potential_to_be_Loyal</td>\n",
       "    </tr>\n",
       "    <tr>\n",
       "      <th>15796.0</th>\n",
       "      <td>4707</td>\n",
       "      <td>1</td>\n",
       "      <td>343.92</td>\n",
       "      <td>5</td>\n",
       "      <td>2</td>\n",
       "      <td>3</td>\n",
       "      <td>52</td>\n",
       "      <td>Potential_to_be_Loyal</td>\n",
       "    </tr>\n",
       "    <tr>\n",
       "      <th>15789.0</th>\n",
       "      <td>4763</td>\n",
       "      <td>1</td>\n",
       "      <td>351.30</td>\n",
       "      <td>5</td>\n",
       "      <td>2</td>\n",
       "      <td>3</td>\n",
       "      <td>52</td>\n",
       "      <td>Potential_to_be_Loyal</td>\n",
       "    </tr>\n",
       "    <tr>\n",
       "      <th>15785.0</th>\n",
       "      <td>4700</td>\n",
       "      <td>1</td>\n",
       "      <td>928.58</td>\n",
       "      <td>5</td>\n",
       "      <td>2</td>\n",
       "      <td>4</td>\n",
       "      <td>52</td>\n",
       "      <td>Potential_to_be_Loyal</td>\n",
       "    </tr>\n",
       "  </tbody>\n",
       "</table>\n",
       "</div>"
      ],
      "text/plain": [
       "             Recency  Frequency  Monetary Recency_Score Frequency_Score  \\\n",
       "Customer ID                                                               \n",
       "12346.0         4730          1  77183.60             5               1   \n",
       "15799.0         4739          1    320.22             5               2   \n",
       "15796.0         4707          1    343.92             5               2   \n",
       "15789.0         4763          1    351.30             5               2   \n",
       "15785.0         4700          1    928.58             5               2   \n",
       "\n",
       "            Monetary_Score RF_Score                segment  \n",
       "Customer ID                                                 \n",
       "12346.0                  5       51          New_Customers  \n",
       "15799.0                  3       52  Potential_to_be_Loyal  \n",
       "15796.0                  3       52  Potential_to_be_Loyal  \n",
       "15789.0                  3       52  Potential_to_be_Loyal  \n",
       "15785.0                  4       52  Potential_to_be_Loyal  "
      ]
     },
     "execution_count": 256,
     "metadata": {},
     "output_type": "execute_result"
    }
   ],
   "source": [
    "print(\"\\nBottom five Frequency\")\n",
    "RFM.sort_values(by=\"Frequency\", ascending=True).head()"
   ]
  },
  {
   "cell_type": "code",
   "execution_count": 257,
   "id": "9422427b",
   "metadata": {},
   "outputs": [
    {
     "name": "stdout",
     "output_type": "stream",
     "text": [
      "\n",
      "Top five Monetary\n"
     ]
    },
    {
     "data": {
      "text/html": [
       "<div>\n",
       "<style scoped>\n",
       "    .dataframe tbody tr th:only-of-type {\n",
       "        vertical-align: middle;\n",
       "    }\n",
       "\n",
       "    .dataframe tbody tr th {\n",
       "        vertical-align: top;\n",
       "    }\n",
       "\n",
       "    .dataframe thead th {\n",
       "        text-align: right;\n",
       "    }\n",
       "</style>\n",
       "<table border=\"1\" class=\"dataframe\">\n",
       "  <thead>\n",
       "    <tr style=\"text-align: right;\">\n",
       "      <th></th>\n",
       "      <th>Recency</th>\n",
       "      <th>Frequency</th>\n",
       "      <th>Monetary</th>\n",
       "      <th>Recency_Score</th>\n",
       "      <th>Frequency_Score</th>\n",
       "      <th>Monetary_Score</th>\n",
       "      <th>RF_Score</th>\n",
       "      <th>segment</th>\n",
       "    </tr>\n",
       "    <tr>\n",
       "      <th>Customer ID</th>\n",
       "      <th></th>\n",
       "      <th></th>\n",
       "      <th></th>\n",
       "      <th></th>\n",
       "      <th></th>\n",
       "      <th></th>\n",
       "      <th></th>\n",
       "      <th></th>\n",
       "    </tr>\n",
       "  </thead>\n",
       "  <tbody>\n",
       "    <tr>\n",
       "      <th>12346.0</th>\n",
       "      <td>4730</td>\n",
       "      <td>1</td>\n",
       "      <td>77183.60</td>\n",
       "      <td>5</td>\n",
       "      <td>1</td>\n",
       "      <td>5</td>\n",
       "      <td>51</td>\n",
       "      <td>New_Customers</td>\n",
       "    </tr>\n",
       "    <tr>\n",
       "      <th>14646.0</th>\n",
       "      <td>4695</td>\n",
       "      <td>10</td>\n",
       "      <td>57866.02</td>\n",
       "      <td>5</td>\n",
       "      <td>5</td>\n",
       "      <td>5</td>\n",
       "      <td>55</td>\n",
       "      <td>Champions</td>\n",
       "    </tr>\n",
       "    <tr>\n",
       "      <th>18102.0</th>\n",
       "      <td>4710</td>\n",
       "      <td>6</td>\n",
       "      <td>38370.09</td>\n",
       "      <td>5</td>\n",
       "      <td>5</td>\n",
       "      <td>5</td>\n",
       "      <td>55</td>\n",
       "      <td>Champions</td>\n",
       "    </tr>\n",
       "    <tr>\n",
       "      <th>14156.0</th>\n",
       "      <td>4694</td>\n",
       "      <td>7</td>\n",
       "      <td>25752.25</td>\n",
       "      <td>5</td>\n",
       "      <td>5</td>\n",
       "      <td>5</td>\n",
       "      <td>55</td>\n",
       "      <td>Champions</td>\n",
       "    </tr>\n",
       "    <tr>\n",
       "      <th>15749.0</th>\n",
       "      <td>4737</td>\n",
       "      <td>2</td>\n",
       "      <td>22998.40</td>\n",
       "      <td>5</td>\n",
       "      <td>4</td>\n",
       "      <td>5</td>\n",
       "      <td>54</td>\n",
       "      <td>Champions</td>\n",
       "    </tr>\n",
       "  </tbody>\n",
       "</table>\n",
       "</div>"
      ],
      "text/plain": [
       "             Recency  Frequency  Monetary Recency_Score Frequency_Score  \\\n",
       "Customer ID                                                               \n",
       "12346.0         4730          1  77183.60             5               1   \n",
       "14646.0         4695         10  57866.02             5               5   \n",
       "18102.0         4710          6  38370.09             5               5   \n",
       "14156.0         4694          7  25752.25             5               5   \n",
       "15749.0         4737          2  22998.40             5               4   \n",
       "\n",
       "            Monetary_Score RF_Score        segment  \n",
       "Customer ID                                         \n",
       "12346.0                  5       51  New_Customers  \n",
       "14646.0                  5       55      Champions  \n",
       "18102.0                  5       55      Champions  \n",
       "14156.0                  5       55      Champions  \n",
       "15749.0                  5       54      Champions  "
      ]
     },
     "execution_count": 257,
     "metadata": {},
     "output_type": "execute_result"
    }
   ],
   "source": [
    "# Monetary\n",
    "print(\"\\nTop five Monetary\")\n",
    "RFM.sort_values(by=\"Monetary\", ascending=False).head()"
   ]
  },
  {
   "cell_type": "code",
   "execution_count": 258,
   "id": "06616f97",
   "metadata": {},
   "outputs": [
    {
     "name": "stdout",
     "output_type": "stream",
     "text": [
      "\n",
      "Bottom five Monetary\n"
     ]
    },
    {
     "data": {
      "text/html": [
       "<div>\n",
       "<style scoped>\n",
       "    .dataframe tbody tr th:only-of-type {\n",
       "        vertical-align: middle;\n",
       "    }\n",
       "\n",
       "    .dataframe tbody tr th {\n",
       "        vertical-align: top;\n",
       "    }\n",
       "\n",
       "    .dataframe thead th {\n",
       "        text-align: right;\n",
       "    }\n",
       "</style>\n",
       "<table border=\"1\" class=\"dataframe\">\n",
       "  <thead>\n",
       "    <tr style=\"text-align: right;\">\n",
       "      <th></th>\n",
       "      <th>Recency</th>\n",
       "      <th>Frequency</th>\n",
       "      <th>Monetary</th>\n",
       "      <th>Recency_Score</th>\n",
       "      <th>Frequency_Score</th>\n",
       "      <th>Monetary_Score</th>\n",
       "      <th>RF_Score</th>\n",
       "      <th>segment</th>\n",
       "    </tr>\n",
       "    <tr>\n",
       "      <th>Customer ID</th>\n",
       "      <th></th>\n",
       "      <th></th>\n",
       "      <th></th>\n",
       "      <th></th>\n",
       "      <th></th>\n",
       "      <th></th>\n",
       "      <th></th>\n",
       "      <th></th>\n",
       "    </tr>\n",
       "  </thead>\n",
       "  <tbody>\n",
       "    <tr>\n",
       "      <th>16554.0</th>\n",
       "      <td>4736</td>\n",
       "      <td>1</td>\n",
       "      <td>0.85</td>\n",
       "      <td>5</td>\n",
       "      <td>3</td>\n",
       "      <td>1</td>\n",
       "      <td>53</td>\n",
       "      <td>Potential_to_be_Loyal</td>\n",
       "    </tr>\n",
       "    <tr>\n",
       "      <th>16738.0</th>\n",
       "      <td>4702</td>\n",
       "      <td>1</td>\n",
       "      <td>3.75</td>\n",
       "      <td>5</td>\n",
       "      <td>3</td>\n",
       "      <td>1</td>\n",
       "      <td>53</td>\n",
       "      <td>Potential_to_be_Loyal</td>\n",
       "    </tr>\n",
       "    <tr>\n",
       "      <th>16208.0</th>\n",
       "      <td>4694</td>\n",
       "      <td>1</td>\n",
       "      <td>5.10</td>\n",
       "      <td>5</td>\n",
       "      <td>3</td>\n",
       "      <td>1</td>\n",
       "      <td>53</td>\n",
       "      <td>Potential_to_be_Loyal</td>\n",
       "    </tr>\n",
       "    <tr>\n",
       "      <th>16882.0</th>\n",
       "      <td>4722</td>\n",
       "      <td>1</td>\n",
       "      <td>9.90</td>\n",
       "      <td>5</td>\n",
       "      <td>3</td>\n",
       "      <td>1</td>\n",
       "      <td>53</td>\n",
       "      <td>Potential_to_be_Loyal</td>\n",
       "    </tr>\n",
       "    <tr>\n",
       "      <th>15885.0</th>\n",
       "      <td>4714</td>\n",
       "      <td>1</td>\n",
       "      <td>15.00</td>\n",
       "      <td>5</td>\n",
       "      <td>2</td>\n",
       "      <td>1</td>\n",
       "      <td>52</td>\n",
       "      <td>Potential_to_be_Loyal</td>\n",
       "    </tr>\n",
       "  </tbody>\n",
       "</table>\n",
       "</div>"
      ],
      "text/plain": [
       "             Recency  Frequency  Monetary Recency_Score Frequency_Score  \\\n",
       "Customer ID                                                               \n",
       "16554.0         4736          1      0.85             5               3   \n",
       "16738.0         4702          1      3.75             5               3   \n",
       "16208.0         4694          1      5.10             5               3   \n",
       "16882.0         4722          1      9.90             5               3   \n",
       "15885.0         4714          1     15.00             5               2   \n",
       "\n",
       "            Monetary_Score RF_Score                segment  \n",
       "Customer ID                                                 \n",
       "16554.0                  1       53  Potential_to_be_Loyal  \n",
       "16738.0                  1       53  Potential_to_be_Loyal  \n",
       "16208.0                  1       53  Potential_to_be_Loyal  \n",
       "16882.0                  1       53  Potential_to_be_Loyal  \n",
       "15885.0                  1       52  Potential_to_be_Loyal  "
      ]
     },
     "execution_count": 258,
     "metadata": {},
     "output_type": "execute_result"
    }
   ],
   "source": [
    "print(\"\\nBottom five Monetary\")\n",
    "RFM.sort_values(by=\"Monetary\", ascending=True).head()"
   ]
  },
  {
   "cell_type": "code",
   "execution_count": 259,
   "id": "b19074b0",
   "metadata": {},
   "outputs": [
    {
     "data": {
      "text/plain": [
       "segment\n",
       "Champions                639\n",
       "Potential_to_be_Loyal    638\n",
       "New_Customers            320\n",
       "Name: count, dtype: int64"
      ]
     },
     "execution_count": 259,
     "metadata": {},
     "output_type": "execute_result"
    }
   ],
   "source": [
    "RFM[\"segment\"].value_counts()"
   ]
  },
  {
   "cell_type": "code",
   "execution_count": 260,
   "id": "1370674b",
   "metadata": {},
   "outputs": [
    {
     "name": "stdout",
     "output_type": "stream",
     "text": [
      "Champions : \n",
      "Top five\n",
      "             Recency  Frequency  Monetary Recency_Score Frequency_Score  \\\n",
      "Customer ID                                                               \n",
      "12347.0         4722          2   1187.18             5               4   \n",
      "16710.0         4765          2    524.97             5               4   \n",
      "16656.0         4696          3   1398.32             5               5   \n",
      "16670.0         4731          3    778.51             5               5   \n",
      "16684.0         4701          6   9811.98             5               5   \n",
      "\n",
      "            Monetary_Score RF_Score    segment  \n",
      "Customer ID                                     \n",
      "12347.0                  5       54  Champions  \n",
      "16710.0                  4       54  Champions  \n",
      "16656.0                  5       55  Champions  \n",
      "16670.0                  4       55  Champions  \n",
      "16684.0                  5       55  Champions  \n",
      "Bottom five\n",
      "             Recency  Frequency  Monetary Recency_Score Frequency_Score  \\\n",
      "Customer ID                                                               \n",
      "12347.0         4722          2   1187.18             5               4   \n",
      "16638.0         4695          4    741.89             5               5   \n",
      "16656.0         4696          3   1398.32             5               5   \n",
      "16670.0         4731          3    778.51             5               5   \n",
      "16684.0         4701          6   9811.98             5               5   \n",
      "\n",
      "            Monetary_Score RF_Score    segment  \n",
      "Customer ID                                     \n",
      "12347.0                  5       54  Champions  \n",
      "16638.0                  4       55  Champions  \n",
      "16656.0                  5       55  Champions  \n",
      "16670.0                  4       55  Champions  \n",
      "16684.0                  5       55  Champions  \n",
      "Quantiles\n",
      "          Recency                       Frequency                 Monetary  \\\n",
      "            count         mean      sum     count      mean   sum    count   \n",
      "segment                                                                      \n",
      "Champions     639  4718.821596  3015327       639  3.480438  2224      639   \n",
      "\n",
      "                                    \n",
      "                  mean         sum  \n",
      "segment                             \n",
      "Champions  1707.777277  1091269.68  \n"
     ]
    }
   ],
   "source": [
    "segments = [\"Champions\"]\n",
    "for segment in segments:\n",
    "    print(segment, \": \")\n",
    "    print(\"Top five\")\n",
    "    print(RFM[RFM[\"segment\"] == segment].sort_values(by=\"segment\", ascending=False).head())\n",
    "    \n",
    "    print(\"Bottom five\")\n",
    "    print(RFM[RFM[\"segment\"] == segment].sort_values(by=\"segment\", ascending=True).head())\n",
    "\n",
    "    print(\"Quantiles\")\n",
    "    print(RFM[RFM[\"segment\"] == segment][[\"segment\", \"Recency\", \"Frequency\", \"Monetary\"]].groupby(\"segment\").agg([\"count\", \"mean\", \"sum\"]))\n"
   ]
  },
  {
   "cell_type": "code",
   "execution_count": 263,
   "id": "2e959d20",
   "metadata": {},
   "outputs": [
    {
     "data": {
      "text/html": [
       "        <script type=\"text/javascript\">\n",
       "        window.PlotlyConfig = {MathJaxConfig: 'local'};\n",
       "        if (window.MathJax && window.MathJax.Hub && window.MathJax.Hub.Config) {window.MathJax.Hub.Config({SVG: {font: \"STIX-Web\"}});}\n",
       "        if (typeof require !== 'undefined') {\n",
       "        require.undef(\"plotly\");\n",
       "        requirejs.config({\n",
       "            paths: {\n",
       "                'plotly': ['https://cdn.plot.ly/plotly-2.12.1.min']\n",
       "            }\n",
       "        });\n",
       "        require(['plotly'], function(Plotly) {\n",
       "            window._Plotly = Plotly;\n",
       "        });\n",
       "        }\n",
       "        </script>\n",
       "        "
      ]
     },
     "metadata": {},
     "output_type": "display_data"
    },
    {
     "data": {
      "application/vnd.plotly.v1+json": {
       "config": {
        "linkText": "Export to plot.ly",
        "plotlyServerURL": "https://plot.ly",
        "showLink": false
       },
       "data": [
        {
         "customdata": [
          [
           5
          ],
          [
           3
          ],
          [
           2
          ],
          [
           5
          ],
          [
           3
          ],
          [
           3
          ],
          [
           3
          ],
          [
           1
          ],
          [
           2
          ],
          [
           3
          ],
          [
           1
          ],
          [
           1
          ],
          [
           2
          ],
          [
           2
          ],
          [
           5
          ],
          [
           1
          ],
          [
           5
          ],
          [
           4
          ],
          [
           2
          ],
          [
           2
          ],
          [
           5
          ],
          [
           4
          ],
          [
           4
          ],
          [
           5
          ],
          [
           3
          ],
          [
           4
          ],
          [
           5
          ],
          [
           4
          ],
          [
           3
          ],
          [
           4
          ],
          [
           3
          ],
          [
           3
          ],
          [
           3
          ],
          [
           1
          ],
          [
           2
          ],
          [
           2
          ],
          [
           2
          ],
          [
           2
          ],
          [
           5
          ],
          [
           5
          ],
          [
           3
          ],
          [
           2
          ],
          [
           2
          ],
          [
           2
          ],
          [
           5
          ],
          [
           5
          ],
          [
           4
          ],
          [
           3
          ],
          [
           1
          ],
          [
           4
          ],
          [
           4
          ],
          [
           1
          ],
          [
           4
          ],
          [
           1
          ],
          [
           2
          ],
          [
           2
          ],
          [
           3
          ],
          [
           1
          ],
          [
           1
          ],
          [
           4
          ],
          [
           4
          ],
          [
           5
          ],
          [
           1
          ],
          [
           3
          ],
          [
           2
          ],
          [
           1
          ],
          [
           2
          ],
          [
           1
          ],
          [
           5
          ],
          [
           1
          ],
          [
           5
          ],
          [
           3
          ],
          [
           5
          ],
          [
           2
          ],
          [
           1
          ],
          [
           3
          ],
          [
           2
          ],
          [
           2
          ],
          [
           1
          ],
          [
           1
          ],
          [
           2
          ],
          [
           4
          ],
          [
           3
          ],
          [
           2
          ],
          [
           1
          ],
          [
           2
          ],
          [
           3
          ],
          [
           3
          ],
          [
           1
          ],
          [
           4
          ],
          [
           2
          ],
          [
           1
          ],
          [
           1
          ],
          [
           3
          ],
          [
           2
          ],
          [
           4
          ],
          [
           1
          ],
          [
           3
          ],
          [
           1
          ],
          [
           3
          ],
          [
           2
          ],
          [
           2
          ],
          [
           1
          ],
          [
           3
          ],
          [
           3
          ],
          [
           4
          ],
          [
           1
          ],
          [
           1
          ],
          [
           2
          ],
          [
           2
          ],
          [
           1
          ],
          [
           2
          ],
          [
           1
          ],
          [
           3
          ],
          [
           3
          ],
          [
           1
          ],
          [
           5
          ],
          [
           3
          ],
          [
           3
          ],
          [
           2
          ],
          [
           1
          ],
          [
           3
          ],
          [
           4
          ],
          [
           3
          ],
          [
           1
          ],
          [
           2
          ],
          [
           2
          ],
          [
           1
          ],
          [
           3
          ],
          [
           2
          ],
          [
           2
          ],
          [
           1
          ],
          [
           4
          ],
          [
           3
          ],
          [
           2
          ],
          [
           5
          ],
          [
           1
          ],
          [
           2
          ],
          [
           2
          ],
          [
           1
          ],
          [
           1
          ],
          [
           2
          ],
          [
           5
          ],
          [
           2
          ],
          [
           2
          ],
          [
           1
          ],
          [
           4
          ],
          [
           3
          ],
          [
           1
          ],
          [
           1
          ],
          [
           4
          ],
          [
           2
          ],
          [
           2
          ],
          [
           1
          ],
          [
           1
          ],
          [
           3
          ],
          [
           2
          ],
          [
           1
          ],
          [
           2
          ],
          [
           3
          ],
          [
           2
          ],
          [
           1
          ],
          [
           4
          ],
          [
           2
          ],
          [
           4
          ],
          [
           2
          ],
          [
           1
          ],
          [
           2
          ],
          [
           3
          ],
          [
           3
          ],
          [
           2
          ],
          [
           5
          ],
          [
           2
          ],
          [
           3
          ],
          [
           5
          ],
          [
           1
          ],
          [
           2
          ],
          [
           4
          ],
          [
           3
          ],
          [
           4
          ],
          [
           3
          ],
          [
           3
          ],
          [
           2
          ],
          [
           1
          ],
          [
           2
          ],
          [
           3
          ],
          [
           4
          ],
          [
           3
          ],
          [
           3
          ],
          [
           2
          ],
          [
           4
          ],
          [
           2
          ],
          [
           3
          ],
          [
           2
          ],
          [
           2
          ],
          [
           1
          ],
          [
           3
          ],
          [
           3
          ],
          [
           1
          ],
          [
           1
          ],
          [
           4
          ],
          [
           1
          ],
          [
           2
          ],
          [
           1
          ],
          [
           1
          ],
          [
           1
          ],
          [
           3
          ],
          [
           1
          ],
          [
           1
          ],
          [
           1
          ],
          [
           1
          ],
          [
           1
          ],
          [
           2
          ],
          [
           4
          ],
          [
           2
          ],
          [
           1
          ],
          [
           2
          ],
          [
           2
          ],
          [
           3
          ],
          [
           1
          ],
          [
           2
          ],
          [
           3
          ],
          [
           2
          ],
          [
           2
          ],
          [
           1
          ],
          [
           5
          ],
          [
           1
          ],
          [
           3
          ],
          [
           3
          ],
          [
           4
          ],
          [
           3
          ],
          [
           2
          ],
          [
           1
          ],
          [
           1
          ],
          [
           4
          ],
          [
           1
          ],
          [
           2
          ],
          [
           1
          ],
          [
           3
          ],
          [
           2
          ],
          [
           2
          ],
          [
           1
          ],
          [
           3
          ],
          [
           4
          ],
          [
           5
          ],
          [
           4
          ],
          [
           1
          ],
          [
           1
          ],
          [
           5
          ],
          [
           1
          ],
          [
           3
          ],
          [
           3
          ],
          [
           1
          ],
          [
           2
          ],
          [
           3
          ],
          [
           2
          ],
          [
           1
          ],
          [
           3
          ],
          [
           1
          ],
          [
           4
          ],
          [
           3
          ],
          [
           5
          ],
          [
           2
          ],
          [
           4
          ],
          [
           1
          ],
          [
           1
          ],
          [
           2
          ],
          [
           2
          ],
          [
           1
          ],
          [
           3
          ],
          [
           2
          ],
          [
           2
          ],
          [
           1
          ],
          [
           2
          ],
          [
           3
          ],
          [
           2
          ],
          [
           2
          ],
          [
           2
          ],
          [
           2
          ],
          [
           4
          ],
          [
           2
          ],
          [
           1
          ],
          [
           1
          ],
          [
           3
          ],
          [
           5
          ],
          [
           2
          ],
          [
           1
          ],
          [
           2
          ],
          [
           5
          ],
          [
           1
          ],
          [
           3
          ],
          [
           2
          ],
          [
           3
          ],
          [
           3
          ],
          [
           3
          ],
          [
           3
          ],
          [
           5
          ],
          [
           2
          ],
          [
           2
          ],
          [
           2
          ],
          [
           1
          ],
          [
           1
          ],
          [
           3
          ],
          [
           2
          ],
          [
           3
          ],
          [
           3
          ],
          [
           1
          ],
          [
           3
          ],
          [
           1
          ],
          [
           3
          ],
          [
           3
          ],
          [
           2
          ],
          [
           2
          ],
          [
           1
          ],
          [
           1
          ],
          [
           1
          ],
          [
           1
          ],
          [
           2
          ],
          [
           4
          ],
          [
           4
          ]
         ],
         "hovertemplate": "segment=New_Customers<br>Recency_Score=%{x}<br>Frequency_Score=%{y}<br>Monetary_Score=%{customdata[0]}<extra></extra>",
         "legendgroup": "New_Customers",
         "marker": {
          "color": "#636efa",
          "size": [
           5,
           3,
           2,
           5,
           3,
           3,
           3,
           1,
           2,
           3,
           1,
           1,
           2,
           2,
           5,
           1,
           5,
           4,
           2,
           2,
           5,
           4,
           4,
           5,
           3,
           4,
           5,
           4,
           3,
           4,
           3,
           3,
           3,
           1,
           2,
           2,
           2,
           2,
           5,
           5,
           3,
           2,
           2,
           2,
           5,
           5,
           4,
           3,
           1,
           4,
           4,
           1,
           4,
           1,
           2,
           2,
           3,
           1,
           1,
           4,
           4,
           5,
           1,
           3,
           2,
           1,
           2,
           1,
           5,
           1,
           5,
           3,
           5,
           2,
           1,
           3,
           2,
           2,
           1,
           1,
           2,
           4,
           3,
           2,
           1,
           2,
           3,
           3,
           1,
           4,
           2,
           1,
           1,
           3,
           2,
           4,
           1,
           3,
           1,
           3,
           2,
           2,
           1,
           3,
           3,
           4,
           1,
           1,
           2,
           2,
           1,
           2,
           1,
           3,
           3,
           1,
           5,
           3,
           3,
           2,
           1,
           3,
           4,
           3,
           1,
           2,
           2,
           1,
           3,
           2,
           2,
           1,
           4,
           3,
           2,
           5,
           1,
           2,
           2,
           1,
           1,
           2,
           5,
           2,
           2,
           1,
           4,
           3,
           1,
           1,
           4,
           2,
           2,
           1,
           1,
           3,
           2,
           1,
           2,
           3,
           2,
           1,
           4,
           2,
           4,
           2,
           1,
           2,
           3,
           3,
           2,
           5,
           2,
           3,
           5,
           1,
           2,
           4,
           3,
           4,
           3,
           3,
           2,
           1,
           2,
           3,
           4,
           3,
           3,
           2,
           4,
           2,
           3,
           2,
           2,
           1,
           3,
           3,
           1,
           1,
           4,
           1,
           2,
           1,
           1,
           1,
           3,
           1,
           1,
           1,
           1,
           1,
           2,
           4,
           2,
           1,
           2,
           2,
           3,
           1,
           2,
           3,
           2,
           2,
           1,
           5,
           1,
           3,
           3,
           4,
           3,
           2,
           1,
           1,
           4,
           1,
           2,
           1,
           3,
           2,
           2,
           1,
           3,
           4,
           5,
           4,
           1,
           1,
           5,
           1,
           3,
           3,
           1,
           2,
           3,
           2,
           1,
           3,
           1,
           4,
           3,
           5,
           2,
           4,
           1,
           1,
           2,
           2,
           1,
           3,
           2,
           2,
           1,
           2,
           3,
           2,
           2,
           2,
           2,
           4,
           2,
           1,
           1,
           3,
           5,
           2,
           1,
           2,
           5,
           1,
           3,
           2,
           3,
           3,
           3,
           3,
           5,
           2,
           2,
           2,
           1,
           1,
           3,
           2,
           3,
           3,
           1,
           3,
           1,
           3,
           3,
           2,
           2,
           1,
           1,
           1,
           1,
           2,
           4,
           4
          ],
          "sizemode": "area",
          "sizeref": 0.0125,
          "symbol": "circle"
         },
         "mode": "markers",
         "name": "New_Customers",
         "showlegend": true,
         "type": "scattergl",
         "x": [
          5,
          5,
          5,
          5,
          5,
          5,
          5,
          5,
          5,
          5,
          5,
          5,
          5,
          5,
          5,
          5,
          5,
          5,
          5,
          5,
          5,
          5,
          5,
          5,
          5,
          5,
          5,
          5,
          5,
          5,
          5,
          5,
          5,
          5,
          5,
          5,
          5,
          5,
          5,
          5,
          5,
          5,
          5,
          5,
          5,
          5,
          5,
          5,
          5,
          5,
          5,
          5,
          5,
          5,
          5,
          5,
          5,
          5,
          5,
          5,
          5,
          5,
          5,
          5,
          5,
          5,
          5,
          5,
          5,
          5,
          5,
          5,
          5,
          5,
          5,
          5,
          5,
          5,
          5,
          5,
          5,
          5,
          5,
          5,
          5,
          5,
          5,
          5,
          5,
          5,
          5,
          5,
          5,
          5,
          5,
          5,
          5,
          5,
          5,
          5,
          5,
          5,
          5,
          5,
          5,
          5,
          5,
          5,
          5,
          5,
          5,
          5,
          5,
          5,
          5,
          5,
          5,
          5,
          5,
          5,
          5,
          5,
          5,
          5,
          5,
          5,
          5,
          5,
          5,
          5,
          5,
          5,
          5,
          5,
          5,
          5,
          5,
          5,
          5,
          5,
          5,
          5,
          5,
          5,
          5,
          5,
          5,
          5,
          5,
          5,
          5,
          5,
          5,
          5,
          5,
          5,
          5,
          5,
          5,
          5,
          5,
          5,
          5,
          5,
          5,
          5,
          5,
          5,
          5,
          5,
          5,
          5,
          5,
          5,
          5,
          5,
          5,
          5,
          5,
          5,
          5,
          5,
          5,
          5,
          5,
          5,
          5,
          5,
          5,
          5,
          5,
          5,
          5,
          5,
          5,
          5,
          5,
          5,
          5,
          5,
          5,
          5,
          5,
          5,
          5,
          5,
          5,
          5,
          5,
          5,
          5,
          5,
          5,
          5,
          5,
          5,
          5,
          5,
          5,
          5,
          5,
          5,
          5,
          5,
          5,
          5,
          5,
          5,
          5,
          5,
          5,
          5,
          5,
          5,
          5,
          5,
          5,
          5,
          5,
          5,
          5,
          5,
          5,
          5,
          5,
          5,
          5,
          5,
          5,
          5,
          5,
          5,
          5,
          5,
          5,
          5,
          5,
          5,
          5,
          5,
          5,
          5,
          5,
          5,
          5,
          5,
          5,
          5,
          5,
          5,
          5,
          5,
          5,
          5,
          5,
          5,
          5,
          5,
          5,
          5,
          5,
          5,
          5,
          5,
          5,
          5,
          5,
          5,
          5,
          5,
          5,
          5,
          5,
          5,
          5,
          5,
          5,
          5,
          5,
          5,
          5,
          5,
          5,
          5,
          5,
          5,
          5,
          5,
          5,
          5,
          5,
          5,
          5,
          5,
          5,
          5,
          5,
          5,
          5,
          5
         ],
         "xaxis": "x",
         "y": [
          1,
          1,
          1,
          1,
          1,
          1,
          1,
          1,
          1,
          1,
          1,
          1,
          1,
          1,
          1,
          1,
          1,
          1,
          1,
          1,
          1,
          1,
          1,
          1,
          1,
          1,
          1,
          1,
          1,
          1,
          1,
          1,
          1,
          1,
          1,
          1,
          1,
          1,
          1,
          1,
          1,
          1,
          1,
          1,
          1,
          1,
          1,
          1,
          1,
          1,
          1,
          1,
          1,
          1,
          1,
          1,
          1,
          1,
          1,
          1,
          1,
          1,
          1,
          1,
          1,
          1,
          1,
          1,
          1,
          1,
          1,
          1,
          1,
          1,
          1,
          1,
          1,
          1,
          1,
          1,
          1,
          1,
          1,
          1,
          1,
          1,
          1,
          1,
          1,
          1,
          1,
          1,
          1,
          1,
          1,
          1,
          1,
          1,
          1,
          1,
          1,
          1,
          1,
          1,
          1,
          1,
          1,
          1,
          1,
          1,
          1,
          1,
          1,
          1,
          1,
          1,
          1,
          1,
          1,
          1,
          1,
          1,
          1,
          1,
          1,
          1,
          1,
          1,
          1,
          1,
          1,
          1,
          1,
          1,
          1,
          1,
          1,
          1,
          1,
          1,
          1,
          1,
          1,
          1,
          1,
          1,
          1,
          1,
          1,
          1,
          1,
          1,
          1,
          1,
          1,
          1,
          1,
          1,
          1,
          1,
          1,
          1,
          1,
          1,
          1,
          1,
          1,
          1,
          1,
          1,
          1,
          1,
          1,
          1,
          1,
          1,
          1,
          1,
          1,
          1,
          1,
          1,
          1,
          1,
          1,
          1,
          1,
          1,
          1,
          1,
          1,
          1,
          1,
          1,
          1,
          1,
          1,
          1,
          1,
          1,
          1,
          1,
          1,
          1,
          1,
          1,
          1,
          1,
          1,
          1,
          1,
          1,
          1,
          1,
          1,
          1,
          1,
          1,
          1,
          1,
          1,
          1,
          1,
          1,
          1,
          1,
          1,
          1,
          1,
          1,
          1,
          1,
          1,
          1,
          1,
          1,
          1,
          1,
          1,
          1,
          1,
          1,
          1,
          1,
          1,
          1,
          1,
          1,
          1,
          1,
          1,
          1,
          1,
          1,
          1,
          1,
          1,
          1,
          1,
          1,
          1,
          1,
          1,
          1,
          1,
          1,
          1,
          1,
          1,
          1,
          1,
          1,
          1,
          1,
          1,
          1,
          1,
          1,
          1,
          1,
          1,
          1,
          1,
          1,
          1,
          1,
          1,
          1,
          1,
          1,
          1,
          1,
          1,
          1,
          1,
          1,
          1,
          1,
          1,
          1,
          1,
          1,
          1,
          1,
          1,
          1,
          1,
          1,
          1,
          1,
          1,
          1,
          1,
          1,
          1,
          1,
          1,
          1,
          1,
          1
         ],
         "yaxis": "y"
        },
        {
         "customdata": [
          [
           5
          ],
          [
           5
          ],
          [
           5
          ],
          [
           4
          ],
          [
           5
          ],
          [
           5
          ],
          [
           5
          ],
          [
           3
          ],
          [
           4
          ],
          [
           4
          ],
          [
           4
          ],
          [
           4
          ],
          [
           5
          ],
          [
           4
          ],
          [
           3
          ],
          [
           5
          ],
          [
           5
          ],
          [
           4
          ],
          [
           5
          ],
          [
           5
          ],
          [
           5
          ],
          [
           4
          ],
          [
           4
          ],
          [
           5
          ],
          [
           3
          ],
          [
           4
          ],
          [
           2
          ],
          [
           4
          ],
          [
           2
          ],
          [
           5
          ],
          [
           5
          ],
          [
           4
          ],
          [
           5
          ],
          [
           4
          ],
          [
           5
          ],
          [
           5
          ],
          [
           4
          ],
          [
           4
          ],
          [
           2
          ],
          [
           5
          ],
          [
           5
          ],
          [
           5
          ],
          [
           4
          ],
          [
           5
          ],
          [
           2
          ],
          [
           5
          ],
          [
           5
          ],
          [
           5
          ],
          [
           3
          ],
          [
           3
          ],
          [
           5
          ],
          [
           5
          ],
          [
           5
          ],
          [
           4
          ],
          [
           4
          ],
          [
           5
          ],
          [
           5
          ],
          [
           4
          ],
          [
           5
          ],
          [
           5
          ],
          [
           5
          ],
          [
           5
          ],
          [
           5
          ],
          [
           5
          ],
          [
           4
          ],
          [
           4
          ],
          [
           2
          ],
          [
           4
          ],
          [
           5
          ],
          [
           4
          ],
          [
           4
          ],
          [
           4
          ],
          [
           2
          ],
          [
           4
          ],
          [
           5
          ],
          [
           5
          ],
          [
           5
          ],
          [
           4
          ],
          [
           2
          ],
          [
           5
          ],
          [
           1
          ],
          [
           5
          ],
          [
           5
          ],
          [
           5
          ],
          [
           5
          ],
          [
           5
          ],
          [
           5
          ],
          [
           4
          ],
          [
           5
          ],
          [
           5
          ],
          [
           4
          ],
          [
           5
          ],
          [
           5
          ],
          [
           5
          ],
          [
           5
          ],
          [
           5
          ],
          [
           3
          ],
          [
           5
          ],
          [
           4
          ],
          [
           5
          ],
          [
           5
          ],
          [
           3
          ],
          [
           4
          ],
          [
           4
          ],
          [
           5
          ],
          [
           4
          ],
          [
           4
          ],
          [
           5
          ],
          [
           5
          ],
          [
           5
          ],
          [
           5
          ],
          [
           3
          ],
          [
           5
          ],
          [
           4
          ],
          [
           5
          ],
          [
           4
          ],
          [
           4
          ],
          [
           4
          ],
          [
           2
          ],
          [
           2
          ],
          [
           5
          ],
          [
           5
          ],
          [
           4
          ],
          [
           4
          ],
          [
           5
          ],
          [
           5
          ],
          [
           4
          ],
          [
           4
          ],
          [
           5
          ],
          [
           5
          ],
          [
           5
          ],
          [
           4
          ],
          [
           4
          ],
          [
           3
          ],
          [
           5
          ],
          [
           5
          ],
          [
           5
          ],
          [
           5
          ],
          [
           4
          ],
          [
           5
          ],
          [
           5
          ],
          [
           2
          ],
          [
           5
          ],
          [
           5
          ],
          [
           1
          ],
          [
           4
          ],
          [
           5
          ],
          [
           5
          ],
          [
           4
          ],
          [
           5
          ],
          [
           5
          ],
          [
           5
          ],
          [
           4
          ],
          [
           5
          ],
          [
           3
          ],
          [
           5
          ],
          [
           5
          ],
          [
           4
          ],
          [
           4
          ],
          [
           5
          ],
          [
           4
          ],
          [
           4
          ],
          [
           2
          ],
          [
           4
          ],
          [
           5
          ],
          [
           4
          ],
          [
           4
          ],
          [
           4
          ],
          [
           5
          ],
          [
           2
          ],
          [
           4
          ],
          [
           4
          ],
          [
           5
          ],
          [
           5
          ],
          [
           4
          ],
          [
           4
          ],
          [
           5
          ],
          [
           2
          ],
          [
           5
          ],
          [
           5
          ],
          [
           5
          ],
          [
           5
          ],
          [
           4
          ],
          [
           3
          ],
          [
           5
          ],
          [
           4
          ],
          [
           4
          ],
          [
           5
          ],
          [
           4
          ],
          [
           5
          ],
          [
           5
          ],
          [
           4
          ],
          [
           5
          ],
          [
           5
          ],
          [
           5
          ],
          [
           4
          ],
          [
           3
          ],
          [
           4
          ],
          [
           4
          ],
          [
           4
          ],
          [
           5
          ],
          [
           3
          ],
          [
           5
          ],
          [
           5
          ],
          [
           5
          ],
          [
           4
          ],
          [
           3
          ],
          [
           4
          ],
          [
           3
          ],
          [
           3
          ],
          [
           4
          ],
          [
           4
          ],
          [
           3
          ],
          [
           4
          ],
          [
           5
          ],
          [
           4
          ],
          [
           5
          ],
          [
           4
          ],
          [
           3
          ],
          [
           4
          ],
          [
           4
          ],
          [
           4
          ],
          [
           3
          ],
          [
           5
          ],
          [
           4
          ],
          [
           5
          ],
          [
           3
          ],
          [
           4
          ],
          [
           3
          ],
          [
           4
          ],
          [
           4
          ],
          [
           4
          ],
          [
           5
          ],
          [
           5
          ],
          [
           5
          ],
          [
           4
          ],
          [
           4
          ],
          [
           5
          ],
          [
           4
          ],
          [
           5
          ],
          [
           5
          ],
          [
           3
          ],
          [
           4
          ],
          [
           4
          ],
          [
           5
          ],
          [
           4
          ],
          [
           4
          ],
          [
           2
          ],
          [
           3
          ],
          [
           5
          ],
          [
           5
          ],
          [
           4
          ],
          [
           3
          ],
          [
           4
          ],
          [
           3
          ],
          [
           5
          ],
          [
           4
          ],
          [
           3
          ],
          [
           5
          ],
          [
           5
          ],
          [
           3
          ],
          [
           1
          ],
          [
           4
          ],
          [
           3
          ],
          [
           5
          ],
          [
           3
          ],
          [
           3
          ],
          [
           3
          ],
          [
           5
          ],
          [
           5
          ],
          [
           4
          ],
          [
           5
          ],
          [
           5
          ],
          [
           5
          ],
          [
           5
          ],
          [
           4
          ],
          [
           5
          ],
          [
           4
          ],
          [
           5
          ],
          [
           5
          ],
          [
           5
          ],
          [
           5
          ],
          [
           5
          ],
          [
           3
          ],
          [
           3
          ],
          [
           5
          ],
          [
           5
          ],
          [
           3
          ],
          [
           5
          ],
          [
           4
          ],
          [
           3
          ],
          [
           5
          ],
          [
           5
          ],
          [
           5
          ],
          [
           3
          ],
          [
           3
          ],
          [
           5
          ],
          [
           3
          ],
          [
           5
          ],
          [
           3
          ],
          [
           4
          ],
          [
           5
          ],
          [
           4
          ],
          [
           5
          ],
          [
           5
          ],
          [
           5
          ],
          [
           4
          ],
          [
           5
          ],
          [
           4
          ],
          [
           4
          ],
          [
           5
          ],
          [
           1
          ],
          [
           5
          ],
          [
           4
          ],
          [
           5
          ],
          [
           5
          ],
          [
           4
          ],
          [
           5
          ],
          [
           5
          ],
          [
           4
          ],
          [
           4
          ],
          [
           4
          ],
          [
           2
          ],
          [
           4
          ],
          [
           5
          ],
          [
           5
          ],
          [
           5
          ],
          [
           4
          ],
          [
           3
          ],
          [
           4
          ],
          [
           5
          ],
          [
           3
          ],
          [
           3
          ],
          [
           4
          ],
          [
           5
          ],
          [
           5
          ],
          [
           4
          ],
          [
           4
          ],
          [
           2
          ],
          [
           4
          ],
          [
           5
          ],
          [
           4
          ],
          [
           5
          ],
          [
           4
          ],
          [
           5
          ],
          [
           5
          ],
          [
           5
          ],
          [
           3
          ],
          [
           2
          ],
          [
           5
          ],
          [
           4
          ],
          [
           5
          ],
          [
           5
          ],
          [
           4
          ],
          [
           4
          ],
          [
           5
          ],
          [
           4
          ],
          [
           5
          ],
          [
           4
          ],
          [
           5
          ],
          [
           3
          ],
          [
           3
          ],
          [
           4
          ],
          [
           4
          ],
          [
           5
          ],
          [
           3
          ],
          [
           5
          ],
          [
           2
          ],
          [
           4
          ],
          [
           5
          ],
          [
           5
          ],
          [
           5
          ],
          [
           5
          ],
          [
           4
          ],
          [
           2
          ],
          [
           2
          ],
          [
           4
          ],
          [
           1
          ],
          [
           2
          ],
          [
           5
          ],
          [
           4
          ],
          [
           5
          ],
          [
           3
          ],
          [
           5
          ],
          [
           5
          ],
          [
           3
          ],
          [
           3
          ],
          [
           3
          ],
          [
           4
          ],
          [
           5
          ],
          [
           4
          ],
          [
           2
          ],
          [
           3
          ],
          [
           5
          ],
          [
           5
          ],
          [
           5
          ],
          [
           2
          ],
          [
           3
          ],
          [
           2
          ],
          [
           3
          ],
          [
           3
          ],
          [
           4
          ],
          [
           1
          ],
          [
           3
          ],
          [
           5
          ],
          [
           3
          ],
          [
           4
          ],
          [
           5
          ],
          [
           3
          ],
          [
           5
          ],
          [
           3
          ],
          [
           3
          ],
          [
           4
          ],
          [
           5
          ],
          [
           3
          ],
          [
           4
          ],
          [
           4
          ],
          [
           5
          ],
          [
           5
          ],
          [
           5
          ],
          [
           4
          ],
          [
           4
          ],
          [
           5
          ],
          [
           4
          ],
          [
           5
          ],
          [
           4
          ],
          [
           5
          ],
          [
           5
          ],
          [
           5
          ],
          [
           4
          ],
          [
           4
          ],
          [
           5
          ],
          [
           5
          ],
          [
           4
          ],
          [
           4
          ],
          [
           4
          ],
          [
           4
          ],
          [
           4
          ],
          [
           5
          ],
          [
           4
          ],
          [
           4
          ],
          [
           5
          ],
          [
           4
          ],
          [
           5
          ],
          [
           4
          ],
          [
           5
          ],
          [
           3
          ],
          [
           3
          ],
          [
           5
          ],
          [
           5
          ],
          [
           4
          ],
          [
           2
          ],
          [
           4
          ],
          [
           3
          ],
          [
           4
          ],
          [
           4
          ],
          [
           5
          ],
          [
           3
          ],
          [
           4
          ],
          [
           4
          ],
          [
           3
          ],
          [
           3
          ],
          [
           5
          ],
          [
           1
          ],
          [
           3
          ],
          [
           4
          ],
          [
           2
          ],
          [
           5
          ],
          [
           4
          ],
          [
           1
          ],
          [
           4
          ],
          [
           4
          ],
          [
           4
          ],
          [
           4
          ],
          [
           4
          ],
          [
           5
          ],
          [
           5
          ],
          [
           4
          ],
          [
           4
          ],
          [
           2
          ],
          [
           2
          ],
          [
           3
          ],
          [
           3
          ],
          [
           5
          ],
          [
           3
          ],
          [
           3
          ],
          [
           4
          ],
          [
           4
          ],
          [
           3
          ],
          [
           4
          ],
          [
           4
          ],
          [
           3
          ],
          [
           3
          ],
          [
           5
          ],
          [
           4
          ],
          [
           3
          ],
          [
           3
          ],
          [
           5
          ],
          [
           2
          ],
          [
           2
          ],
          [
           3
          ],
          [
           5
          ],
          [
           4
          ],
          [
           5
          ],
          [
           4
          ],
          [
           2
          ],
          [
           5
          ],
          [
           5
          ],
          [
           3
          ],
          [
           3
          ],
          [
           4
          ],
          [
           4
          ],
          [
           4
          ],
          [
           2
          ],
          [
           5
          ],
          [
           5
          ],
          [
           4
          ],
          [
           3
          ],
          [
           4
          ],
          [
           5
          ],
          [
           5
          ],
          [
           4
          ],
          [
           5
          ],
          [
           5
          ],
          [
           5
          ],
          [
           2
          ],
          [
           4
          ],
          [
           2
          ],
          [
           4
          ],
          [
           5
          ],
          [
           4
          ],
          [
           4
          ],
          [
           4
          ],
          [
           2
          ],
          [
           1
          ],
          [
           4
          ],
          [
           4
          ],
          [
           1
          ],
          [
           5
          ],
          [
           4
          ],
          [
           4
          ],
          [
           5
          ],
          [
           4
          ],
          [
           5
          ],
          [
           3
          ],
          [
           5
          ],
          [
           5
          ],
          [
           5
          ],
          [
           5
          ],
          [
           2
          ],
          [
           3
          ],
          [
           1
          ],
          [
           4
          ],
          [
           5
          ],
          [
           4
          ],
          [
           5
          ],
          [
           4
          ],
          [
           5
          ],
          [
           5
          ],
          [
           5
          ],
          [
           3
          ],
          [
           4
          ],
          [
           5
          ],
          [
           5
          ],
          [
           5
          ],
          [
           5
          ],
          [
           5
          ],
          [
           5
          ],
          [
           5
          ],
          [
           2
          ],
          [
           3
          ],
          [
           5
          ],
          [
           5
          ],
          [
           5
          ],
          [
           4
          ],
          [
           5
          ],
          [
           4
          ],
          [
           1
          ],
          [
           4
          ],
          [
           4
          ],
          [
           3
          ],
          [
           3
          ],
          [
           2
          ],
          [
           4
          ],
          [
           3
          ],
          [
           5
          ],
          [
           5
          ],
          [
           2
          ],
          [
           3
          ],
          [
           4
          ],
          [
           4
          ],
          [
           4
          ],
          [
           5
          ],
          [
           3
          ],
          [
           3
          ],
          [
           1
          ],
          [
           5
          ],
          [
           5
          ],
          [
           4
          ],
          [
           3
          ],
          [
           4
          ],
          [
           4
          ],
          [
           4
          ],
          [
           5
          ],
          [
           5
          ],
          [
           4
          ],
          [
           4
          ],
          [
           5
          ],
          [
           5
          ],
          [
           4
          ],
          [
           5
          ],
          [
           4
          ],
          [
           4
          ],
          [
           4
          ],
          [
           5
          ],
          [
           3
          ],
          [
           4
          ],
          [
           4
          ],
          [
           3
          ],
          [
           1
          ],
          [
           3
          ],
          [
           4
          ],
          [
           3
          ],
          [
           2
          ],
          [
           3
          ],
          [
           5
          ],
          [
           3
          ],
          [
           3
          ],
          [
           5
          ],
          [
           3
          ],
          [
           3
          ],
          [
           4
          ],
          [
           4
          ],
          [
           3
          ],
          [
           3
          ],
          [
           3
          ],
          [
           4
          ],
          [
           1
          ],
          [
           2
          ]
         ],
         "hovertemplate": "segment=Champions<br>Recency_Score=%{x}<br>Frequency_Score=%{y}<br>Monetary_Score=%{customdata[0]}<extra></extra>",
         "legendgroup": "Champions",
         "marker": {
          "color": "#EF553B",
          "size": [
           5,
           5,
           5,
           4,
           5,
           5,
           5,
           3,
           4,
           4,
           4,
           4,
           5,
           4,
           3,
           5,
           5,
           4,
           5,
           5,
           5,
           4,
           4,
           5,
           3,
           4,
           2,
           4,
           2,
           5,
           5,
           4,
           5,
           4,
           5,
           5,
           4,
           4,
           2,
           5,
           5,
           5,
           4,
           5,
           2,
           5,
           5,
           5,
           3,
           3,
           5,
           5,
           5,
           4,
           4,
           5,
           5,
           4,
           5,
           5,
           5,
           5,
           5,
           5,
           4,
           4,
           2,
           4,
           5,
           4,
           4,
           4,
           2,
           4,
           5,
           5,
           5,
           4,
           2,
           5,
           1,
           5,
           5,
           5,
           5,
           5,
           5,
           4,
           5,
           5,
           4,
           5,
           5,
           5,
           5,
           5,
           3,
           5,
           4,
           5,
           5,
           3,
           4,
           4,
           5,
           4,
           4,
           5,
           5,
           5,
           5,
           3,
           5,
           4,
           5,
           4,
           4,
           4,
           2,
           2,
           5,
           5,
           4,
           4,
           5,
           5,
           4,
           4,
           5,
           5,
           5,
           4,
           4,
           3,
           5,
           5,
           5,
           5,
           4,
           5,
           5,
           2,
           5,
           5,
           1,
           4,
           5,
           5,
           4,
           5,
           5,
           5,
           4,
           5,
           3,
           5,
           5,
           4,
           4,
           5,
           4,
           4,
           2,
           4,
           5,
           4,
           4,
           4,
           5,
           2,
           4,
           4,
           5,
           5,
           4,
           4,
           5,
           2,
           5,
           5,
           5,
           5,
           4,
           3,
           5,
           4,
           4,
           5,
           4,
           5,
           5,
           4,
           5,
           5,
           5,
           4,
           3,
           4,
           4,
           4,
           5,
           3,
           5,
           5,
           5,
           4,
           3,
           4,
           3,
           3,
           4,
           4,
           3,
           4,
           5,
           4,
           5,
           4,
           3,
           4,
           4,
           4,
           3,
           5,
           4,
           5,
           3,
           4,
           3,
           4,
           4,
           4,
           5,
           5,
           5,
           4,
           4,
           5,
           4,
           5,
           5,
           3,
           4,
           4,
           5,
           4,
           4,
           2,
           3,
           5,
           5,
           4,
           3,
           4,
           3,
           5,
           4,
           3,
           5,
           5,
           3,
           1,
           4,
           3,
           5,
           3,
           3,
           3,
           5,
           5,
           4,
           5,
           5,
           5,
           5,
           4,
           5,
           4,
           5,
           5,
           5,
           5,
           5,
           3,
           3,
           5,
           5,
           3,
           5,
           4,
           3,
           5,
           5,
           5,
           3,
           3,
           5,
           3,
           5,
           3,
           4,
           5,
           4,
           5,
           5,
           5,
           4,
           5,
           4,
           4,
           5,
           1,
           5,
           4,
           5,
           5,
           4,
           5,
           5,
           4,
           4,
           4,
           2,
           4,
           5,
           5,
           5,
           4,
           3,
           4,
           5,
           3,
           3,
           4,
           5,
           5,
           4,
           4,
           2,
           4,
           5,
           4,
           5,
           4,
           5,
           5,
           5,
           3,
           2,
           5,
           4,
           5,
           5,
           4,
           4,
           5,
           4,
           5,
           4,
           5,
           3,
           3,
           4,
           4,
           5,
           3,
           5,
           2,
           4,
           5,
           5,
           5,
           5,
           4,
           2,
           2,
           4,
           1,
           2,
           5,
           4,
           5,
           3,
           5,
           5,
           3,
           3,
           3,
           4,
           5,
           4,
           2,
           3,
           5,
           5,
           5,
           2,
           3,
           2,
           3,
           3,
           4,
           1,
           3,
           5,
           3,
           4,
           5,
           3,
           5,
           3,
           3,
           4,
           5,
           3,
           4,
           4,
           5,
           5,
           5,
           4,
           4,
           5,
           4,
           5,
           4,
           5,
           5,
           5,
           4,
           4,
           5,
           5,
           4,
           4,
           4,
           4,
           4,
           5,
           4,
           4,
           5,
           4,
           5,
           4,
           5,
           3,
           3,
           5,
           5,
           4,
           2,
           4,
           3,
           4,
           4,
           5,
           3,
           4,
           4,
           3,
           3,
           5,
           1,
           3,
           4,
           2,
           5,
           4,
           1,
           4,
           4,
           4,
           4,
           4,
           5,
           5,
           4,
           4,
           2,
           2,
           3,
           3,
           5,
           3,
           3,
           4,
           4,
           3,
           4,
           4,
           3,
           3,
           5,
           4,
           3,
           3,
           5,
           2,
           2,
           3,
           5,
           4,
           5,
           4,
           2,
           5,
           5,
           3,
           3,
           4,
           4,
           4,
           2,
           5,
           5,
           4,
           3,
           4,
           5,
           5,
           4,
           5,
           5,
           5,
           2,
           4,
           2,
           4,
           5,
           4,
           4,
           4,
           2,
           1,
           4,
           4,
           1,
           5,
           4,
           4,
           5,
           4,
           5,
           3,
           5,
           5,
           5,
           5,
           2,
           3,
           1,
           4,
           5,
           4,
           5,
           4,
           5,
           5,
           5,
           3,
           4,
           5,
           5,
           5,
           5,
           5,
           5,
           5,
           2,
           3,
           5,
           5,
           5,
           4,
           5,
           4,
           1,
           4,
           4,
           3,
           3,
           2,
           4,
           3,
           5,
           5,
           2,
           3,
           4,
           4,
           4,
           5,
           3,
           3,
           1,
           5,
           5,
           4,
           3,
           4,
           4,
           4,
           5,
           5,
           4,
           4,
           5,
           5,
           4,
           5,
           4,
           4,
           4,
           5,
           3,
           4,
           4,
           3,
           1,
           3,
           4,
           3,
           2,
           3,
           5,
           3,
           3,
           5,
           3,
           3,
           4,
           4,
           3,
           3,
           3,
           4,
           1,
           2
          ],
          "sizemode": "area",
          "sizeref": 0.0125,
          "symbol": "circle"
         },
         "mode": "markers",
         "name": "Champions",
         "showlegend": true,
         "type": "scattergl",
         "x": [
          5,
          5,
          5,
          5,
          5,
          5,
          5,
          5,
          5,
          5,
          5,
          5,
          5,
          5,
          5,
          5,
          5,
          5,
          5,
          5,
          5,
          5,
          5,
          5,
          5,
          5,
          5,
          5,
          5,
          5,
          5,
          5,
          5,
          5,
          5,
          5,
          5,
          5,
          5,
          5,
          5,
          5,
          5,
          5,
          5,
          5,
          5,
          5,
          5,
          5,
          5,
          5,
          5,
          5,
          5,
          5,
          5,
          5,
          5,
          5,
          5,
          5,
          5,
          5,
          5,
          5,
          5,
          5,
          5,
          5,
          5,
          5,
          5,
          5,
          5,
          5,
          5,
          5,
          5,
          5,
          5,
          5,
          5,
          5,
          5,
          5,
          5,
          5,
          5,
          5,
          5,
          5,
          5,
          5,
          5,
          5,
          5,
          5,
          5,
          5,
          5,
          5,
          5,
          5,
          5,
          5,
          5,
          5,
          5,
          5,
          5,
          5,
          5,
          5,
          5,
          5,
          5,
          5,
          5,
          5,
          5,
          5,
          5,
          5,
          5,
          5,
          5,
          5,
          5,
          5,
          5,
          5,
          5,
          5,
          5,
          5,
          5,
          5,
          5,
          5,
          5,
          5,
          5,
          5,
          5,
          5,
          5,
          5,
          5,
          5,
          5,
          5,
          5,
          5,
          5,
          5,
          5,
          5,
          5,
          5,
          5,
          5,
          5,
          5,
          5,
          5,
          5,
          5,
          5,
          5,
          5,
          5,
          5,
          5,
          5,
          5,
          5,
          5,
          5,
          5,
          5,
          5,
          5,
          5,
          5,
          5,
          5,
          5,
          5,
          5,
          5,
          5,
          5,
          5,
          5,
          5,
          5,
          5,
          5,
          5,
          5,
          5,
          5,
          5,
          5,
          5,
          5,
          5,
          5,
          5,
          5,
          5,
          5,
          5,
          5,
          5,
          5,
          5,
          5,
          5,
          5,
          5,
          5,
          5,
          5,
          5,
          5,
          5,
          5,
          5,
          5,
          5,
          5,
          5,
          5,
          5,
          5,
          5,
          5,
          5,
          5,
          5,
          5,
          5,
          5,
          5,
          5,
          5,
          5,
          5,
          5,
          5,
          5,
          5,
          5,
          5,
          5,
          5,
          5,
          5,
          5,
          5,
          5,
          5,
          5,
          5,
          5,
          5,
          5,
          5,
          5,
          5,
          5,
          5,
          5,
          5,
          5,
          5,
          5,
          5,
          5,
          5,
          5,
          5,
          5,
          5,
          5,
          5,
          5,
          5,
          5,
          5,
          5,
          5,
          5,
          5,
          5,
          5,
          5,
          5,
          5,
          5,
          5,
          5,
          5,
          5,
          5,
          5,
          5,
          5,
          5,
          5,
          5,
          5,
          5,
          5,
          5,
          5,
          5,
          5,
          5,
          5,
          5,
          5,
          5,
          5,
          5,
          5,
          5,
          5,
          5,
          5,
          5,
          5,
          5,
          5,
          5,
          5,
          5,
          5,
          5,
          5,
          5,
          5,
          5,
          5,
          5,
          5,
          5,
          5,
          5,
          5,
          5,
          5,
          5,
          5,
          5,
          5,
          5,
          5,
          5,
          5,
          5,
          5,
          5,
          5,
          5,
          5,
          5,
          5,
          5,
          5,
          5,
          5,
          5,
          5,
          5,
          5,
          5,
          5,
          5,
          5,
          5,
          5,
          5,
          5,
          5,
          5,
          5,
          5,
          5,
          5,
          5,
          5,
          5,
          5,
          5,
          5,
          5,
          5,
          5,
          5,
          5,
          5,
          5,
          5,
          5,
          5,
          5,
          5,
          5,
          5,
          5,
          5,
          5,
          5,
          5,
          5,
          5,
          5,
          5,
          5,
          5,
          5,
          5,
          5,
          5,
          5,
          5,
          5,
          5,
          5,
          5,
          5,
          5,
          5,
          5,
          5,
          5,
          5,
          5,
          5,
          5,
          5,
          5,
          5,
          5,
          5,
          5,
          5,
          5,
          5,
          5,
          5,
          5,
          5,
          5,
          5,
          5,
          5,
          5,
          5,
          5,
          5,
          5,
          5,
          5,
          5,
          5,
          5,
          5,
          5,
          5,
          5,
          5,
          5,
          5,
          5,
          5,
          5,
          5,
          5,
          5,
          5,
          5,
          5,
          5,
          5,
          5,
          5,
          5,
          5,
          5,
          5,
          5,
          5,
          5,
          5,
          5,
          5,
          5,
          5,
          5,
          5,
          5,
          5,
          5,
          5,
          5,
          5,
          5,
          5,
          5,
          5,
          5,
          5,
          5,
          5,
          5,
          5,
          5,
          5,
          5,
          5,
          5,
          5,
          5,
          5,
          5,
          5,
          5,
          5,
          5,
          5,
          5,
          5,
          5,
          5,
          5,
          5,
          5,
          5,
          5,
          5,
          5,
          5,
          5,
          5,
          5,
          5,
          5,
          5,
          5,
          5,
          5,
          5,
          5,
          5,
          5,
          5,
          5,
          5,
          5,
          5,
          5,
          5,
          5,
          5,
          5,
          5,
          5,
          5,
          5,
          5,
          5,
          5,
          5,
          5,
          5,
          5,
          5,
          5,
          5,
          5,
          5,
          5,
          5,
          5,
          5,
          5,
          5,
          5,
          5,
          5,
          5,
          5,
          5,
          5,
          5,
          5,
          5,
          5,
          5,
          5,
          5,
          5,
          5,
          5,
          5,
          5,
          5,
          5,
          5,
          5,
          5,
          5,
          5,
          5,
          5,
          5,
          5,
          5,
          5,
          5,
          5,
          5,
          5,
          5,
          5,
          5,
          5,
          5,
          5,
          5,
          5,
          5,
          5,
          5,
          5
         ],
         "xaxis": "x",
         "y": [
          4,
          4,
          4,
          4,
          4,
          4,
          4,
          4,
          4,
          4,
          4,
          4,
          4,
          4,
          4,
          5,
          4,
          4,
          4,
          5,
          4,
          4,
          4,
          4,
          4,
          4,
          4,
          4,
          4,
          4,
          4,
          4,
          4,
          4,
          4,
          4,
          4,
          4,
          4,
          5,
          4,
          5,
          4,
          4,
          4,
          5,
          5,
          4,
          4,
          4,
          4,
          5,
          5,
          4,
          4,
          4,
          4,
          4,
          4,
          5,
          4,
          4,
          5,
          4,
          4,
          5,
          4,
          4,
          5,
          4,
          5,
          4,
          4,
          4,
          5,
          5,
          4,
          4,
          4,
          4,
          4,
          5,
          5,
          5,
          5,
          5,
          4,
          5,
          5,
          5,
          5,
          5,
          5,
          5,
          5,
          5,
          5,
          5,
          4,
          5,
          5,
          5,
          5,
          4,
          5,
          4,
          4,
          4,
          4,
          4,
          5,
          4,
          4,
          5,
          5,
          5,
          4,
          4,
          4,
          4,
          5,
          4,
          5,
          4,
          5,
          5,
          4,
          5,
          5,
          5,
          5,
          5,
          4,
          4,
          4,
          5,
          4,
          5,
          5,
          4,
          5,
          4,
          4,
          5,
          4,
          5,
          5,
          4,
          4,
          5,
          5,
          5,
          4,
          5,
          5,
          5,
          5,
          5,
          4,
          5,
          4,
          4,
          4,
          4,
          4,
          5,
          4,
          4,
          5,
          4,
          4,
          4,
          5,
          5,
          4,
          5,
          5,
          4,
          5,
          5,
          5,
          5,
          4,
          5,
          5,
          5,
          5,
          4,
          4,
          5,
          5,
          5,
          5,
          5,
          5,
          5,
          5,
          4,
          4,
          5,
          4,
          4,
          5,
          5,
          4,
          5,
          4,
          4,
          4,
          5,
          4,
          4,
          4,
          5,
          5,
          4,
          4,
          4,
          5,
          4,
          4,
          4,
          4,
          4,
          4,
          5,
          4,
          5,
          4,
          5,
          5,
          5,
          5,
          4,
          5,
          4,
          5,
          5,
          4,
          5,
          5,
          4,
          4,
          4,
          5,
          4,
          5,
          4,
          5,
          5,
          5,
          4,
          4,
          5,
          4,
          4,
          4,
          4,
          5,
          5,
          5,
          4,
          5,
          4,
          5,
          4,
          5,
          5,
          5,
          5,
          4,
          4,
          5,
          5,
          5,
          5,
          4,
          5,
          4,
          4,
          5,
          5,
          5,
          5,
          5,
          5,
          5,
          4,
          4,
          5,
          5,
          5,
          5,
          5,
          4,
          4,
          5,
          4,
          5,
          4,
          5,
          5,
          5,
          5,
          5,
          5,
          5,
          5,
          4,
          5,
          5,
          4,
          5,
          4,
          4,
          5,
          5,
          5,
          5,
          5,
          4,
          5,
          4,
          4,
          4,
          5,
          5,
          5,
          5,
          4,
          5,
          5,
          4,
          4,
          5,
          5,
          4,
          4,
          4,
          4,
          5,
          5,
          5,
          4,
          4,
          5,
          4,
          4,
          4,
          5,
          5,
          4,
          5,
          5,
          5,
          4,
          5,
          5,
          4,
          5,
          5,
          4,
          4,
          5,
          5,
          4,
          5,
          4,
          5,
          5,
          5,
          5,
          5,
          4,
          4,
          4,
          4,
          4,
          4,
          5,
          4,
          5,
          4,
          5,
          5,
          4,
          4,
          4,
          5,
          5,
          5,
          5,
          4,
          4,
          5,
          5,
          4,
          4,
          4,
          5,
          4,
          4,
          4,
          4,
          5,
          4,
          5,
          4,
          4,
          5,
          4,
          4,
          4,
          5,
          5,
          4,
          4,
          5,
          4,
          5,
          5,
          5,
          5,
          5,
          5,
          4,
          5,
          5,
          5,
          4,
          4,
          5,
          4,
          4,
          4,
          5,
          5,
          5,
          5,
          4,
          5,
          4,
          5,
          5,
          5,
          5,
          4,
          4,
          5,
          4,
          5,
          4,
          5,
          4,
          5,
          4,
          5,
          5,
          5,
          5,
          5,
          4,
          4,
          4,
          4,
          4,
          4,
          5,
          4,
          4,
          4,
          5,
          5,
          4,
          4,
          4,
          5,
          4,
          4,
          4,
          4,
          4,
          4,
          5,
          5,
          4,
          5,
          5,
          5,
          5,
          4,
          4,
          5,
          5,
          5,
          5,
          5,
          5,
          4,
          5,
          4,
          5,
          4,
          5,
          4,
          4,
          5,
          4,
          5,
          4,
          4,
          4,
          5,
          4,
          5,
          5,
          5,
          4,
          5,
          5,
          5,
          5,
          5,
          5,
          5,
          4,
          4,
          5,
          4,
          5,
          5,
          5,
          4,
          4,
          4,
          4,
          5,
          4,
          5,
          5,
          4,
          5,
          4,
          4,
          5,
          5,
          5,
          5,
          5,
          4,
          4,
          4,
          5,
          4,
          4,
          4,
          4,
          5,
          5,
          5,
          5,
          5,
          5,
          5,
          5,
          5,
          5,
          5,
          5,
          5,
          4,
          5,
          5,
          5,
          4,
          5,
          5,
          4,
          4,
          5,
          4,
          4,
          5,
          5,
          4,
          5,
          5,
          4,
          4,
          5,
          5,
          5,
          5,
          4,
          4,
          4,
          5,
          5,
          5,
          4,
          5,
          5,
          4,
          5,
          4,
          4,
          4,
          5,
          5,
          5,
          5,
          4,
          5,
          5,
          4,
          4,
          4,
          4,
          4,
          4,
          4,
          4,
          4,
          4,
          5,
          5,
          4,
          4,
          5,
          4,
          4,
          5,
          4,
          4,
          4,
          4,
          4,
          4,
          4
         ],
         "yaxis": "y"
        },
        {
         "customdata": [
          [
           3
          ],
          [
           3
          ],
          [
           4
          ],
          [
           3
          ],
          [
           4
          ],
          [
           3
          ],
          [
           3
          ],
          [
           5
          ],
          [
           2
          ],
          [
           1
          ],
          [
           1
          ],
          [
           1
          ],
          [
           1
          ],
          [
           1
          ],
          [
           1
          ],
          [
           3
          ],
          [
           2
          ],
          [
           1
          ],
          [
           1
          ],
          [
           5
          ],
          [
           1
          ],
          [
           2
          ],
          [
           1
          ],
          [
           2
          ],
          [
           3
          ],
          [
           1
          ],
          [
           1
          ],
          [
           5
          ],
          [
           4
          ],
          [
           1
          ],
          [
           2
          ],
          [
           1
          ],
          [
           1
          ],
          [
           1
          ],
          [
           4
          ],
          [
           1
          ],
          [
           2
          ],
          [
           1
          ],
          [
           1
          ],
          [
           1
          ],
          [
           1
          ],
          [
           3
          ],
          [
           1
          ],
          [
           1
          ],
          [
           2
          ],
          [
           2
          ],
          [
           1
          ],
          [
           2
          ],
          [
           4
          ],
          [
           3
          ],
          [
           2
          ],
          [
           5
          ],
          [
           3
          ],
          [
           2
          ],
          [
           2
          ],
          [
           2
          ],
          [
           2
          ],
          [
           5
          ],
          [
           3
          ],
          [
           3
          ],
          [
           1
          ],
          [
           3
          ],
          [
           1
          ],
          [
           2
          ],
          [
           1
          ],
          [
           3
          ],
          [
           2
          ],
          [
           1
          ],
          [
           2
          ],
          [
           2
          ],
          [
           2
          ],
          [
           4
          ],
          [
           2
          ],
          [
           3
          ],
          [
           2
          ],
          [
           3
          ],
          [
           3
          ],
          [
           1
          ],
          [
           2
          ],
          [
           3
          ],
          [
           1
          ],
          [
           3
          ],
          [
           3
          ],
          [
           2
          ],
          [
           3
          ],
          [
           2
          ],
          [
           2
          ],
          [
           1
          ],
          [
           1
          ],
          [
           2
          ],
          [
           2
          ],
          [
           3
          ],
          [
           4
          ],
          [
           3
          ],
          [
           2
          ],
          [
           1
          ],
          [
           1
          ],
          [
           1
          ],
          [
           4
          ],
          [
           1
          ],
          [
           1
          ],
          [
           4
          ],
          [
           3
          ],
          [
           2
          ],
          [
           3
          ],
          [
           1
          ],
          [
           1
          ],
          [
           2
          ],
          [
           1
          ],
          [
           1
          ],
          [
           5
          ],
          [
           2
          ],
          [
           1
          ],
          [
           2
          ],
          [
           2
          ],
          [
           3
          ],
          [
           5
          ],
          [
           1
          ],
          [
           3
          ],
          [
           1
          ],
          [
           1
          ],
          [
           1
          ],
          [
           2
          ],
          [
           1
          ],
          [
           2
          ],
          [
           2
          ],
          [
           4
          ],
          [
           1
          ],
          [
           1
          ],
          [
           2
          ],
          [
           5
          ],
          [
           2
          ],
          [
           4
          ],
          [
           1
          ],
          [
           1
          ],
          [
           3
          ],
          [
           1
          ],
          [
           1
          ],
          [
           2
          ],
          [
           2
          ],
          [
           3
          ],
          [
           3
          ],
          [
           3
          ],
          [
           1
          ],
          [
           3
          ],
          [
           4
          ],
          [
           5
          ],
          [
           1
          ],
          [
           1
          ],
          [
           3
          ],
          [
           1
          ],
          [
           5
          ],
          [
           1
          ],
          [
           5
          ],
          [
           1
          ],
          [
           3
          ],
          [
           4
          ],
          [
           3
          ],
          [
           2
          ],
          [
           3
          ],
          [
           1
          ],
          [
           3
          ],
          [
           4
          ],
          [
           3
          ],
          [
           4
          ],
          [
           1
          ],
          [
           3
          ],
          [
           4
          ],
          [
           3
          ],
          [
           3
          ],
          [
           2
          ],
          [
           1
          ],
          [
           1
          ],
          [
           2
          ],
          [
           4
          ],
          [
           1
          ],
          [
           5
          ],
          [
           4
          ],
          [
           4
          ],
          [
           1
          ],
          [
           2
          ],
          [
           1
          ],
          [
           5
          ],
          [
           2
          ],
          [
           2
          ],
          [
           2
          ],
          [
           2
          ],
          [
           1
          ],
          [
           2
          ],
          [
           2
          ],
          [
           3
          ],
          [
           3
          ],
          [
           2
          ],
          [
           1
          ],
          [
           2
          ],
          [
           5
          ],
          [
           2
          ],
          [
           3
          ],
          [
           4
          ],
          [
           1
          ],
          [
           1
          ],
          [
           2
          ],
          [
           1
          ],
          [
           4
          ],
          [
           2
          ],
          [
           3
          ],
          [
           3
          ],
          [
           1
          ],
          [
           3
          ],
          [
           1
          ],
          [
           2
          ],
          [
           2
          ],
          [
           5
          ],
          [
           5
          ],
          [
           1
          ],
          [
           2
          ],
          [
           1
          ],
          [
           3
          ],
          [
           3
          ],
          [
           1
          ],
          [
           4
          ],
          [
           1
          ],
          [
           1
          ],
          [
           2
          ],
          [
           2
          ],
          [
           1
          ],
          [
           2
          ],
          [
           3
          ],
          [
           2
          ],
          [
           1
          ],
          [
           1
          ],
          [
           3
          ],
          [
           2
          ],
          [
           3
          ],
          [
           2
          ],
          [
           2
          ],
          [
           2
          ],
          [
           1
          ],
          [
           5
          ],
          [
           3
          ],
          [
           1
          ],
          [
           1
          ],
          [
           4
          ],
          [
           3
          ],
          [
           2
          ],
          [
           1
          ],
          [
           2
          ],
          [
           1
          ],
          [
           3
          ],
          [
           1
          ],
          [
           1
          ],
          [
           4
          ],
          [
           3
          ],
          [
           3
          ],
          [
           3
          ],
          [
           3
          ],
          [
           2
          ],
          [
           3
          ],
          [
           2
          ],
          [
           2
          ],
          [
           3
          ],
          [
           1
          ],
          [
           2
          ],
          [
           2
          ],
          [
           3
          ],
          [
           1
          ],
          [
           2
          ],
          [
           1
          ],
          [
           3
          ],
          [
           2
          ],
          [
           3
          ],
          [
           1
          ],
          [
           2
          ],
          [
           1
          ],
          [
           1
          ],
          [
           1
          ],
          [
           1
          ],
          [
           2
          ],
          [
           3
          ],
          [
           1
          ],
          [
           1
          ],
          [
           1
          ],
          [
           2
          ],
          [
           3
          ],
          [
           4
          ],
          [
           1
          ],
          [
           1
          ],
          [
           3
          ],
          [
           4
          ],
          [
           2
          ],
          [
           2
          ],
          [
           1
          ],
          [
           2
          ],
          [
           4
          ],
          [
           5
          ],
          [
           1
          ],
          [
           2
          ],
          [
           3
          ],
          [
           3
          ],
          [
           3
          ],
          [
           1
          ],
          [
           1
          ],
          [
           2
          ],
          [
           4
          ],
          [
           2
          ],
          [
           3
          ],
          [
           1
          ],
          [
           1
          ],
          [
           3
          ],
          [
           3
          ],
          [
           2
          ],
          [
           1
          ],
          [
           3
          ],
          [
           3
          ],
          [
           1
          ],
          [
           2
          ],
          [
           2
          ],
          [
           4
          ],
          [
           3
          ],
          [
           2
          ],
          [
           1
          ],
          [
           1
          ],
          [
           3
          ],
          [
           2
          ],
          [
           2
          ],
          [
           3
          ],
          [
           4
          ],
          [
           2
          ],
          [
           3
          ],
          [
           1
          ],
          [
           1
          ],
          [
           1
          ],
          [
           3
          ],
          [
           1
          ],
          [
           4
          ],
          [
           5
          ],
          [
           2
          ],
          [
           5
          ],
          [
           1
          ],
          [
           3
          ],
          [
           1
          ],
          [
           3
          ],
          [
           4
          ],
          [
           2
          ],
          [
           2
          ],
          [
           4
          ],
          [
           1
          ],
          [
           1
          ],
          [
           3
          ],
          [
           1
          ],
          [
           1
          ],
          [
           1
          ],
          [
           1
          ],
          [
           3
          ],
          [
           2
          ],
          [
           1
          ],
          [
           2
          ],
          [
           1
          ],
          [
           2
          ],
          [
           2
          ],
          [
           3
          ],
          [
           2
          ],
          [
           1
          ],
          [
           1
          ],
          [
           2
          ],
          [
           1
          ],
          [
           1
          ],
          [
           4
          ],
          [
           4
          ],
          [
           1
          ],
          [
           3
          ],
          [
           2
          ],
          [
           3
          ],
          [
           1
          ],
          [
           3
          ],
          [
           4
          ],
          [
           5
          ],
          [
           1
          ],
          [
           4
          ],
          [
           2
          ],
          [
           1
          ],
          [
           1
          ],
          [
           3
          ],
          [
           1
          ],
          [
           1
          ],
          [
           4
          ],
          [
           3
          ],
          [
           2
          ],
          [
           2
          ],
          [
           1
          ],
          [
           1
          ],
          [
           1
          ],
          [
           2
          ],
          [
           4
          ],
          [
           1
          ],
          [
           2
          ],
          [
           4
          ],
          [
           1
          ],
          [
           2
          ],
          [
           1
          ],
          [
           3
          ],
          [
           1
          ],
          [
           4
          ],
          [
           2
          ],
          [
           4
          ],
          [
           2
          ],
          [
           2
          ],
          [
           4
          ],
          [
           1
          ],
          [
           3
          ],
          [
           2
          ],
          [
           5
          ],
          [
           3
          ],
          [
           1
          ],
          [
           1
          ],
          [
           5
          ],
          [
           2
          ],
          [
           2
          ],
          [
           3
          ],
          [
           2
          ],
          [
           3
          ],
          [
           2
          ],
          [
           1
          ],
          [
           3
          ],
          [
           3
          ],
          [
           3
          ],
          [
           1
          ],
          [
           5
          ],
          [
           1
          ],
          [
           1
          ],
          [
           2
          ],
          [
           4
          ],
          [
           2
          ],
          [
           1
          ],
          [
           1
          ],
          [
           1
          ],
          [
           2
          ],
          [
           1
          ],
          [
           2
          ],
          [
           2
          ],
          [
           2
          ],
          [
           2
          ],
          [
           2
          ],
          [
           4
          ],
          [
           3
          ],
          [
           1
          ],
          [
           1
          ],
          [
           1
          ],
          [
           5
          ],
          [
           3
          ],
          [
           3
          ],
          [
           4
          ],
          [
           1
          ],
          [
           3
          ],
          [
           3
          ],
          [
           1
          ],
          [
           2
          ],
          [
           2
          ],
          [
           2
          ],
          [
           2
          ],
          [
           2
          ],
          [
           4
          ],
          [
           1
          ],
          [
           2
          ],
          [
           1
          ],
          [
           4
          ],
          [
           1
          ],
          [
           2
          ],
          [
           3
          ],
          [
           1
          ],
          [
           1
          ],
          [
           2
          ],
          [
           3
          ],
          [
           3
          ],
          [
           3
          ],
          [
           3
          ],
          [
           2
          ],
          [
           2
          ],
          [
           1
          ],
          [
           2
          ],
          [
           2
          ],
          [
           3
          ],
          [
           1
          ],
          [
           3
          ],
          [
           3
          ],
          [
           2
          ],
          [
           1
          ],
          [
           1
          ],
          [
           3
          ],
          [
           2
          ],
          [
           4
          ],
          [
           4
          ],
          [
           4
          ],
          [
           4
          ],
          [
           2
          ],
          [
           2
          ],
          [
           4
          ],
          [
           3
          ],
          [
           1
          ],
          [
           2
          ],
          [
           5
          ],
          [
           1
          ],
          [
           3
          ],
          [
           2
          ],
          [
           1
          ],
          [
           1
          ],
          [
           1
          ],
          [
           1
          ],
          [
           3
          ],
          [
           1
          ],
          [
           1
          ],
          [
           1
          ],
          [
           3
          ],
          [
           3
          ],
          [
           1
          ],
          [
           1
          ],
          [
           3
          ],
          [
           1
          ],
          [
           3
          ],
          [
           3
          ],
          [
           1
          ],
          [
           4
          ],
          [
           2
          ],
          [
           4
          ],
          [
           1
          ],
          [
           2
          ],
          [
           2
          ],
          [
           4
          ],
          [
           3
          ],
          [
           3
          ],
          [
           2
          ],
          [
           1
          ],
          [
           3
          ],
          [
           1
          ],
          [
           3
          ],
          [
           4
          ],
          [
           2
          ],
          [
           2
          ],
          [
           2
          ],
          [
           3
          ],
          [
           2
          ],
          [
           1
          ],
          [
           3
          ],
          [
           4
          ],
          [
           3
          ],
          [
           4
          ],
          [
           1
          ],
          [
           2
          ],
          [
           4
          ],
          [
           3
          ],
          [
           3
          ],
          [
           2
          ],
          [
           2
          ],
          [
           4
          ],
          [
           1
          ],
          [
           2
          ],
          [
           4
          ],
          [
           3
          ],
          [
           5
          ],
          [
           3
          ],
          [
           2
          ],
          [
           2
          ],
          [
           3
          ],
          [
           5
          ],
          [
           1
          ],
          [
           1
          ],
          [
           1
          ],
          [
           2
          ],
          [
           1
          ],
          [
           1
          ],
          [
           2
          ],
          [
           2
          ],
          [
           1
          ],
          [
           1
          ],
          [
           3
          ],
          [
           1
          ],
          [
           2
          ],
          [
           1
          ],
          [
           1
          ],
          [
           1
          ],
          [
           2
          ],
          [
           1
          ],
          [
           4
          ],
          [
           2
          ],
          [
           2
          ],
          [
           1
          ],
          [
           2
          ],
          [
           2
          ],
          [
           3
          ],
          [
           2
          ],
          [
           3
          ],
          [
           2
          ],
          [
           3
          ],
          [
           1
          ],
          [
           1
          ],
          [
           2
          ],
          [
           2
          ],
          [
           1
          ],
          [
           2
          ],
          [
           2
          ],
          [
           5
          ],
          [
           2
          ],
          [
           1
          ],
          [
           2
          ],
          [
           1
          ],
          [
           3
          ],
          [
           2
          ],
          [
           2
          ],
          [
           1
          ],
          [
           2
          ],
          [
           2
          ],
          [
           1
          ],
          [
           1
          ],
          [
           1
          ],
          [
           1
          ],
          [
           1
          ],
          [
           3
          ],
          [
           1
          ],
          [
           1
          ],
          [
           1
          ],
          [
           2
          ],
          [
           2
          ],
          [
           3
          ],
          [
           5
          ],
          [
           3
          ],
          [
           3
          ],
          [
           1
          ],
          [
           2
          ],
          [
           2
          ],
          [
           2
          ],
          [
           1
          ],
          [
           4
          ],
          [
           3
          ],
          [
           1
          ],
          [
           2
          ],
          [
           4
          ],
          [
           2
          ],
          [
           2
          ]
         ],
         "hovertemplate": "segment=Potential_to_be_Loyal<br>Recency_Score=%{x}<br>Frequency_Score=%{y}<br>Monetary_Score=%{customdata[0]}<extra></extra>",
         "legendgroup": "Potential_to_be_Loyal",
         "marker": {
          "color": "#00cc96",
          "size": [
           3,
           3,
           4,
           3,
           4,
           3,
           3,
           5,
           2,
           1,
           1,
           1,
           1,
           1,
           1,
           3,
           2,
           1,
           1,
           5,
           1,
           2,
           1,
           2,
           3,
           1,
           1,
           5,
           4,
           1,
           2,
           1,
           1,
           1,
           4,
           1,
           2,
           1,
           1,
           1,
           1,
           3,
           1,
           1,
           2,
           2,
           1,
           2,
           4,
           3,
           2,
           5,
           3,
           2,
           2,
           2,
           2,
           5,
           3,
           3,
           1,
           3,
           1,
           2,
           1,
           3,
           2,
           1,
           2,
           2,
           2,
           4,
           2,
           3,
           2,
           3,
           3,
           1,
           2,
           3,
           1,
           3,
           3,
           2,
           3,
           2,
           2,
           1,
           1,
           2,
           2,
           3,
           4,
           3,
           2,
           1,
           1,
           1,
           4,
           1,
           1,
           4,
           3,
           2,
           3,
           1,
           1,
           2,
           1,
           1,
           5,
           2,
           1,
           2,
           2,
           3,
           5,
           1,
           3,
           1,
           1,
           1,
           2,
           1,
           2,
           2,
           4,
           1,
           1,
           2,
           5,
           2,
           4,
           1,
           1,
           3,
           1,
           1,
           2,
           2,
           3,
           3,
           3,
           1,
           3,
           4,
           5,
           1,
           1,
           3,
           1,
           5,
           1,
           5,
           1,
           3,
           4,
           3,
           2,
           3,
           1,
           3,
           4,
           3,
           4,
           1,
           3,
           4,
           3,
           3,
           2,
           1,
           1,
           2,
           4,
           1,
           5,
           4,
           4,
           1,
           2,
           1,
           5,
           2,
           2,
           2,
           2,
           1,
           2,
           2,
           3,
           3,
           2,
           1,
           2,
           5,
           2,
           3,
           4,
           1,
           1,
           2,
           1,
           4,
           2,
           3,
           3,
           1,
           3,
           1,
           2,
           2,
           5,
           5,
           1,
           2,
           1,
           3,
           3,
           1,
           4,
           1,
           1,
           2,
           2,
           1,
           2,
           3,
           2,
           1,
           1,
           3,
           2,
           3,
           2,
           2,
           2,
           1,
           5,
           3,
           1,
           1,
           4,
           3,
           2,
           1,
           2,
           1,
           3,
           1,
           1,
           4,
           3,
           3,
           3,
           3,
           2,
           3,
           2,
           2,
           3,
           1,
           2,
           2,
           3,
           1,
           2,
           1,
           3,
           2,
           3,
           1,
           2,
           1,
           1,
           1,
           1,
           2,
           3,
           1,
           1,
           1,
           2,
           3,
           4,
           1,
           1,
           3,
           4,
           2,
           2,
           1,
           2,
           4,
           5,
           1,
           2,
           3,
           3,
           3,
           1,
           1,
           2,
           4,
           2,
           3,
           1,
           1,
           3,
           3,
           2,
           1,
           3,
           3,
           1,
           2,
           2,
           4,
           3,
           2,
           1,
           1,
           3,
           2,
           2,
           3,
           4,
           2,
           3,
           1,
           1,
           1,
           3,
           1,
           4,
           5,
           2,
           5,
           1,
           3,
           1,
           3,
           4,
           2,
           2,
           4,
           1,
           1,
           3,
           1,
           1,
           1,
           1,
           3,
           2,
           1,
           2,
           1,
           2,
           2,
           3,
           2,
           1,
           1,
           2,
           1,
           1,
           4,
           4,
           1,
           3,
           2,
           3,
           1,
           3,
           4,
           5,
           1,
           4,
           2,
           1,
           1,
           3,
           1,
           1,
           4,
           3,
           2,
           2,
           1,
           1,
           1,
           2,
           4,
           1,
           2,
           4,
           1,
           2,
           1,
           3,
           1,
           4,
           2,
           4,
           2,
           2,
           4,
           1,
           3,
           2,
           5,
           3,
           1,
           1,
           5,
           2,
           2,
           3,
           2,
           3,
           2,
           1,
           3,
           3,
           3,
           1,
           5,
           1,
           1,
           2,
           4,
           2,
           1,
           1,
           1,
           2,
           1,
           2,
           2,
           2,
           2,
           2,
           4,
           3,
           1,
           1,
           1,
           5,
           3,
           3,
           4,
           1,
           3,
           3,
           1,
           2,
           2,
           2,
           2,
           2,
           4,
           1,
           2,
           1,
           4,
           1,
           2,
           3,
           1,
           1,
           2,
           3,
           3,
           3,
           3,
           2,
           2,
           1,
           2,
           2,
           3,
           1,
           3,
           3,
           2,
           1,
           1,
           3,
           2,
           4,
           4,
           4,
           4,
           2,
           2,
           4,
           3,
           1,
           2,
           5,
           1,
           3,
           2,
           1,
           1,
           1,
           1,
           3,
           1,
           1,
           1,
           3,
           3,
           1,
           1,
           3,
           1,
           3,
           3,
           1,
           4,
           2,
           4,
           1,
           2,
           2,
           4,
           3,
           3,
           2,
           1,
           3,
           1,
           3,
           4,
           2,
           2,
           2,
           3,
           2,
           1,
           3,
           4,
           3,
           4,
           1,
           2,
           4,
           3,
           3,
           2,
           2,
           4,
           1,
           2,
           4,
           3,
           5,
           3,
           2,
           2,
           3,
           5,
           1,
           1,
           1,
           2,
           1,
           1,
           2,
           2,
           1,
           1,
           3,
           1,
           2,
           1,
           1,
           1,
           2,
           1,
           4,
           2,
           2,
           1,
           2,
           2,
           3,
           2,
           3,
           2,
           3,
           1,
           1,
           2,
           2,
           1,
           2,
           2,
           5,
           2,
           1,
           2,
           1,
           3,
           2,
           2,
           1,
           2,
           2,
           1,
           1,
           1,
           1,
           1,
           3,
           1,
           1,
           1,
           2,
           2,
           3,
           5,
           3,
           3,
           1,
           2,
           2,
           2,
           1,
           4,
           3,
           1,
           2,
           4,
           2,
           2
          ],
          "sizemode": "area",
          "sizeref": 0.0125,
          "symbol": "circle"
         },
         "mode": "markers",
         "name": "Potential_to_be_Loyal",
         "showlegend": true,
         "type": "scattergl",
         "x": [
          5,
          5,
          5,
          5,
          5,
          5,
          5,
          5,
          5,
          5,
          5,
          5,
          5,
          5,
          5,
          5,
          5,
          5,
          5,
          5,
          5,
          5,
          5,
          5,
          5,
          5,
          5,
          5,
          5,
          5,
          5,
          5,
          5,
          5,
          5,
          5,
          5,
          5,
          5,
          5,
          5,
          5,
          5,
          5,
          5,
          5,
          5,
          5,
          5,
          5,
          5,
          5,
          5,
          5,
          5,
          5,
          5,
          5,
          5,
          5,
          5,
          5,
          5,
          5,
          5,
          5,
          5,
          5,
          5,
          5,
          5,
          5,
          5,
          5,
          5,
          5,
          5,
          5,
          5,
          5,
          5,
          5,
          5,
          5,
          5,
          5,
          5,
          5,
          5,
          5,
          5,
          5,
          5,
          5,
          5,
          5,
          5,
          5,
          5,
          5,
          5,
          5,
          5,
          5,
          5,
          5,
          5,
          5,
          5,
          5,
          5,
          5,
          5,
          5,
          5,
          5,
          5,
          5,
          5,
          5,
          5,
          5,
          5,
          5,
          5,
          5,
          5,
          5,
          5,
          5,
          5,
          5,
          5,
          5,
          5,
          5,
          5,
          5,
          5,
          5,
          5,
          5,
          5,
          5,
          5,
          5,
          5,
          5,
          5,
          5,
          5,
          5,
          5,
          5,
          5,
          5,
          5,
          5,
          5,
          5,
          5,
          5,
          5,
          5,
          5,
          5,
          5,
          5,
          5,
          5,
          5,
          5,
          5,
          5,
          5,
          5,
          5,
          5,
          5,
          5,
          5,
          5,
          5,
          5,
          5,
          5,
          5,
          5,
          5,
          5,
          5,
          5,
          5,
          5,
          5,
          5,
          5,
          5,
          5,
          5,
          5,
          5,
          5,
          5,
          5,
          5,
          5,
          5,
          5,
          5,
          5,
          5,
          5,
          5,
          5,
          5,
          5,
          5,
          5,
          5,
          5,
          5,
          5,
          5,
          5,
          5,
          5,
          5,
          5,
          5,
          5,
          5,
          5,
          5,
          5,
          5,
          5,
          5,
          5,
          5,
          5,
          5,
          5,
          5,
          5,
          5,
          5,
          5,
          5,
          5,
          5,
          5,
          5,
          5,
          5,
          5,
          5,
          5,
          5,
          5,
          5,
          5,
          5,
          5,
          5,
          5,
          5,
          5,
          5,
          5,
          5,
          5,
          5,
          5,
          5,
          5,
          5,
          5,
          5,
          5,
          5,
          5,
          5,
          5,
          5,
          5,
          5,
          5,
          5,
          5,
          5,
          5,
          5,
          5,
          5,
          5,
          5,
          5,
          5,
          5,
          5,
          5,
          5,
          5,
          5,
          5,
          5,
          5,
          5,
          5,
          5,
          5,
          5,
          5,
          5,
          5,
          5,
          5,
          5,
          5,
          5,
          5,
          5,
          5,
          5,
          5,
          5,
          5,
          5,
          5,
          5,
          5,
          5,
          5,
          5,
          5,
          5,
          5,
          5,
          5,
          5,
          5,
          5,
          5,
          5,
          5,
          5,
          5,
          5,
          5,
          5,
          5,
          5,
          5,
          5,
          5,
          5,
          5,
          5,
          5,
          5,
          5,
          5,
          5,
          5,
          5,
          5,
          5,
          5,
          5,
          5,
          5,
          5,
          5,
          5,
          5,
          5,
          5,
          5,
          5,
          5,
          5,
          5,
          5,
          5,
          5,
          5,
          5,
          5,
          5,
          5,
          5,
          5,
          5,
          5,
          5,
          5,
          5,
          5,
          5,
          5,
          5,
          5,
          5,
          5,
          5,
          5,
          5,
          5,
          5,
          5,
          5,
          5,
          5,
          5,
          5,
          5,
          5,
          5,
          5,
          5,
          5,
          5,
          5,
          5,
          5,
          5,
          5,
          5,
          5,
          5,
          5,
          5,
          5,
          5,
          5,
          5,
          5,
          5,
          5,
          5,
          5,
          5,
          5,
          5,
          5,
          5,
          5,
          5,
          5,
          5,
          5,
          5,
          5,
          5,
          5,
          5,
          5,
          5,
          5,
          5,
          5,
          5,
          5,
          5,
          5,
          5,
          5,
          5,
          5,
          5,
          5,
          5,
          5,
          5,
          5,
          5,
          5,
          5,
          5,
          5,
          5,
          5,
          5,
          5,
          5,
          5,
          5,
          5,
          5,
          5,
          5,
          5,
          5,
          5,
          5,
          5,
          5,
          5,
          5,
          5,
          5,
          5,
          5,
          5,
          5,
          5,
          5,
          5,
          5,
          5,
          5,
          5,
          5,
          5,
          5,
          5,
          5,
          5,
          5,
          5,
          5,
          5,
          5,
          5,
          5,
          5,
          5,
          5,
          5,
          5,
          5,
          5,
          5,
          5,
          5,
          5,
          5,
          5,
          5,
          5,
          5,
          5,
          5,
          5,
          5,
          5,
          5,
          5,
          5,
          5,
          5,
          5,
          5,
          5,
          5,
          5,
          5,
          5,
          5,
          5,
          5,
          5,
          5,
          5,
          5,
          5,
          5,
          5,
          5,
          5,
          5,
          5,
          5,
          5,
          5,
          5,
          5,
          5,
          5,
          5,
          5,
          5,
          5,
          5,
          5,
          5,
          5,
          5,
          5,
          5,
          5,
          5,
          5,
          5,
          5,
          5,
          5,
          5,
          5,
          5,
          5,
          5,
          5,
          5,
          5,
          5,
          5,
          5,
          5,
          5,
          5,
          5,
          5,
          5,
          5,
          5,
          5,
          5,
          5,
          5,
          5,
          5,
          5,
          5,
          5,
          5,
          5,
          5,
          5,
          5,
          5,
          5,
          5,
          5,
          5,
          5,
          5
         ],
         "xaxis": "x",
         "y": [
          2,
          2,
          2,
          2,
          2,
          2,
          2,
          2,
          2,
          2,
          2,
          2,
          2,
          2,
          2,
          2,
          2,
          2,
          2,
          2,
          2,
          2,
          2,
          2,
          2,
          2,
          2,
          2,
          2,
          2,
          2,
          2,
          2,
          2,
          2,
          2,
          2,
          2,
          2,
          2,
          2,
          2,
          2,
          2,
          2,
          2,
          2,
          2,
          2,
          2,
          2,
          2,
          2,
          2,
          2,
          2,
          2,
          2,
          2,
          2,
          2,
          2,
          2,
          2,
          2,
          2,
          2,
          2,
          2,
          2,
          2,
          2,
          2,
          2,
          2,
          2,
          2,
          2,
          2,
          2,
          2,
          2,
          2,
          2,
          2,
          2,
          2,
          2,
          2,
          2,
          2,
          2,
          2,
          2,
          2,
          2,
          2,
          2,
          2,
          2,
          2,
          2,
          2,
          2,
          2,
          2,
          2,
          2,
          2,
          2,
          2,
          2,
          2,
          2,
          2,
          2,
          2,
          2,
          2,
          2,
          2,
          2,
          2,
          2,
          2,
          2,
          2,
          2,
          2,
          2,
          2,
          2,
          2,
          2,
          2,
          2,
          2,
          2,
          2,
          2,
          2,
          2,
          2,
          2,
          2,
          2,
          2,
          2,
          2,
          2,
          2,
          2,
          2,
          2,
          2,
          2,
          2,
          2,
          2,
          2,
          2,
          2,
          2,
          2,
          2,
          2,
          2,
          2,
          2,
          2,
          2,
          2,
          2,
          2,
          2,
          2,
          2,
          2,
          2,
          2,
          2,
          2,
          2,
          2,
          2,
          2,
          2,
          2,
          2,
          2,
          2,
          2,
          2,
          2,
          2,
          2,
          2,
          2,
          2,
          2,
          2,
          2,
          2,
          2,
          2,
          2,
          2,
          2,
          2,
          2,
          2,
          2,
          2,
          2,
          2,
          2,
          2,
          2,
          2,
          2,
          2,
          2,
          2,
          2,
          2,
          2,
          2,
          2,
          2,
          2,
          2,
          2,
          2,
          2,
          2,
          2,
          2,
          2,
          2,
          2,
          2,
          2,
          2,
          2,
          2,
          2,
          2,
          2,
          2,
          2,
          2,
          2,
          2,
          2,
          2,
          2,
          2,
          2,
          2,
          2,
          2,
          2,
          2,
          2,
          2,
          2,
          2,
          2,
          2,
          2,
          2,
          2,
          2,
          2,
          2,
          2,
          2,
          2,
          2,
          2,
          2,
          2,
          2,
          2,
          2,
          2,
          2,
          2,
          2,
          2,
          2,
          2,
          2,
          2,
          2,
          2,
          2,
          2,
          2,
          2,
          2,
          2,
          2,
          2,
          2,
          2,
          2,
          2,
          2,
          2,
          2,
          2,
          2,
          2,
          2,
          2,
          2,
          2,
          2,
          3,
          3,
          3,
          3,
          3,
          3,
          3,
          3,
          3,
          3,
          3,
          3,
          3,
          3,
          3,
          3,
          3,
          3,
          3,
          3,
          3,
          3,
          3,
          3,
          3,
          3,
          3,
          3,
          3,
          3,
          3,
          3,
          3,
          3,
          3,
          3,
          3,
          3,
          3,
          3,
          3,
          3,
          3,
          3,
          3,
          3,
          3,
          3,
          3,
          3,
          3,
          3,
          3,
          3,
          3,
          3,
          3,
          3,
          3,
          3,
          3,
          3,
          3,
          3,
          3,
          3,
          3,
          3,
          3,
          3,
          3,
          3,
          3,
          3,
          3,
          3,
          3,
          3,
          3,
          3,
          3,
          3,
          3,
          3,
          3,
          3,
          3,
          3,
          3,
          3,
          3,
          3,
          3,
          3,
          3,
          3,
          3,
          3,
          3,
          3,
          3,
          3,
          3,
          3,
          3,
          3,
          3,
          3,
          3,
          3,
          3,
          3,
          3,
          3,
          3,
          3,
          3,
          3,
          3,
          3,
          3,
          3,
          3,
          3,
          3,
          3,
          3,
          3,
          3,
          3,
          3,
          3,
          3,
          3,
          3,
          3,
          3,
          3,
          3,
          3,
          3,
          3,
          3,
          3,
          3,
          3,
          3,
          3,
          3,
          3,
          3,
          3,
          3,
          3,
          3,
          3,
          3,
          3,
          3,
          3,
          3,
          3,
          3,
          3,
          3,
          3,
          3,
          3,
          3,
          3,
          3,
          3,
          3,
          3,
          3,
          3,
          3,
          3,
          3,
          3,
          3,
          3,
          3,
          3,
          3,
          3,
          3,
          3,
          3,
          3,
          3,
          3,
          3,
          3,
          3,
          3,
          3,
          3,
          3,
          3,
          3,
          3,
          3,
          3,
          3,
          3,
          3,
          3,
          3,
          3,
          3,
          3,
          3,
          3,
          3,
          3,
          3,
          3,
          3,
          3,
          3,
          3,
          3,
          3,
          3,
          3,
          3,
          3,
          3,
          3,
          3,
          3,
          3,
          3,
          3,
          3,
          3,
          3,
          3,
          3,
          3,
          3,
          3,
          3,
          3,
          3,
          3,
          3,
          3,
          3,
          3,
          3,
          3,
          3,
          3,
          3,
          3,
          3,
          3,
          3,
          3,
          3,
          3,
          3,
          3,
          3,
          3,
          3,
          3,
          3,
          3,
          3,
          3,
          3,
          3,
          3,
          3,
          3,
          3,
          3,
          3,
          3,
          3,
          3,
          3,
          3,
          3,
          3,
          3,
          3,
          3,
          3,
          3,
          3,
          3,
          3,
          3,
          3,
          3,
          3,
          3,
          3,
          3,
          3,
          3,
          3,
          3,
          3,
          3,
          3,
          3,
          3,
          3,
          3,
          3,
          3,
          3,
          3,
          3
         ],
         "yaxis": "y"
        }
       ],
       "layout": {
        "legend": {
         "itemsizing": "constant",
         "title": {
          "text": "segment"
         },
         "tracegroupgap": 0
        },
        "margin": {
         "t": 60
        },
        "template": {
         "data": {
          "bar": [
           {
            "error_x": {
             "color": "#2a3f5f"
            },
            "error_y": {
             "color": "#2a3f5f"
            },
            "marker": {
             "line": {
              "color": "#E5ECF6",
              "width": 0.5
             },
             "pattern": {
              "fillmode": "overlay",
              "size": 10,
              "solidity": 0.2
             }
            },
            "type": "bar"
           }
          ],
          "barpolar": [
           {
            "marker": {
             "line": {
              "color": "#E5ECF6",
              "width": 0.5
             },
             "pattern": {
              "fillmode": "overlay",
              "size": 10,
              "solidity": 0.2
             }
            },
            "type": "barpolar"
           }
          ],
          "carpet": [
           {
            "aaxis": {
             "endlinecolor": "#2a3f5f",
             "gridcolor": "white",
             "linecolor": "white",
             "minorgridcolor": "white",
             "startlinecolor": "#2a3f5f"
            },
            "baxis": {
             "endlinecolor": "#2a3f5f",
             "gridcolor": "white",
             "linecolor": "white",
             "minorgridcolor": "white",
             "startlinecolor": "#2a3f5f"
            },
            "type": "carpet"
           }
          ],
          "choropleth": [
           {
            "colorbar": {
             "outlinewidth": 0,
             "ticks": ""
            },
            "type": "choropleth"
           }
          ],
          "contour": [
           {
            "colorbar": {
             "outlinewidth": 0,
             "ticks": ""
            },
            "colorscale": [
             [
              0,
              "#0d0887"
             ],
             [
              0.1111111111111111,
              "#46039f"
             ],
             [
              0.2222222222222222,
              "#7201a8"
             ],
             [
              0.3333333333333333,
              "#9c179e"
             ],
             [
              0.4444444444444444,
              "#bd3786"
             ],
             [
              0.5555555555555556,
              "#d8576b"
             ],
             [
              0.6666666666666666,
              "#ed7953"
             ],
             [
              0.7777777777777778,
              "#fb9f3a"
             ],
             [
              0.8888888888888888,
              "#fdca26"
             ],
             [
              1,
              "#f0f921"
             ]
            ],
            "type": "contour"
           }
          ],
          "contourcarpet": [
           {
            "colorbar": {
             "outlinewidth": 0,
             "ticks": ""
            },
            "type": "contourcarpet"
           }
          ],
          "heatmap": [
           {
            "colorbar": {
             "outlinewidth": 0,
             "ticks": ""
            },
            "colorscale": [
             [
              0,
              "#0d0887"
             ],
             [
              0.1111111111111111,
              "#46039f"
             ],
             [
              0.2222222222222222,
              "#7201a8"
             ],
             [
              0.3333333333333333,
              "#9c179e"
             ],
             [
              0.4444444444444444,
              "#bd3786"
             ],
             [
              0.5555555555555556,
              "#d8576b"
             ],
             [
              0.6666666666666666,
              "#ed7953"
             ],
             [
              0.7777777777777778,
              "#fb9f3a"
             ],
             [
              0.8888888888888888,
              "#fdca26"
             ],
             [
              1,
              "#f0f921"
             ]
            ],
            "type": "heatmap"
           }
          ],
          "heatmapgl": [
           {
            "colorbar": {
             "outlinewidth": 0,
             "ticks": ""
            },
            "colorscale": [
             [
              0,
              "#0d0887"
             ],
             [
              0.1111111111111111,
              "#46039f"
             ],
             [
              0.2222222222222222,
              "#7201a8"
             ],
             [
              0.3333333333333333,
              "#9c179e"
             ],
             [
              0.4444444444444444,
              "#bd3786"
             ],
             [
              0.5555555555555556,
              "#d8576b"
             ],
             [
              0.6666666666666666,
              "#ed7953"
             ],
             [
              0.7777777777777778,
              "#fb9f3a"
             ],
             [
              0.8888888888888888,
              "#fdca26"
             ],
             [
              1,
              "#f0f921"
             ]
            ],
            "type": "heatmapgl"
           }
          ],
          "histogram": [
           {
            "marker": {
             "pattern": {
              "fillmode": "overlay",
              "size": 10,
              "solidity": 0.2
             }
            },
            "type": "histogram"
           }
          ],
          "histogram2d": [
           {
            "colorbar": {
             "outlinewidth": 0,
             "ticks": ""
            },
            "colorscale": [
             [
              0,
              "#0d0887"
             ],
             [
              0.1111111111111111,
              "#46039f"
             ],
             [
              0.2222222222222222,
              "#7201a8"
             ],
             [
              0.3333333333333333,
              "#9c179e"
             ],
             [
              0.4444444444444444,
              "#bd3786"
             ],
             [
              0.5555555555555556,
              "#d8576b"
             ],
             [
              0.6666666666666666,
              "#ed7953"
             ],
             [
              0.7777777777777778,
              "#fb9f3a"
             ],
             [
              0.8888888888888888,
              "#fdca26"
             ],
             [
              1,
              "#f0f921"
             ]
            ],
            "type": "histogram2d"
           }
          ],
          "histogram2dcontour": [
           {
            "colorbar": {
             "outlinewidth": 0,
             "ticks": ""
            },
            "colorscale": [
             [
              0,
              "#0d0887"
             ],
             [
              0.1111111111111111,
              "#46039f"
             ],
             [
              0.2222222222222222,
              "#7201a8"
             ],
             [
              0.3333333333333333,
              "#9c179e"
             ],
             [
              0.4444444444444444,
              "#bd3786"
             ],
             [
              0.5555555555555556,
              "#d8576b"
             ],
             [
              0.6666666666666666,
              "#ed7953"
             ],
             [
              0.7777777777777778,
              "#fb9f3a"
             ],
             [
              0.8888888888888888,
              "#fdca26"
             ],
             [
              1,
              "#f0f921"
             ]
            ],
            "type": "histogram2dcontour"
           }
          ],
          "mesh3d": [
           {
            "colorbar": {
             "outlinewidth": 0,
             "ticks": ""
            },
            "type": "mesh3d"
           }
          ],
          "parcoords": [
           {
            "line": {
             "colorbar": {
              "outlinewidth": 0,
              "ticks": ""
             }
            },
            "type": "parcoords"
           }
          ],
          "pie": [
           {
            "automargin": true,
            "type": "pie"
           }
          ],
          "scatter": [
           {
            "fillpattern": {
             "fillmode": "overlay",
             "size": 10,
             "solidity": 0.2
            },
            "type": "scatter"
           }
          ],
          "scatter3d": [
           {
            "line": {
             "colorbar": {
              "outlinewidth": 0,
              "ticks": ""
             }
            },
            "marker": {
             "colorbar": {
              "outlinewidth": 0,
              "ticks": ""
             }
            },
            "type": "scatter3d"
           }
          ],
          "scattercarpet": [
           {
            "marker": {
             "colorbar": {
              "outlinewidth": 0,
              "ticks": ""
             }
            },
            "type": "scattercarpet"
           }
          ],
          "scattergeo": [
           {
            "marker": {
             "colorbar": {
              "outlinewidth": 0,
              "ticks": ""
             }
            },
            "type": "scattergeo"
           }
          ],
          "scattergl": [
           {
            "marker": {
             "colorbar": {
              "outlinewidth": 0,
              "ticks": ""
             }
            },
            "type": "scattergl"
           }
          ],
          "scattermapbox": [
           {
            "marker": {
             "colorbar": {
              "outlinewidth": 0,
              "ticks": ""
             }
            },
            "type": "scattermapbox"
           }
          ],
          "scatterpolar": [
           {
            "marker": {
             "colorbar": {
              "outlinewidth": 0,
              "ticks": ""
             }
            },
            "type": "scatterpolar"
           }
          ],
          "scatterpolargl": [
           {
            "marker": {
             "colorbar": {
              "outlinewidth": 0,
              "ticks": ""
             }
            },
            "type": "scatterpolargl"
           }
          ],
          "scatterternary": [
           {
            "marker": {
             "colorbar": {
              "outlinewidth": 0,
              "ticks": ""
             }
            },
            "type": "scatterternary"
           }
          ],
          "surface": [
           {
            "colorbar": {
             "outlinewidth": 0,
             "ticks": ""
            },
            "colorscale": [
             [
              0,
              "#0d0887"
             ],
             [
              0.1111111111111111,
              "#46039f"
             ],
             [
              0.2222222222222222,
              "#7201a8"
             ],
             [
              0.3333333333333333,
              "#9c179e"
             ],
             [
              0.4444444444444444,
              "#bd3786"
             ],
             [
              0.5555555555555556,
              "#d8576b"
             ],
             [
              0.6666666666666666,
              "#ed7953"
             ],
             [
              0.7777777777777778,
              "#fb9f3a"
             ],
             [
              0.8888888888888888,
              "#fdca26"
             ],
             [
              1,
              "#f0f921"
             ]
            ],
            "type": "surface"
           }
          ],
          "table": [
           {
            "cells": {
             "fill": {
              "color": "#EBF0F8"
             },
             "line": {
              "color": "white"
             }
            },
            "header": {
             "fill": {
              "color": "#C8D4E3"
             },
             "line": {
              "color": "white"
             }
            },
            "type": "table"
           }
          ]
         },
         "layout": {
          "annotationdefaults": {
           "arrowcolor": "#2a3f5f",
           "arrowhead": 0,
           "arrowwidth": 1
          },
          "autotypenumbers": "strict",
          "coloraxis": {
           "colorbar": {
            "outlinewidth": 0,
            "ticks": ""
           }
          },
          "colorscale": {
           "diverging": [
            [
             0,
             "#8e0152"
            ],
            [
             0.1,
             "#c51b7d"
            ],
            [
             0.2,
             "#de77ae"
            ],
            [
             0.3,
             "#f1b6da"
            ],
            [
             0.4,
             "#fde0ef"
            ],
            [
             0.5,
             "#f7f7f7"
            ],
            [
             0.6,
             "#e6f5d0"
            ],
            [
             0.7,
             "#b8e186"
            ],
            [
             0.8,
             "#7fbc41"
            ],
            [
             0.9,
             "#4d9221"
            ],
            [
             1,
             "#276419"
            ]
           ],
           "sequential": [
            [
             0,
             "#0d0887"
            ],
            [
             0.1111111111111111,
             "#46039f"
            ],
            [
             0.2222222222222222,
             "#7201a8"
            ],
            [
             0.3333333333333333,
             "#9c179e"
            ],
            [
             0.4444444444444444,
             "#bd3786"
            ],
            [
             0.5555555555555556,
             "#d8576b"
            ],
            [
             0.6666666666666666,
             "#ed7953"
            ],
            [
             0.7777777777777778,
             "#fb9f3a"
            ],
            [
             0.8888888888888888,
             "#fdca26"
            ],
            [
             1,
             "#f0f921"
            ]
           ],
           "sequentialminus": [
            [
             0,
             "#0d0887"
            ],
            [
             0.1111111111111111,
             "#46039f"
            ],
            [
             0.2222222222222222,
             "#7201a8"
            ],
            [
             0.3333333333333333,
             "#9c179e"
            ],
            [
             0.4444444444444444,
             "#bd3786"
            ],
            [
             0.5555555555555556,
             "#d8576b"
            ],
            [
             0.6666666666666666,
             "#ed7953"
            ],
            [
             0.7777777777777778,
             "#fb9f3a"
            ],
            [
             0.8888888888888888,
             "#fdca26"
            ],
            [
             1,
             "#f0f921"
            ]
           ]
          },
          "colorway": [
           "#636efa",
           "#EF553B",
           "#00cc96",
           "#ab63fa",
           "#FFA15A",
           "#19d3f3",
           "#FF6692",
           "#B6E880",
           "#FF97FF",
           "#FECB52"
          ],
          "font": {
           "color": "#2a3f5f"
          },
          "geo": {
           "bgcolor": "white",
           "lakecolor": "white",
           "landcolor": "#E5ECF6",
           "showlakes": true,
           "showland": true,
           "subunitcolor": "white"
          },
          "hoverlabel": {
           "align": "left"
          },
          "hovermode": "closest",
          "mapbox": {
           "style": "light"
          },
          "paper_bgcolor": "white",
          "plot_bgcolor": "#E5ECF6",
          "polar": {
           "angularaxis": {
            "gridcolor": "white",
            "linecolor": "white",
            "ticks": ""
           },
           "bgcolor": "#E5ECF6",
           "radialaxis": {
            "gridcolor": "white",
            "linecolor": "white",
            "ticks": ""
           }
          },
          "scene": {
           "xaxis": {
            "backgroundcolor": "#E5ECF6",
            "gridcolor": "white",
            "gridwidth": 2,
            "linecolor": "white",
            "showbackground": true,
            "ticks": "",
            "zerolinecolor": "white"
           },
           "yaxis": {
            "backgroundcolor": "#E5ECF6",
            "gridcolor": "white",
            "gridwidth": 2,
            "linecolor": "white",
            "showbackground": true,
            "ticks": "",
            "zerolinecolor": "white"
           },
           "zaxis": {
            "backgroundcolor": "#E5ECF6",
            "gridcolor": "white",
            "gridwidth": 2,
            "linecolor": "white",
            "showbackground": true,
            "ticks": "",
            "zerolinecolor": "white"
           }
          },
          "shapedefaults": {
           "line": {
            "color": "#2a3f5f"
           }
          },
          "ternary": {
           "aaxis": {
            "gridcolor": "white",
            "linecolor": "white",
            "ticks": ""
           },
           "baxis": {
            "gridcolor": "white",
            "linecolor": "white",
            "ticks": ""
           },
           "bgcolor": "#E5ECF6",
           "caxis": {
            "gridcolor": "white",
            "linecolor": "white",
            "ticks": ""
           }
          },
          "title": {
           "x": 0.05
          },
          "xaxis": {
           "automargin": true,
           "gridcolor": "white",
           "linecolor": "white",
           "ticks": "",
           "title": {
            "standoff": 15
           },
           "zerolinecolor": "white",
           "zerolinewidth": 2
          },
          "yaxis": {
           "automargin": true,
           "gridcolor": "white",
           "linecolor": "white",
           "ticks": "",
           "title": {
            "standoff": 15
           },
           "zerolinecolor": "white",
           "zerolinewidth": 2
          }
         }
        },
        "xaxis": {
         "anchor": "y",
         "domain": [
          0,
          1
         ],
         "title": {
          "text": "Recency_Score"
         }
        },
        "yaxis": {
         "anchor": "x",
         "domain": [
          0,
          1
         ],
         "title": {
          "text": "Frequency_Score"
         }
        }
       }
      },
      "text/html": [
       "<div>                            <div id=\"e2a48e0a-d5e3-465b-9884-d7c808125e00\" class=\"plotly-graph-div\" style=\"height:525px; width:100%;\"></div>            <script type=\"text/javascript\">                require([\"plotly\"], function(Plotly) {                    window.PLOTLYENV=window.PLOTLYENV || {};                                    if (document.getElementById(\"e2a48e0a-d5e3-465b-9884-d7c808125e00\")) {                    Plotly.newPlot(                        \"e2a48e0a-d5e3-465b-9884-d7c808125e00\",                        [{\"customdata\":[[5],[3],[2],[5],[3],[3],[3],[1],[2],[3],[1],[1],[2],[2],[5],[1],[5],[4],[2],[2],[5],[4],[4],[5],[3],[4],[5],[4],[3],[4],[3],[3],[3],[1],[2],[2],[2],[2],[5],[5],[3],[2],[2],[2],[5],[5],[4],[3],[1],[4],[4],[1],[4],[1],[2],[2],[3],[1],[1],[4],[4],[5],[1],[3],[2],[1],[2],[1],[5],[1],[5],[3],[5],[2],[1],[3],[2],[2],[1],[1],[2],[4],[3],[2],[1],[2],[3],[3],[1],[4],[2],[1],[1],[3],[2],[4],[1],[3],[1],[3],[2],[2],[1],[3],[3],[4],[1],[1],[2],[2],[1],[2],[1],[3],[3],[1],[5],[3],[3],[2],[1],[3],[4],[3],[1],[2],[2],[1],[3],[2],[2],[1],[4],[3],[2],[5],[1],[2],[2],[1],[1],[2],[5],[2],[2],[1],[4],[3],[1],[1],[4],[2],[2],[1],[1],[3],[2],[1],[2],[3],[2],[1],[4],[2],[4],[2],[1],[2],[3],[3],[2],[5],[2],[3],[5],[1],[2],[4],[3],[4],[3],[3],[2],[1],[2],[3],[4],[3],[3],[2],[4],[2],[3],[2],[2],[1],[3],[3],[1],[1],[4],[1],[2],[1],[1],[1],[3],[1],[1],[1],[1],[1],[2],[4],[2],[1],[2],[2],[3],[1],[2],[3],[2],[2],[1],[5],[1],[3],[3],[4],[3],[2],[1],[1],[4],[1],[2],[1],[3],[2],[2],[1],[3],[4],[5],[4],[1],[1],[5],[1],[3],[3],[1],[2],[3],[2],[1],[3],[1],[4],[3],[5],[2],[4],[1],[1],[2],[2],[1],[3],[2],[2],[1],[2],[3],[2],[2],[2],[2],[4],[2],[1],[1],[3],[5],[2],[1],[2],[5],[1],[3],[2],[3],[3],[3],[3],[5],[2],[2],[2],[1],[1],[3],[2],[3],[3],[1],[3],[1],[3],[3],[2],[2],[1],[1],[1],[1],[2],[4],[4]],\"hovertemplate\":\"segment=New_Customers<br>Recency_Score=%{x}<br>Frequency_Score=%{y}<br>Monetary_Score=%{customdata[0]}<extra></extra>\",\"legendgroup\":\"New_Customers\",\"marker\":{\"color\":\"#636efa\",\"size\":[5,3,2,5,3,3,3,1,2,3,1,1,2,2,5,1,5,4,2,2,5,4,4,5,3,4,5,4,3,4,3,3,3,1,2,2,2,2,5,5,3,2,2,2,5,5,4,3,1,4,4,1,4,1,2,2,3,1,1,4,4,5,1,3,2,1,2,1,5,1,5,3,5,2,1,3,2,2,1,1,2,4,3,2,1,2,3,3,1,4,2,1,1,3,2,4,1,3,1,3,2,2,1,3,3,4,1,1,2,2,1,2,1,3,3,1,5,3,3,2,1,3,4,3,1,2,2,1,3,2,2,1,4,3,2,5,1,2,2,1,1,2,5,2,2,1,4,3,1,1,4,2,2,1,1,3,2,1,2,3,2,1,4,2,4,2,1,2,3,3,2,5,2,3,5,1,2,4,3,4,3,3,2,1,2,3,4,3,3,2,4,2,3,2,2,1,3,3,1,1,4,1,2,1,1,1,3,1,1,1,1,1,2,4,2,1,2,2,3,1,2,3,2,2,1,5,1,3,3,4,3,2,1,1,4,1,2,1,3,2,2,1,3,4,5,4,1,1,5,1,3,3,1,2,3,2,1,3,1,4,3,5,2,4,1,1,2,2,1,3,2,2,1,2,3,2,2,2,2,4,2,1,1,3,5,2,1,2,5,1,3,2,3,3,3,3,5,2,2,2,1,1,3,2,3,3,1,3,1,3,3,2,2,1,1,1,1,2,4,4],\"sizemode\":\"area\",\"sizeref\":0.0125,\"symbol\":\"circle\"},\"mode\":\"markers\",\"name\":\"New_Customers\",\"showlegend\":true,\"x\":[5,5,5,5,5,5,5,5,5,5,5,5,5,5,5,5,5,5,5,5,5,5,5,5,5,5,5,5,5,5,5,5,5,5,5,5,5,5,5,5,5,5,5,5,5,5,5,5,5,5,5,5,5,5,5,5,5,5,5,5,5,5,5,5,5,5,5,5,5,5,5,5,5,5,5,5,5,5,5,5,5,5,5,5,5,5,5,5,5,5,5,5,5,5,5,5,5,5,5,5,5,5,5,5,5,5,5,5,5,5,5,5,5,5,5,5,5,5,5,5,5,5,5,5,5,5,5,5,5,5,5,5,5,5,5,5,5,5,5,5,5,5,5,5,5,5,5,5,5,5,5,5,5,5,5,5,5,5,5,5,5,5,5,5,5,5,5,5,5,5,5,5,5,5,5,5,5,5,5,5,5,5,5,5,5,5,5,5,5,5,5,5,5,5,5,5,5,5,5,5,5,5,5,5,5,5,5,5,5,5,5,5,5,5,5,5,5,5,5,5,5,5,5,5,5,5,5,5,5,5,5,5,5,5,5,5,5,5,5,5,5,5,5,5,5,5,5,5,5,5,5,5,5,5,5,5,5,5,5,5,5,5,5,5,5,5,5,5,5,5,5,5,5,5,5,5,5,5,5,5,5,5,5,5,5,5,5,5,5,5,5,5,5,5,5,5,5,5,5,5,5,5,5,5,5,5,5,5,5,5,5,5,5,5,5,5,5,5,5,5],\"xaxis\":\"x\",\"y\":[1,1,1,1,1,1,1,1,1,1,1,1,1,1,1,1,1,1,1,1,1,1,1,1,1,1,1,1,1,1,1,1,1,1,1,1,1,1,1,1,1,1,1,1,1,1,1,1,1,1,1,1,1,1,1,1,1,1,1,1,1,1,1,1,1,1,1,1,1,1,1,1,1,1,1,1,1,1,1,1,1,1,1,1,1,1,1,1,1,1,1,1,1,1,1,1,1,1,1,1,1,1,1,1,1,1,1,1,1,1,1,1,1,1,1,1,1,1,1,1,1,1,1,1,1,1,1,1,1,1,1,1,1,1,1,1,1,1,1,1,1,1,1,1,1,1,1,1,1,1,1,1,1,1,1,1,1,1,1,1,1,1,1,1,1,1,1,1,1,1,1,1,1,1,1,1,1,1,1,1,1,1,1,1,1,1,1,1,1,1,1,1,1,1,1,1,1,1,1,1,1,1,1,1,1,1,1,1,1,1,1,1,1,1,1,1,1,1,1,1,1,1,1,1,1,1,1,1,1,1,1,1,1,1,1,1,1,1,1,1,1,1,1,1,1,1,1,1,1,1,1,1,1,1,1,1,1,1,1,1,1,1,1,1,1,1,1,1,1,1,1,1,1,1,1,1,1,1,1,1,1,1,1,1,1,1,1,1,1,1,1,1,1,1,1,1,1,1,1,1,1,1,1,1,1,1,1,1,1,1,1,1,1,1,1,1,1,1,1,1],\"yaxis\":\"y\",\"type\":\"scattergl\"},{\"customdata\":[[5],[5],[5],[4],[5],[5],[5],[3],[4],[4],[4],[4],[5],[4],[3],[5],[5],[4],[5],[5],[5],[4],[4],[5],[3],[4],[2],[4],[2],[5],[5],[4],[5],[4],[5],[5],[4],[4],[2],[5],[5],[5],[4],[5],[2],[5],[5],[5],[3],[3],[5],[5],[5],[4],[4],[5],[5],[4],[5],[5],[5],[5],[5],[5],[4],[4],[2],[4],[5],[4],[4],[4],[2],[4],[5],[5],[5],[4],[2],[5],[1],[5],[5],[5],[5],[5],[5],[4],[5],[5],[4],[5],[5],[5],[5],[5],[3],[5],[4],[5],[5],[3],[4],[4],[5],[4],[4],[5],[5],[5],[5],[3],[5],[4],[5],[4],[4],[4],[2],[2],[5],[5],[4],[4],[5],[5],[4],[4],[5],[5],[5],[4],[4],[3],[5],[5],[5],[5],[4],[5],[5],[2],[5],[5],[1],[4],[5],[5],[4],[5],[5],[5],[4],[5],[3],[5],[5],[4],[4],[5],[4],[4],[2],[4],[5],[4],[4],[4],[5],[2],[4],[4],[5],[5],[4],[4],[5],[2],[5],[5],[5],[5],[4],[3],[5],[4],[4],[5],[4],[5],[5],[4],[5],[5],[5],[4],[3],[4],[4],[4],[5],[3],[5],[5],[5],[4],[3],[4],[3],[3],[4],[4],[3],[4],[5],[4],[5],[4],[3],[4],[4],[4],[3],[5],[4],[5],[3],[4],[3],[4],[4],[4],[5],[5],[5],[4],[4],[5],[4],[5],[5],[3],[4],[4],[5],[4],[4],[2],[3],[5],[5],[4],[3],[4],[3],[5],[4],[3],[5],[5],[3],[1],[4],[3],[5],[3],[3],[3],[5],[5],[4],[5],[5],[5],[5],[4],[5],[4],[5],[5],[5],[5],[5],[3],[3],[5],[5],[3],[5],[4],[3],[5],[5],[5],[3],[3],[5],[3],[5],[3],[4],[5],[4],[5],[5],[5],[4],[5],[4],[4],[5],[1],[5],[4],[5],[5],[4],[5],[5],[4],[4],[4],[2],[4],[5],[5],[5],[4],[3],[4],[5],[3],[3],[4],[5],[5],[4],[4],[2],[4],[5],[4],[5],[4],[5],[5],[5],[3],[2],[5],[4],[5],[5],[4],[4],[5],[4],[5],[4],[5],[3],[3],[4],[4],[5],[3],[5],[2],[4],[5],[5],[5],[5],[4],[2],[2],[4],[1],[2],[5],[4],[5],[3],[5],[5],[3],[3],[3],[4],[5],[4],[2],[3],[5],[5],[5],[2],[3],[2],[3],[3],[4],[1],[3],[5],[3],[4],[5],[3],[5],[3],[3],[4],[5],[3],[4],[4],[5],[5],[5],[4],[4],[5],[4],[5],[4],[5],[5],[5],[4],[4],[5],[5],[4],[4],[4],[4],[4],[5],[4],[4],[5],[4],[5],[4],[5],[3],[3],[5],[5],[4],[2],[4],[3],[4],[4],[5],[3],[4],[4],[3],[3],[5],[1],[3],[4],[2],[5],[4],[1],[4],[4],[4],[4],[4],[5],[5],[4],[4],[2],[2],[3],[3],[5],[3],[3],[4],[4],[3],[4],[4],[3],[3],[5],[4],[3],[3],[5],[2],[2],[3],[5],[4],[5],[4],[2],[5],[5],[3],[3],[4],[4],[4],[2],[5],[5],[4],[3],[4],[5],[5],[4],[5],[5],[5],[2],[4],[2],[4],[5],[4],[4],[4],[2],[1],[4],[4],[1],[5],[4],[4],[5],[4],[5],[3],[5],[5],[5],[5],[2],[3],[1],[4],[5],[4],[5],[4],[5],[5],[5],[3],[4],[5],[5],[5],[5],[5],[5],[5],[2],[3],[5],[5],[5],[4],[5],[4],[1],[4],[4],[3],[3],[2],[4],[3],[5],[5],[2],[3],[4],[4],[4],[5],[3],[3],[1],[5],[5],[4],[3],[4],[4],[4],[5],[5],[4],[4],[5],[5],[4],[5],[4],[4],[4],[5],[3],[4],[4],[3],[1],[3],[4],[3],[2],[3],[5],[3],[3],[5],[3],[3],[4],[4],[3],[3],[3],[4],[1],[2]],\"hovertemplate\":\"segment=Champions<br>Recency_Score=%{x}<br>Frequency_Score=%{y}<br>Monetary_Score=%{customdata[0]}<extra></extra>\",\"legendgroup\":\"Champions\",\"marker\":{\"color\":\"#EF553B\",\"size\":[5,5,5,4,5,5,5,3,4,4,4,4,5,4,3,5,5,4,5,5,5,4,4,5,3,4,2,4,2,5,5,4,5,4,5,5,4,4,2,5,5,5,4,5,2,5,5,5,3,3,5,5,5,4,4,5,5,4,5,5,5,5,5,5,4,4,2,4,5,4,4,4,2,4,5,5,5,4,2,5,1,5,5,5,5,5,5,4,5,5,4,5,5,5,5,5,3,5,4,5,5,3,4,4,5,4,4,5,5,5,5,3,5,4,5,4,4,4,2,2,5,5,4,4,5,5,4,4,5,5,5,4,4,3,5,5,5,5,4,5,5,2,5,5,1,4,5,5,4,5,5,5,4,5,3,5,5,4,4,5,4,4,2,4,5,4,4,4,5,2,4,4,5,5,4,4,5,2,5,5,5,5,4,3,5,4,4,5,4,5,5,4,5,5,5,4,3,4,4,4,5,3,5,5,5,4,3,4,3,3,4,4,3,4,5,4,5,4,3,4,4,4,3,5,4,5,3,4,3,4,4,4,5,5,5,4,4,5,4,5,5,3,4,4,5,4,4,2,3,5,5,4,3,4,3,5,4,3,5,5,3,1,4,3,5,3,3,3,5,5,4,5,5,5,5,4,5,4,5,5,5,5,5,3,3,5,5,3,5,4,3,5,5,5,3,3,5,3,5,3,4,5,4,5,5,5,4,5,4,4,5,1,5,4,5,5,4,5,5,4,4,4,2,4,5,5,5,4,3,4,5,3,3,4,5,5,4,4,2,4,5,4,5,4,5,5,5,3,2,5,4,5,5,4,4,5,4,5,4,5,3,3,4,4,5,3,5,2,4,5,5,5,5,4,2,2,4,1,2,5,4,5,3,5,5,3,3,3,4,5,4,2,3,5,5,5,2,3,2,3,3,4,1,3,5,3,4,5,3,5,3,3,4,5,3,4,4,5,5,5,4,4,5,4,5,4,5,5,5,4,4,5,5,4,4,4,4,4,5,4,4,5,4,5,4,5,3,3,5,5,4,2,4,3,4,4,5,3,4,4,3,3,5,1,3,4,2,5,4,1,4,4,4,4,4,5,5,4,4,2,2,3,3,5,3,3,4,4,3,4,4,3,3,5,4,3,3,5,2,2,3,5,4,5,4,2,5,5,3,3,4,4,4,2,5,5,4,3,4,5,5,4,5,5,5,2,4,2,4,5,4,4,4,2,1,4,4,1,5,4,4,5,4,5,3,5,5,5,5,2,3,1,4,5,4,5,4,5,5,5,3,4,5,5,5,5,5,5,5,2,3,5,5,5,4,5,4,1,4,4,3,3,2,4,3,5,5,2,3,4,4,4,5,3,3,1,5,5,4,3,4,4,4,5,5,4,4,5,5,4,5,4,4,4,5,3,4,4,3,1,3,4,3,2,3,5,3,3,5,3,3,4,4,3,3,3,4,1,2],\"sizemode\":\"area\",\"sizeref\":0.0125,\"symbol\":\"circle\"},\"mode\":\"markers\",\"name\":\"Champions\",\"showlegend\":true,\"x\":[5,5,5,5,5,5,5,5,5,5,5,5,5,5,5,5,5,5,5,5,5,5,5,5,5,5,5,5,5,5,5,5,5,5,5,5,5,5,5,5,5,5,5,5,5,5,5,5,5,5,5,5,5,5,5,5,5,5,5,5,5,5,5,5,5,5,5,5,5,5,5,5,5,5,5,5,5,5,5,5,5,5,5,5,5,5,5,5,5,5,5,5,5,5,5,5,5,5,5,5,5,5,5,5,5,5,5,5,5,5,5,5,5,5,5,5,5,5,5,5,5,5,5,5,5,5,5,5,5,5,5,5,5,5,5,5,5,5,5,5,5,5,5,5,5,5,5,5,5,5,5,5,5,5,5,5,5,5,5,5,5,5,5,5,5,5,5,5,5,5,5,5,5,5,5,5,5,5,5,5,5,5,5,5,5,5,5,5,5,5,5,5,5,5,5,5,5,5,5,5,5,5,5,5,5,5,5,5,5,5,5,5,5,5,5,5,5,5,5,5,5,5,5,5,5,5,5,5,5,5,5,5,5,5,5,5,5,5,5,5,5,5,5,5,5,5,5,5,5,5,5,5,5,5,5,5,5,5,5,5,5,5,5,5,5,5,5,5,5,5,5,5,5,5,5,5,5,5,5,5,5,5,5,5,5,5,5,5,5,5,5,5,5,5,5,5,5,5,5,5,5,5,5,5,5,5,5,5,5,5,5,5,5,5,5,5,5,5,5,5,5,5,5,5,5,5,5,5,5,5,5,5,5,5,5,5,5,5,5,5,5,5,5,5,5,5,5,5,5,5,5,5,5,5,5,5,5,5,5,5,5,5,5,5,5,5,5,5,5,5,5,5,5,5,5,5,5,5,5,5,5,5,5,5,5,5,5,5,5,5,5,5,5,5,5,5,5,5,5,5,5,5,5,5,5,5,5,5,5,5,5,5,5,5,5,5,5,5,5,5,5,5,5,5,5,5,5,5,5,5,5,5,5,5,5,5,5,5,5,5,5,5,5,5,5,5,5,5,5,5,5,5,5,5,5,5,5,5,5,5,5,5,5,5,5,5,5,5,5,5,5,5,5,5,5,5,5,5,5,5,5,5,5,5,5,5,5,5,5,5,5,5,5,5,5,5,5,5,5,5,5,5,5,5,5,5,5,5,5,5,5,5,5,5,5,5,5,5,5,5,5,5,5,5,5,5,5,5,5,5,5,5,5,5,5,5,5,5,5,5,5,5,5,5,5,5,5,5,5,5,5,5,5,5,5,5,5,5,5,5,5,5,5,5,5,5,5,5,5,5,5,5,5,5,5,5,5,5,5,5,5,5,5,5,5,5,5,5,5,5,5,5,5,5,5,5,5,5,5,5,5,5,5,5,5,5,5,5,5,5,5,5,5,5,5,5,5,5,5,5,5,5,5,5,5,5,5,5,5,5,5,5,5,5,5,5,5,5,5],\"xaxis\":\"x\",\"y\":[4,4,4,4,4,4,4,4,4,4,4,4,4,4,4,5,4,4,4,5,4,4,4,4,4,4,4,4,4,4,4,4,4,4,4,4,4,4,4,5,4,5,4,4,4,5,5,4,4,4,4,5,5,4,4,4,4,4,4,5,4,4,5,4,4,5,4,4,5,4,5,4,4,4,5,5,4,4,4,4,4,5,5,5,5,5,4,5,5,5,5,5,5,5,5,5,5,5,4,5,5,5,5,4,5,4,4,4,4,4,5,4,4,5,5,5,4,4,4,4,5,4,5,4,5,5,4,5,5,5,5,5,4,4,4,5,4,5,5,4,5,4,4,5,4,5,5,4,4,5,5,5,4,5,5,5,5,5,4,5,4,4,4,4,4,5,4,4,5,4,4,4,5,5,4,5,5,4,5,5,5,5,4,5,5,5,5,4,4,5,5,5,5,5,5,5,5,4,4,5,4,4,5,5,4,5,4,4,4,5,4,4,4,5,5,4,4,4,5,4,4,4,4,4,4,5,4,5,4,5,5,5,5,4,5,4,5,5,4,5,5,4,4,4,5,4,5,4,5,5,5,4,4,5,4,4,4,4,5,5,5,4,5,4,5,4,5,5,5,5,4,4,5,5,5,5,4,5,4,4,5,5,5,5,5,5,5,4,4,5,5,5,5,5,4,4,5,4,5,4,5,5,5,5,5,5,5,5,4,5,5,4,5,4,4,5,5,5,5,5,4,5,4,4,4,5,5,5,5,4,5,5,4,4,5,5,4,4,4,4,5,5,5,4,4,5,4,4,4,5,5,4,5,5,5,4,5,5,4,5,5,4,4,5,5,4,5,4,5,5,5,5,5,4,4,4,4,4,4,5,4,5,4,5,5,4,4,4,5,5,5,5,4,4,5,5,4,4,4,5,4,4,4,4,5,4,5,4,4,5,4,4,4,5,5,4,4,5,4,5,5,5,5,5,5,4,5,5,5,4,4,5,4,4,4,5,5,5,5,4,5,4,5,5,5,5,4,4,5,4,5,4,5,4,5,4,5,5,5,5,5,4,4,4,4,4,4,5,4,4,4,5,5,4,4,4,5,4,4,4,4,4,4,5,5,4,5,5,5,5,4,4,5,5,5,5,5,5,4,5,4,5,4,5,4,4,5,4,5,4,4,4,5,4,5,5,5,4,5,5,5,5,5,5,5,4,4,5,4,5,5,5,4,4,4,4,5,4,5,5,4,5,4,4,5,5,5,5,5,4,4,4,5,4,4,4,4,5,5,5,5,5,5,5,5,5,5,5,5,5,4,5,5,5,4,5,5,4,4,5,4,4,5,5,4,5,5,4,4,5,5,5,5,4,4,4,5,5,5,4,5,5,4,5,4,4,4,5,5,5,5,4,5,5,4,4,4,4,4,4,4,4,4,4,5,5,4,4,5,4,4,5,4,4,4,4,4,4,4],\"yaxis\":\"y\",\"type\":\"scattergl\"},{\"customdata\":[[3],[3],[4],[3],[4],[3],[3],[5],[2],[1],[1],[1],[1],[1],[1],[3],[2],[1],[1],[5],[1],[2],[1],[2],[3],[1],[1],[5],[4],[1],[2],[1],[1],[1],[4],[1],[2],[1],[1],[1],[1],[3],[1],[1],[2],[2],[1],[2],[4],[3],[2],[5],[3],[2],[2],[2],[2],[5],[3],[3],[1],[3],[1],[2],[1],[3],[2],[1],[2],[2],[2],[4],[2],[3],[2],[3],[3],[1],[2],[3],[1],[3],[3],[2],[3],[2],[2],[1],[1],[2],[2],[3],[4],[3],[2],[1],[1],[1],[4],[1],[1],[4],[3],[2],[3],[1],[1],[2],[1],[1],[5],[2],[1],[2],[2],[3],[5],[1],[3],[1],[1],[1],[2],[1],[2],[2],[4],[1],[1],[2],[5],[2],[4],[1],[1],[3],[1],[1],[2],[2],[3],[3],[3],[1],[3],[4],[5],[1],[1],[3],[1],[5],[1],[5],[1],[3],[4],[3],[2],[3],[1],[3],[4],[3],[4],[1],[3],[4],[3],[3],[2],[1],[1],[2],[4],[1],[5],[4],[4],[1],[2],[1],[5],[2],[2],[2],[2],[1],[2],[2],[3],[3],[2],[1],[2],[5],[2],[3],[4],[1],[1],[2],[1],[4],[2],[3],[3],[1],[3],[1],[2],[2],[5],[5],[1],[2],[1],[3],[3],[1],[4],[1],[1],[2],[2],[1],[2],[3],[2],[1],[1],[3],[2],[3],[2],[2],[2],[1],[5],[3],[1],[1],[4],[3],[2],[1],[2],[1],[3],[1],[1],[4],[3],[3],[3],[3],[2],[3],[2],[2],[3],[1],[2],[2],[3],[1],[2],[1],[3],[2],[3],[1],[2],[1],[1],[1],[1],[2],[3],[1],[1],[1],[2],[3],[4],[1],[1],[3],[4],[2],[2],[1],[2],[4],[5],[1],[2],[3],[3],[3],[1],[1],[2],[4],[2],[3],[1],[1],[3],[3],[2],[1],[3],[3],[1],[2],[2],[4],[3],[2],[1],[1],[3],[2],[2],[3],[4],[2],[3],[1],[1],[1],[3],[1],[4],[5],[2],[5],[1],[3],[1],[3],[4],[2],[2],[4],[1],[1],[3],[1],[1],[1],[1],[3],[2],[1],[2],[1],[2],[2],[3],[2],[1],[1],[2],[1],[1],[4],[4],[1],[3],[2],[3],[1],[3],[4],[5],[1],[4],[2],[1],[1],[3],[1],[1],[4],[3],[2],[2],[1],[1],[1],[2],[4],[1],[2],[4],[1],[2],[1],[3],[1],[4],[2],[4],[2],[2],[4],[1],[3],[2],[5],[3],[1],[1],[5],[2],[2],[3],[2],[3],[2],[1],[3],[3],[3],[1],[5],[1],[1],[2],[4],[2],[1],[1],[1],[2],[1],[2],[2],[2],[2],[2],[4],[3],[1],[1],[1],[5],[3],[3],[4],[1],[3],[3],[1],[2],[2],[2],[2],[2],[4],[1],[2],[1],[4],[1],[2],[3],[1],[1],[2],[3],[3],[3],[3],[2],[2],[1],[2],[2],[3],[1],[3],[3],[2],[1],[1],[3],[2],[4],[4],[4],[4],[2],[2],[4],[3],[1],[2],[5],[1],[3],[2],[1],[1],[1],[1],[3],[1],[1],[1],[3],[3],[1],[1],[3],[1],[3],[3],[1],[4],[2],[4],[1],[2],[2],[4],[3],[3],[2],[1],[3],[1],[3],[4],[2],[2],[2],[3],[2],[1],[3],[4],[3],[4],[1],[2],[4],[3],[3],[2],[2],[4],[1],[2],[4],[3],[5],[3],[2],[2],[3],[5],[1],[1],[1],[2],[1],[1],[2],[2],[1],[1],[3],[1],[2],[1],[1],[1],[2],[1],[4],[2],[2],[1],[2],[2],[3],[2],[3],[2],[3],[1],[1],[2],[2],[1],[2],[2],[5],[2],[1],[2],[1],[3],[2],[2],[1],[2],[2],[1],[1],[1],[1],[1],[3],[1],[1],[1],[2],[2],[3],[5],[3],[3],[1],[2],[2],[2],[1],[4],[3],[1],[2],[4],[2],[2]],\"hovertemplate\":\"segment=Potential_to_be_Loyal<br>Recency_Score=%{x}<br>Frequency_Score=%{y}<br>Monetary_Score=%{customdata[0]}<extra></extra>\",\"legendgroup\":\"Potential_to_be_Loyal\",\"marker\":{\"color\":\"#00cc96\",\"size\":[3,3,4,3,4,3,3,5,2,1,1,1,1,1,1,3,2,1,1,5,1,2,1,2,3,1,1,5,4,1,2,1,1,1,4,1,2,1,1,1,1,3,1,1,2,2,1,2,4,3,2,5,3,2,2,2,2,5,3,3,1,3,1,2,1,3,2,1,2,2,2,4,2,3,2,3,3,1,2,3,1,3,3,2,3,2,2,1,1,2,2,3,4,3,2,1,1,1,4,1,1,4,3,2,3,1,1,2,1,1,5,2,1,2,2,3,5,1,3,1,1,1,2,1,2,2,4,1,1,2,5,2,4,1,1,3,1,1,2,2,3,3,3,1,3,4,5,1,1,3,1,5,1,5,1,3,4,3,2,3,1,3,4,3,4,1,3,4,3,3,2,1,1,2,4,1,5,4,4,1,2,1,5,2,2,2,2,1,2,2,3,3,2,1,2,5,2,3,4,1,1,2,1,4,2,3,3,1,3,1,2,2,5,5,1,2,1,3,3,1,4,1,1,2,2,1,2,3,2,1,1,3,2,3,2,2,2,1,5,3,1,1,4,3,2,1,2,1,3,1,1,4,3,3,3,3,2,3,2,2,3,1,2,2,3,1,2,1,3,2,3,1,2,1,1,1,1,2,3,1,1,1,2,3,4,1,1,3,4,2,2,1,2,4,5,1,2,3,3,3,1,1,2,4,2,3,1,1,3,3,2,1,3,3,1,2,2,4,3,2,1,1,3,2,2,3,4,2,3,1,1,1,3,1,4,5,2,5,1,3,1,3,4,2,2,4,1,1,3,1,1,1,1,3,2,1,2,1,2,2,3,2,1,1,2,1,1,4,4,1,3,2,3,1,3,4,5,1,4,2,1,1,3,1,1,4,3,2,2,1,1,1,2,4,1,2,4,1,2,1,3,1,4,2,4,2,2,4,1,3,2,5,3,1,1,5,2,2,3,2,3,2,1,3,3,3,1,5,1,1,2,4,2,1,1,1,2,1,2,2,2,2,2,4,3,1,1,1,5,3,3,4,1,3,3,1,2,2,2,2,2,4,1,2,1,4,1,2,3,1,1,2,3,3,3,3,2,2,1,2,2,3,1,3,3,2,1,1,3,2,4,4,4,4,2,2,4,3,1,2,5,1,3,2,1,1,1,1,3,1,1,1,3,3,1,1,3,1,3,3,1,4,2,4,1,2,2,4,3,3,2,1,3,1,3,4,2,2,2,3,2,1,3,4,3,4,1,2,4,3,3,2,2,4,1,2,4,3,5,3,2,2,3,5,1,1,1,2,1,1,2,2,1,1,3,1,2,1,1,1,2,1,4,2,2,1,2,2,3,2,3,2,3,1,1,2,2,1,2,2,5,2,1,2,1,3,2,2,1,2,2,1,1,1,1,1,3,1,1,1,2,2,3,5,3,3,1,2,2,2,1,4,3,1,2,4,2,2],\"sizemode\":\"area\",\"sizeref\":0.0125,\"symbol\":\"circle\"},\"mode\":\"markers\",\"name\":\"Potential_to_be_Loyal\",\"showlegend\":true,\"x\":[5,5,5,5,5,5,5,5,5,5,5,5,5,5,5,5,5,5,5,5,5,5,5,5,5,5,5,5,5,5,5,5,5,5,5,5,5,5,5,5,5,5,5,5,5,5,5,5,5,5,5,5,5,5,5,5,5,5,5,5,5,5,5,5,5,5,5,5,5,5,5,5,5,5,5,5,5,5,5,5,5,5,5,5,5,5,5,5,5,5,5,5,5,5,5,5,5,5,5,5,5,5,5,5,5,5,5,5,5,5,5,5,5,5,5,5,5,5,5,5,5,5,5,5,5,5,5,5,5,5,5,5,5,5,5,5,5,5,5,5,5,5,5,5,5,5,5,5,5,5,5,5,5,5,5,5,5,5,5,5,5,5,5,5,5,5,5,5,5,5,5,5,5,5,5,5,5,5,5,5,5,5,5,5,5,5,5,5,5,5,5,5,5,5,5,5,5,5,5,5,5,5,5,5,5,5,5,5,5,5,5,5,5,5,5,5,5,5,5,5,5,5,5,5,5,5,5,5,5,5,5,5,5,5,5,5,5,5,5,5,5,5,5,5,5,5,5,5,5,5,5,5,5,5,5,5,5,5,5,5,5,5,5,5,5,5,5,5,5,5,5,5,5,5,5,5,5,5,5,5,5,5,5,5,5,5,5,5,5,5,5,5,5,5,5,5,5,5,5,5,5,5,5,5,5,5,5,5,5,5,5,5,5,5,5,5,5,5,5,5,5,5,5,5,5,5,5,5,5,5,5,5,5,5,5,5,5,5,5,5,5,5,5,5,5,5,5,5,5,5,5,5,5,5,5,5,5,5,5,5,5,5,5,5,5,5,5,5,5,5,5,5,5,5,5,5,5,5,5,5,5,5,5,5,5,5,5,5,5,5,5,5,5,5,5,5,5,5,5,5,5,5,5,5,5,5,5,5,5,5,5,5,5,5,5,5,5,5,5,5,5,5,5,5,5,5,5,5,5,5,5,5,5,5,5,5,5,5,5,5,5,5,5,5,5,5,5,5,5,5,5,5,5,5,5,5,5,5,5,5,5,5,5,5,5,5,5,5,5,5,5,5,5,5,5,5,5,5,5,5,5,5,5,5,5,5,5,5,5,5,5,5,5,5,5,5,5,5,5,5,5,5,5,5,5,5,5,5,5,5,5,5,5,5,5,5,5,5,5,5,5,5,5,5,5,5,5,5,5,5,5,5,5,5,5,5,5,5,5,5,5,5,5,5,5,5,5,5,5,5,5,5,5,5,5,5,5,5,5,5,5,5,5,5,5,5,5,5,5,5,5,5,5,5,5,5,5,5,5,5,5,5,5,5,5,5,5,5,5,5,5,5,5,5,5,5,5,5,5,5,5,5,5,5,5,5,5,5,5,5,5,5,5,5,5,5,5,5,5,5,5,5,5,5,5,5,5,5,5,5,5,5,5,5,5,5,5,5],\"xaxis\":\"x\",\"y\":[2,2,2,2,2,2,2,2,2,2,2,2,2,2,2,2,2,2,2,2,2,2,2,2,2,2,2,2,2,2,2,2,2,2,2,2,2,2,2,2,2,2,2,2,2,2,2,2,2,2,2,2,2,2,2,2,2,2,2,2,2,2,2,2,2,2,2,2,2,2,2,2,2,2,2,2,2,2,2,2,2,2,2,2,2,2,2,2,2,2,2,2,2,2,2,2,2,2,2,2,2,2,2,2,2,2,2,2,2,2,2,2,2,2,2,2,2,2,2,2,2,2,2,2,2,2,2,2,2,2,2,2,2,2,2,2,2,2,2,2,2,2,2,2,2,2,2,2,2,2,2,2,2,2,2,2,2,2,2,2,2,2,2,2,2,2,2,2,2,2,2,2,2,2,2,2,2,2,2,2,2,2,2,2,2,2,2,2,2,2,2,2,2,2,2,2,2,2,2,2,2,2,2,2,2,2,2,2,2,2,2,2,2,2,2,2,2,2,2,2,2,2,2,2,2,2,2,2,2,2,2,2,2,2,2,2,2,2,2,2,2,2,2,2,2,2,2,2,2,2,2,2,2,2,2,2,2,2,2,2,2,2,2,2,2,2,2,2,2,2,2,2,2,2,2,2,2,2,2,2,2,2,2,2,2,2,2,2,2,2,2,2,2,2,2,2,2,2,2,2,2,2,2,2,2,2,2,2,2,2,2,2,2,2,2,2,2,2,2,3,3,3,3,3,3,3,3,3,3,3,3,3,3,3,3,3,3,3,3,3,3,3,3,3,3,3,3,3,3,3,3,3,3,3,3,3,3,3,3,3,3,3,3,3,3,3,3,3,3,3,3,3,3,3,3,3,3,3,3,3,3,3,3,3,3,3,3,3,3,3,3,3,3,3,3,3,3,3,3,3,3,3,3,3,3,3,3,3,3,3,3,3,3,3,3,3,3,3,3,3,3,3,3,3,3,3,3,3,3,3,3,3,3,3,3,3,3,3,3,3,3,3,3,3,3,3,3,3,3,3,3,3,3,3,3,3,3,3,3,3,3,3,3,3,3,3,3,3,3,3,3,3,3,3,3,3,3,3,3,3,3,3,3,3,3,3,3,3,3,3,3,3,3,3,3,3,3,3,3,3,3,3,3,3,3,3,3,3,3,3,3,3,3,3,3,3,3,3,3,3,3,3,3,3,3,3,3,3,3,3,3,3,3,3,3,3,3,3,3,3,3,3,3,3,3,3,3,3,3,3,3,3,3,3,3,3,3,3,3,3,3,3,3,3,3,3,3,3,3,3,3,3,3,3,3,3,3,3,3,3,3,3,3,3,3,3,3,3,3,3,3,3,3,3,3,3,3,3,3,3,3,3,3,3,3,3,3,3,3,3,3,3,3,3,3,3,3,3,3,3,3,3,3,3,3,3,3,3,3,3,3,3,3,3,3,3,3,3],\"yaxis\":\"y\",\"type\":\"scattergl\"}],                        {\"legend\":{\"itemsizing\":\"constant\",\"title\":{\"text\":\"segment\"},\"tracegroupgap\":0},\"margin\":{\"t\":60},\"template\":{\"data\":{\"barpolar\":[{\"marker\":{\"line\":{\"color\":\"#E5ECF6\",\"width\":0.5},\"pattern\":{\"fillmode\":\"overlay\",\"size\":10,\"solidity\":0.2}},\"type\":\"barpolar\"}],\"bar\":[{\"error_x\":{\"color\":\"#2a3f5f\"},\"error_y\":{\"color\":\"#2a3f5f\"},\"marker\":{\"line\":{\"color\":\"#E5ECF6\",\"width\":0.5},\"pattern\":{\"fillmode\":\"overlay\",\"size\":10,\"solidity\":0.2}},\"type\":\"bar\"}],\"carpet\":[{\"aaxis\":{\"endlinecolor\":\"#2a3f5f\",\"gridcolor\":\"white\",\"linecolor\":\"white\",\"minorgridcolor\":\"white\",\"startlinecolor\":\"#2a3f5f\"},\"baxis\":{\"endlinecolor\":\"#2a3f5f\",\"gridcolor\":\"white\",\"linecolor\":\"white\",\"minorgridcolor\":\"white\",\"startlinecolor\":\"#2a3f5f\"},\"type\":\"carpet\"}],\"choropleth\":[{\"colorbar\":{\"outlinewidth\":0,\"ticks\":\"\"},\"type\":\"choropleth\"}],\"contourcarpet\":[{\"colorbar\":{\"outlinewidth\":0,\"ticks\":\"\"},\"type\":\"contourcarpet\"}],\"contour\":[{\"colorbar\":{\"outlinewidth\":0,\"ticks\":\"\"},\"colorscale\":[[0.0,\"#0d0887\"],[0.1111111111111111,\"#46039f\"],[0.2222222222222222,\"#7201a8\"],[0.3333333333333333,\"#9c179e\"],[0.4444444444444444,\"#bd3786\"],[0.5555555555555556,\"#d8576b\"],[0.6666666666666666,\"#ed7953\"],[0.7777777777777778,\"#fb9f3a\"],[0.8888888888888888,\"#fdca26\"],[1.0,\"#f0f921\"]],\"type\":\"contour\"}],\"heatmapgl\":[{\"colorbar\":{\"outlinewidth\":0,\"ticks\":\"\"},\"colorscale\":[[0.0,\"#0d0887\"],[0.1111111111111111,\"#46039f\"],[0.2222222222222222,\"#7201a8\"],[0.3333333333333333,\"#9c179e\"],[0.4444444444444444,\"#bd3786\"],[0.5555555555555556,\"#d8576b\"],[0.6666666666666666,\"#ed7953\"],[0.7777777777777778,\"#fb9f3a\"],[0.8888888888888888,\"#fdca26\"],[1.0,\"#f0f921\"]],\"type\":\"heatmapgl\"}],\"heatmap\":[{\"colorbar\":{\"outlinewidth\":0,\"ticks\":\"\"},\"colorscale\":[[0.0,\"#0d0887\"],[0.1111111111111111,\"#46039f\"],[0.2222222222222222,\"#7201a8\"],[0.3333333333333333,\"#9c179e\"],[0.4444444444444444,\"#bd3786\"],[0.5555555555555556,\"#d8576b\"],[0.6666666666666666,\"#ed7953\"],[0.7777777777777778,\"#fb9f3a\"],[0.8888888888888888,\"#fdca26\"],[1.0,\"#f0f921\"]],\"type\":\"heatmap\"}],\"histogram2dcontour\":[{\"colorbar\":{\"outlinewidth\":0,\"ticks\":\"\"},\"colorscale\":[[0.0,\"#0d0887\"],[0.1111111111111111,\"#46039f\"],[0.2222222222222222,\"#7201a8\"],[0.3333333333333333,\"#9c179e\"],[0.4444444444444444,\"#bd3786\"],[0.5555555555555556,\"#d8576b\"],[0.6666666666666666,\"#ed7953\"],[0.7777777777777778,\"#fb9f3a\"],[0.8888888888888888,\"#fdca26\"],[1.0,\"#f0f921\"]],\"type\":\"histogram2dcontour\"}],\"histogram2d\":[{\"colorbar\":{\"outlinewidth\":0,\"ticks\":\"\"},\"colorscale\":[[0.0,\"#0d0887\"],[0.1111111111111111,\"#46039f\"],[0.2222222222222222,\"#7201a8\"],[0.3333333333333333,\"#9c179e\"],[0.4444444444444444,\"#bd3786\"],[0.5555555555555556,\"#d8576b\"],[0.6666666666666666,\"#ed7953\"],[0.7777777777777778,\"#fb9f3a\"],[0.8888888888888888,\"#fdca26\"],[1.0,\"#f0f921\"]],\"type\":\"histogram2d\"}],\"histogram\":[{\"marker\":{\"pattern\":{\"fillmode\":\"overlay\",\"size\":10,\"solidity\":0.2}},\"type\":\"histogram\"}],\"mesh3d\":[{\"colorbar\":{\"outlinewidth\":0,\"ticks\":\"\"},\"type\":\"mesh3d\"}],\"parcoords\":[{\"line\":{\"colorbar\":{\"outlinewidth\":0,\"ticks\":\"\"}},\"type\":\"parcoords\"}],\"pie\":[{\"automargin\":true,\"type\":\"pie\"}],\"scatter3d\":[{\"line\":{\"colorbar\":{\"outlinewidth\":0,\"ticks\":\"\"}},\"marker\":{\"colorbar\":{\"outlinewidth\":0,\"ticks\":\"\"}},\"type\":\"scatter3d\"}],\"scattercarpet\":[{\"marker\":{\"colorbar\":{\"outlinewidth\":0,\"ticks\":\"\"}},\"type\":\"scattercarpet\"}],\"scattergeo\":[{\"marker\":{\"colorbar\":{\"outlinewidth\":0,\"ticks\":\"\"}},\"type\":\"scattergeo\"}],\"scattergl\":[{\"marker\":{\"colorbar\":{\"outlinewidth\":0,\"ticks\":\"\"}},\"type\":\"scattergl\"}],\"scattermapbox\":[{\"marker\":{\"colorbar\":{\"outlinewidth\":0,\"ticks\":\"\"}},\"type\":\"scattermapbox\"}],\"scatterpolargl\":[{\"marker\":{\"colorbar\":{\"outlinewidth\":0,\"ticks\":\"\"}},\"type\":\"scatterpolargl\"}],\"scatterpolar\":[{\"marker\":{\"colorbar\":{\"outlinewidth\":0,\"ticks\":\"\"}},\"type\":\"scatterpolar\"}],\"scatter\":[{\"fillpattern\":{\"fillmode\":\"overlay\",\"size\":10,\"solidity\":0.2},\"type\":\"scatter\"}],\"scatterternary\":[{\"marker\":{\"colorbar\":{\"outlinewidth\":0,\"ticks\":\"\"}},\"type\":\"scatterternary\"}],\"surface\":[{\"colorbar\":{\"outlinewidth\":0,\"ticks\":\"\"},\"colorscale\":[[0.0,\"#0d0887\"],[0.1111111111111111,\"#46039f\"],[0.2222222222222222,\"#7201a8\"],[0.3333333333333333,\"#9c179e\"],[0.4444444444444444,\"#bd3786\"],[0.5555555555555556,\"#d8576b\"],[0.6666666666666666,\"#ed7953\"],[0.7777777777777778,\"#fb9f3a\"],[0.8888888888888888,\"#fdca26\"],[1.0,\"#f0f921\"]],\"type\":\"surface\"}],\"table\":[{\"cells\":{\"fill\":{\"color\":\"#EBF0F8\"},\"line\":{\"color\":\"white\"}},\"header\":{\"fill\":{\"color\":\"#C8D4E3\"},\"line\":{\"color\":\"white\"}},\"type\":\"table\"}]},\"layout\":{\"annotationdefaults\":{\"arrowcolor\":\"#2a3f5f\",\"arrowhead\":0,\"arrowwidth\":1},\"autotypenumbers\":\"strict\",\"coloraxis\":{\"colorbar\":{\"outlinewidth\":0,\"ticks\":\"\"}},\"colorscale\":{\"diverging\":[[0,\"#8e0152\"],[0.1,\"#c51b7d\"],[0.2,\"#de77ae\"],[0.3,\"#f1b6da\"],[0.4,\"#fde0ef\"],[0.5,\"#f7f7f7\"],[0.6,\"#e6f5d0\"],[0.7,\"#b8e186\"],[0.8,\"#7fbc41\"],[0.9,\"#4d9221\"],[1,\"#276419\"]],\"sequential\":[[0.0,\"#0d0887\"],[0.1111111111111111,\"#46039f\"],[0.2222222222222222,\"#7201a8\"],[0.3333333333333333,\"#9c179e\"],[0.4444444444444444,\"#bd3786\"],[0.5555555555555556,\"#d8576b\"],[0.6666666666666666,\"#ed7953\"],[0.7777777777777778,\"#fb9f3a\"],[0.8888888888888888,\"#fdca26\"],[1.0,\"#f0f921\"]],\"sequentialminus\":[[0.0,\"#0d0887\"],[0.1111111111111111,\"#46039f\"],[0.2222222222222222,\"#7201a8\"],[0.3333333333333333,\"#9c179e\"],[0.4444444444444444,\"#bd3786\"],[0.5555555555555556,\"#d8576b\"],[0.6666666666666666,\"#ed7953\"],[0.7777777777777778,\"#fb9f3a\"],[0.8888888888888888,\"#fdca26\"],[1.0,\"#f0f921\"]]},\"colorway\":[\"#636efa\",\"#EF553B\",\"#00cc96\",\"#ab63fa\",\"#FFA15A\",\"#19d3f3\",\"#FF6692\",\"#B6E880\",\"#FF97FF\",\"#FECB52\"],\"font\":{\"color\":\"#2a3f5f\"},\"geo\":{\"bgcolor\":\"white\",\"lakecolor\":\"white\",\"landcolor\":\"#E5ECF6\",\"showlakes\":true,\"showland\":true,\"subunitcolor\":\"white\"},\"hoverlabel\":{\"align\":\"left\"},\"hovermode\":\"closest\",\"mapbox\":{\"style\":\"light\"},\"paper_bgcolor\":\"white\",\"plot_bgcolor\":\"#E5ECF6\",\"polar\":{\"angularaxis\":{\"gridcolor\":\"white\",\"linecolor\":\"white\",\"ticks\":\"\"},\"bgcolor\":\"#E5ECF6\",\"radialaxis\":{\"gridcolor\":\"white\",\"linecolor\":\"white\",\"ticks\":\"\"}},\"scene\":{\"xaxis\":{\"backgroundcolor\":\"#E5ECF6\",\"gridcolor\":\"white\",\"gridwidth\":2,\"linecolor\":\"white\",\"showbackground\":true,\"ticks\":\"\",\"zerolinecolor\":\"white\"},\"yaxis\":{\"backgroundcolor\":\"#E5ECF6\",\"gridcolor\":\"white\",\"gridwidth\":2,\"linecolor\":\"white\",\"showbackground\":true,\"ticks\":\"\",\"zerolinecolor\":\"white\"},\"zaxis\":{\"backgroundcolor\":\"#E5ECF6\",\"gridcolor\":\"white\",\"gridwidth\":2,\"linecolor\":\"white\",\"showbackground\":true,\"ticks\":\"\",\"zerolinecolor\":\"white\"}},\"shapedefaults\":{\"line\":{\"color\":\"#2a3f5f\"}},\"ternary\":{\"aaxis\":{\"gridcolor\":\"white\",\"linecolor\":\"white\",\"ticks\":\"\"},\"baxis\":{\"gridcolor\":\"white\",\"linecolor\":\"white\",\"ticks\":\"\"},\"bgcolor\":\"#E5ECF6\",\"caxis\":{\"gridcolor\":\"white\",\"linecolor\":\"white\",\"ticks\":\"\"}},\"title\":{\"x\":0.05},\"xaxis\":{\"automargin\":true,\"gridcolor\":\"white\",\"linecolor\":\"white\",\"ticks\":\"\",\"title\":{\"standoff\":15},\"zerolinecolor\":\"white\",\"zerolinewidth\":2},\"yaxis\":{\"automargin\":true,\"gridcolor\":\"white\",\"linecolor\":\"white\",\"ticks\":\"\",\"title\":{\"standoff\":15},\"zerolinecolor\":\"white\",\"zerolinewidth\":2}}},\"xaxis\":{\"anchor\":\"y\",\"domain\":[0.0,1.0],\"title\":{\"text\":\"Recency_Score\"}},\"yaxis\":{\"anchor\":\"x\",\"domain\":[0.0,1.0],\"title\":{\"text\":\"Frequency_Score\"}}},                        {\"responsive\": true}                    ).then(function(){\n",
       "                            \n",
       "var gd = document.getElementById('e2a48e0a-d5e3-465b-9884-d7c808125e00');\n",
       "var x = new MutationObserver(function (mutations, observer) {{\n",
       "        var display = window.getComputedStyle(gd).display;\n",
       "        if (!display || display === 'none') {{\n",
       "            console.log([gd, 'removed!']);\n",
       "            Plotly.purge(gd);\n",
       "            observer.disconnect();\n",
       "        }}\n",
       "}});\n",
       "\n",
       "// Listen for the removal of the full notebook cells\n",
       "var notebookContainer = gd.closest('#notebook-container');\n",
       "if (notebookContainer) {{\n",
       "    x.observe(notebookContainer, {childList: true});\n",
       "}}\n",
       "\n",
       "// Listen for the clearing of the current output cell\n",
       "var outputEl = gd.closest('.output');\n",
       "if (outputEl) {{\n",
       "    x.observe(outputEl, {childList: true});\n",
       "}}\n",
       "\n",
       "                        })                };                });            </script>        </div>"
      ]
     },
     "metadata": {},
     "output_type": "display_data"
    },
    {
     "name": "stderr",
     "output_type": "stream",
     "text": [
      "/Users/sudhishsubramaniam/anaconda3/lib/python3.11/site-packages/seaborn/axisgrid.py:118: UserWarning:\n",
      "\n",
      "The figure layout has changed to tight\n",
      "\n"
     ]
    },
    {
     "data": {
      "text/plain": [
       "<seaborn.axisgrid.PairGrid at 0x169ff3550>"
      ]
     },
     "execution_count": 263,
     "metadata": {},
     "output_type": "execute_result"
    },
    {
     "data": {
      "image/png": "[encoded data removed]",
      "text/plain": [
       "<Figure size 950.25x750 with 12 Axes>"
      ]
     },
     "metadata": {},
     "output_type": "display_data"
    }
   ],
   "source": [
    "import plotly.express as px\n",
    "from plotly.offline import init_notebook_mode, iplot\n",
    "import seaborn as sns\n",
    "\n",
    "init_notebook_mode(connected=True)\n",
    "\n",
    "# Now you can create your plots\n",
    "fig = px.scatter(RFMv2, x=\"Recency_Score\", y=\"Frequency_Score\", color=\"segment\", size='Monetary_Score', hover_data=['Monetary_Score'])\n",
    "iplot(fig)\n",
    "\n",
    "sns.pairplot(RFM, hue=\"segment\")"
   ]
  },
  {
   "cell_type": "markdown",
   "id": "6a848b54",
   "metadata": {},
   "source": [
    "The exploratory data analysis (EDA) provides the following insights:\n",
    "\n",
    "1. **Descriptive Statistics**:\n",
    "   - The dataset contains 7,609 entries after preprocessing.\n",
    "   - Quantity: Ranges from 1 to 2880 with an average of around 11 per transaction.\n",
    "   - Price: Varies from 0 to £295, with an average price of approximately £3.10.\n",
    "\n",
    "2. **Unique Counts**:\n",
    "   - There are 303 unique customers.\n",
    "   - The dataset contains 401 unique invoices.\n",
    "\n",
    "3. **Total Figures**:\n",
    "   - Total products sold: 82,870 items.\n",
    "   - Total revenue generated: £148,206.83.\n",
    "\n",
    "4. **Top Products by Quantity Sold**:\n",
    "   - The top-selling product is 'WORLD WAR 2 GLIDERS ASSTD DESIGNS' with 3,408 units sold.\n",
    "   - Other top products include assorted color T-light holders, red harmonicas, assorted incense packs, and white hanging heart T-light holders.\n",
    "\n",
    "5. **Distribution Plots**:\n",
    "   - The 'Quantity' distribution is heavily right-skewed, indicating that most purchases involve smaller quantities, with a few large quantity purchases.\n",
    "   - The 'Price' distribution is also right-skewed, showing that lower-priced items are more commonly sold, with a few high-priced items."
   ]
  },
  {
   "cell_type": "markdown",
   "id": "94c42cfa",
   "metadata": {},
   "source": [
    "## Modelling"
   ]
  },
  {
   "cell_type": "code",
   "execution_count": 264,
   "id": "3b66b63e",
   "metadata": {},
   "outputs": [
    {
     "data": {
      "text/plain": [
       "<lifetimes.BetaGeoFitter: fitted with 627 subjects, a: 0.00, alpha: 60.93, b: 0.00, r: 4.19>"
      ]
     },
     "execution_count": 264,
     "metadata": {},
     "output_type": "execute_result"
    }
   ],
   "source": [
    "bgf = BetaGeoFitter(penalizer_coef = 0.001)\n",
    "bgf.fit(CLTV[\"Frequency\"],\n",
    "       CLTV[\"Recency\"],\n",
    "       CLTV[\"T\"])"
   ]
  },
  {
   "cell_type": "code",
   "execution_count": 265,
   "id": "12807be6",
   "metadata": {},
   "outputs": [],
   "source": [
    "# Adding the three monthly values to the CLTV\n",
    "CLTV[\"expected_purc_3_month\"] = bgf.predict(4*3, CLTV[\"Frequency\"], CLTV[\"Recency\"], CLTV[\"T\"])"
   ]
  },
  {
   "cell_type": "code",
   "execution_count": 266,
   "id": "32567818",
   "metadata": {},
   "outputs": [],
   "source": [
    "CLTV[\"expected_purc_6_month\"] = bgf.predict(4*6, CLTV[\"Frequency\"], CLTV[\"Recency\"], CLTV[\"T\"]).sort_values(ascending = False).head(10)"
   ]
  },
  {
   "cell_type": "code",
   "execution_count": 267,
   "id": "120798f6",
   "metadata": {},
   "outputs": [
    {
     "data": {
      "text/html": [
       "<div>\n",
       "<style scoped>\n",
       "    .dataframe tbody tr th:only-of-type {\n",
       "        vertical-align: middle;\n",
       "    }\n",
       "\n",
       "    .dataframe tbody tr th {\n",
       "        vertical-align: top;\n",
       "    }\n",
       "\n",
       "    .dataframe thead th {\n",
       "        text-align: right;\n",
       "    }\n",
       "</style>\n",
       "<table border=\"1\" class=\"dataframe\">\n",
       "  <thead>\n",
       "    <tr style=\"text-align: right;\">\n",
       "      <th></th>\n",
       "      <th>Customer ID</th>\n",
       "      <th>Recency</th>\n",
       "      <th>T</th>\n",
       "      <th>Frequency</th>\n",
       "      <th>Monetary</th>\n",
       "      <th>expected_purc_3_month</th>\n",
       "      <th>expected_purc_6_month</th>\n",
       "    </tr>\n",
       "  </thead>\n",
       "  <tbody>\n",
       "    <tr>\n",
       "      <th>1</th>\n",
       "      <td>12347.0</td>\n",
       "      <td>45.428571</td>\n",
       "      <td>52.571429</td>\n",
       "      <td>2</td>\n",
       "      <td>593.590</td>\n",
       "      <td>0.653990</td>\n",
       "      <td>NaN</td>\n",
       "    </tr>\n",
       "    <tr>\n",
       "      <th>2</th>\n",
       "      <td>12348.0</td>\n",
       "      <td>45.571429</td>\n",
       "      <td>51.285714</td>\n",
       "      <td>2</td>\n",
       "      <td>560.120</td>\n",
       "      <td>0.661482</td>\n",
       "      <td>NaN</td>\n",
       "    </tr>\n",
       "    <tr>\n",
       "      <th>6</th>\n",
       "      <td>12359.0</td>\n",
       "      <td>43.714286</td>\n",
       "      <td>47.428571</td>\n",
       "      <td>2</td>\n",
       "      <td>1193.205</td>\n",
       "      <td>0.685028</td>\n",
       "      <td>NaN</td>\n",
       "    </tr>\n",
       "    <tr>\n",
       "      <th>8</th>\n",
       "      <td>12365.0</td>\n",
       "      <td>41.714286</td>\n",
       "      <td>41.714286</td>\n",
       "      <td>2</td>\n",
       "      <td>320.690</td>\n",
       "      <td>0.723163</td>\n",
       "      <td>NaN</td>\n",
       "    </tr>\n",
       "    <tr>\n",
       "      <th>9</th>\n",
       "      <td>12370.0</td>\n",
       "      <td>51.142857</td>\n",
       "      <td>51.571429</td>\n",
       "      <td>2</td>\n",
       "      <td>934.010</td>\n",
       "      <td>0.659803</td>\n",
       "      <td>NaN</td>\n",
       "    </tr>\n",
       "  </tbody>\n",
       "</table>\n",
       "</div>"
      ],
      "text/plain": [
       "   Customer ID    Recency          T  Frequency  Monetary  \\\n",
       "1      12347.0  45.428571  52.571429          2   593.590   \n",
       "2      12348.0  45.571429  51.285714          2   560.120   \n",
       "6      12359.0  43.714286  47.428571          2  1193.205   \n",
       "8      12365.0  41.714286  41.714286          2   320.690   \n",
       "9      12370.0  51.142857  51.571429          2   934.010   \n",
       "\n",
       "   expected_purc_3_month  expected_purc_6_month  \n",
       "1               0.653990                    NaN  \n",
       "2               0.661482                    NaN  \n",
       "6               0.685028                    NaN  \n",
       "8               0.723163                    NaN  \n",
       "9               0.659803                    NaN  "
      ]
     },
     "execution_count": 267,
     "metadata": {},
     "output_type": "execute_result"
    }
   ],
   "source": [
    "CLTV.head()"
   ]
  },
  {
   "cell_type": "code",
   "execution_count": 268,
   "id": "5e9d605f",
   "metadata": {},
   "outputs": [
    {
     "data": {
      "text/plain": [
       "<lifetimes.GammaGammaFitter: fitted with 627 subjects, p: 3.77, q: 0.33, v: 3.69>"
      ]
     },
     "execution_count": 268,
     "metadata": {},
     "output_type": "execute_result"
    }
   ],
   "source": [
    "ggf = GammaGammaFitter(penalizer_coef = 0.01)\n",
    "ggf.fit(CLTV[\"Frequency\"], CLTV[\"Monetary\"])"
   ]
  },
  {
   "cell_type": "code",
   "execution_count": 269,
   "id": "873be329",
   "metadata": {},
   "outputs": [
    {
     "data": {
      "text/plain": [
       "912     12619.154872\n",
       "23       7481.809651\n",
       "1552     6590.271825\n",
       "629      5891.370984\n",
       "129      5118.258943\n",
       "1366     4282.318439\n",
       "488      3774.985505\n",
       "1379     3153.221109\n",
       "176      2914.743178\n",
       "1353     2400.726067\n",
       "dtype: float64"
      ]
     },
     "execution_count": 269,
     "metadata": {},
     "output_type": "execute_result"
    }
   ],
   "source": [
    "ggf.conditional_expected_average_profit(CLTV[\"Frequency\"], CLTV[\"Monetary\"]).sort_values(ascending = False).head(10)"
   ]
  },
  {
   "cell_type": "code",
   "execution_count": 270,
   "id": "7b3204c2",
   "metadata": {},
   "outputs": [],
   "source": [
    "CLTV[\"cltv\"] = ggf.customer_lifetime_value(bgf,\n",
    "                                  CLTV[\"Frequency\"], CLTV[\"Recency\"], CLTV[\"T\"], CLTV[\"Monetary\"],\n",
    "                                  time = 6, freq = \"W\", discount_rate = 0.01)"
   ]
  },
  {
   "cell_type": "code",
   "execution_count": 271,
   "id": "81f5cd5d",
   "metadata": {},
   "outputs": [
    {
     "data": {
      "text/html": [
       "<div>\n",
       "<style scoped>\n",
       "    .dataframe tbody tr th:only-of-type {\n",
       "        vertical-align: middle;\n",
       "    }\n",
       "\n",
       "    .dataframe tbody tr th {\n",
       "        vertical-align: top;\n",
       "    }\n",
       "\n",
       "    .dataframe thead th {\n",
       "        text-align: right;\n",
       "    }\n",
       "</style>\n",
       "<table border=\"1\" class=\"dataframe\">\n",
       "  <thead>\n",
       "    <tr style=\"text-align: right;\">\n",
       "      <th></th>\n",
       "      <th>Customer ID</th>\n",
       "      <th>Recency</th>\n",
       "      <th>T</th>\n",
       "      <th>Frequency</th>\n",
       "      <th>Monetary</th>\n",
       "      <th>expected_purc_3_month</th>\n",
       "      <th>expected_purc_6_month</th>\n",
       "      <th>cltv</th>\n",
       "    </tr>\n",
       "  </thead>\n",
       "  <tbody>\n",
       "    <tr>\n",
       "      <th>1</th>\n",
       "      <td>12347.0</td>\n",
       "      <td>45.428571</td>\n",
       "      <td>52.571429</td>\n",
       "      <td>2</td>\n",
       "      <td>593.590</td>\n",
       "      <td>0.653990</td>\n",
       "      <td>NaN</td>\n",
       "      <td>896.593521</td>\n",
       "    </tr>\n",
       "    <tr>\n",
       "      <th>2</th>\n",
       "      <td>12348.0</td>\n",
       "      <td>45.571429</td>\n",
       "      <td>51.285714</td>\n",
       "      <td>2</td>\n",
       "      <td>560.120</td>\n",
       "      <td>0.661482</td>\n",
       "      <td>NaN</td>\n",
       "      <td>855.890079</td>\n",
       "    </tr>\n",
       "    <tr>\n",
       "      <th>6</th>\n",
       "      <td>12359.0</td>\n",
       "      <td>43.714286</td>\n",
       "      <td>47.428571</td>\n",
       "      <td>2</td>\n",
       "      <td>1193.205</td>\n",
       "      <td>0.685028</td>\n",
       "      <td>NaN</td>\n",
       "      <td>1884.885084</td>\n",
       "    </tr>\n",
       "    <tr>\n",
       "      <th>8</th>\n",
       "      <td>12365.0</td>\n",
       "      <td>41.714286</td>\n",
       "      <td>41.714286</td>\n",
       "      <td>2</td>\n",
       "      <td>320.690</td>\n",
       "      <td>0.723163</td>\n",
       "      <td>NaN</td>\n",
       "      <td>537.035593</td>\n",
       "    </tr>\n",
       "    <tr>\n",
       "      <th>9</th>\n",
       "      <td>12370.0</td>\n",
       "      <td>51.142857</td>\n",
       "      <td>51.571429</td>\n",
       "      <td>2</td>\n",
       "      <td>934.010</td>\n",
       "      <td>0.659803</td>\n",
       "      <td>NaN</td>\n",
       "      <td>1421.716700</td>\n",
       "    </tr>\n",
       "  </tbody>\n",
       "</table>\n",
       "</div>"
      ],
      "text/plain": [
       "   Customer ID    Recency          T  Frequency  Monetary  \\\n",
       "1      12347.0  45.428571  52.571429          2   593.590   \n",
       "2      12348.0  45.571429  51.285714          2   560.120   \n",
       "6      12359.0  43.714286  47.428571          2  1193.205   \n",
       "8      12365.0  41.714286  41.714286          2   320.690   \n",
       "9      12370.0  51.142857  51.571429          2   934.010   \n",
       "\n",
       "   expected_purc_3_month  expected_purc_6_month         cltv  \n",
       "1               0.653990                    NaN   896.593521  \n",
       "2               0.661482                    NaN   855.890079  \n",
       "6               0.685028                    NaN  1884.885084  \n",
       "8               0.723163                    NaN   537.035593  \n",
       "9               0.659803                    NaN  1421.716700  "
      ]
     },
     "execution_count": 271,
     "metadata": {},
     "output_type": "execute_result"
    }
   ],
   "source": [
    "CLTV.head()"
   ]
  },
  {
   "cell_type": "code",
   "execution_count": 272,
   "id": "ee9b8213",
   "metadata": {},
   "outputs": [],
   "source": [
    "CLTV[\"segment\"] = pd.qcut(CLTV[\"cltv\"], 4, labels = [\"D\", \"C\", \"B\", \"A\"])"
   ]
  },
  {
   "cell_type": "code",
   "execution_count": 273,
   "id": "1c1727b4",
   "metadata": {
    "scrolled": true
   },
   "outputs": [
    {
     "data": {
      "text/html": [
       "<div>\n",
       "<style scoped>\n",
       "    .dataframe tbody tr th:only-of-type {\n",
       "        vertical-align: middle;\n",
       "    }\n",
       "\n",
       "    .dataframe tbody tr th {\n",
       "        vertical-align: top;\n",
       "    }\n",
       "\n",
       "    .dataframe thead th {\n",
       "        text-align: right;\n",
       "    }\n",
       "</style>\n",
       "<table border=\"1\" class=\"dataframe\">\n",
       "  <thead>\n",
       "    <tr style=\"text-align: right;\">\n",
       "      <th></th>\n",
       "      <th>Customer ID</th>\n",
       "      <th>Recency</th>\n",
       "      <th>T</th>\n",
       "      <th>Frequency</th>\n",
       "      <th>Monetary</th>\n",
       "      <th>expected_purc_3_month</th>\n",
       "      <th>expected_purc_6_month</th>\n",
       "      <th>cltv</th>\n",
       "      <th>segment</th>\n",
       "    </tr>\n",
       "  </thead>\n",
       "  <tbody>\n",
       "    <tr>\n",
       "      <th>1</th>\n",
       "      <td>12347.0</td>\n",
       "      <td>45.428571</td>\n",
       "      <td>52.571429</td>\n",
       "      <td>2</td>\n",
       "      <td>593.590</td>\n",
       "      <td>0.653990</td>\n",
       "      <td>NaN</td>\n",
       "      <td>896.593521</td>\n",
       "      <td>A</td>\n",
       "    </tr>\n",
       "    <tr>\n",
       "      <th>2</th>\n",
       "      <td>12348.0</td>\n",
       "      <td>45.571429</td>\n",
       "      <td>51.285714</td>\n",
       "      <td>2</td>\n",
       "      <td>560.120</td>\n",
       "      <td>0.661482</td>\n",
       "      <td>NaN</td>\n",
       "      <td>855.890079</td>\n",
       "      <td>A</td>\n",
       "    </tr>\n",
       "    <tr>\n",
       "      <th>6</th>\n",
       "      <td>12359.0</td>\n",
       "      <td>43.714286</td>\n",
       "      <td>47.428571</td>\n",
       "      <td>2</td>\n",
       "      <td>1193.205</td>\n",
       "      <td>0.685028</td>\n",
       "      <td>NaN</td>\n",
       "      <td>1884.885084</td>\n",
       "      <td>A</td>\n",
       "    </tr>\n",
       "    <tr>\n",
       "      <th>8</th>\n",
       "      <td>12365.0</td>\n",
       "      <td>41.714286</td>\n",
       "      <td>41.714286</td>\n",
       "      <td>2</td>\n",
       "      <td>320.690</td>\n",
       "      <td>0.723163</td>\n",
       "      <td>NaN</td>\n",
       "      <td>537.035593</td>\n",
       "      <td>B</td>\n",
       "    </tr>\n",
       "    <tr>\n",
       "      <th>9</th>\n",
       "      <td>12370.0</td>\n",
       "      <td>51.142857</td>\n",
       "      <td>51.571429</td>\n",
       "      <td>2</td>\n",
       "      <td>934.010</td>\n",
       "      <td>0.659803</td>\n",
       "      <td>NaN</td>\n",
       "      <td>1421.716700</td>\n",
       "      <td>A</td>\n",
       "    </tr>\n",
       "  </tbody>\n",
       "</table>\n",
       "</div>"
      ],
      "text/plain": [
       "   Customer ID    Recency          T  Frequency  Monetary  \\\n",
       "1      12347.0  45.428571  52.571429          2   593.590   \n",
       "2      12348.0  45.571429  51.285714          2   560.120   \n",
       "6      12359.0  43.714286  47.428571          2  1193.205   \n",
       "8      12365.0  41.714286  41.714286          2   320.690   \n",
       "9      12370.0  51.142857  51.571429          2   934.010   \n",
       "\n",
       "   expected_purc_3_month  expected_purc_6_month         cltv segment  \n",
       "1               0.653990                    NaN   896.593521       A  \n",
       "2               0.661482                    NaN   855.890079       A  \n",
       "6               0.685028                    NaN  1884.885084       A  \n",
       "8               0.723163                    NaN   537.035593       B  \n",
       "9               0.659803                    NaN  1421.716700       A  "
      ]
     },
     "execution_count": 273,
     "metadata": {},
     "output_type": "execute_result"
    }
   ],
   "source": [
    "CLTV.head()"
   ]
  },
  {
   "cell_type": "markdown",
   "id": "72bd66bb",
   "metadata": {},
   "source": [
    "### Model Fit and Predictions:\n",
    "1. **BetaGeoFitter Results**:\n",
    "   - This model was fitted with 627 subjects, indicating a substantial customer base for analysis.\n",
    "   - The parameters (`a`, `alpha`, `b`, `r`) show the model's fit to the frequency and recency of purchases.\n",
    "   - Predictions like `expected_purc_3_month` and `expected_purc_6_month` estimate future customer transactions over 3 and 6 months, respectively. For example, Customer ID 12347.0 is expected to make approximately 0.65 purchases in the next 3 months.\n",
    "\n",
    "2. **GammaGammaFitter Results**:\n",
    "   - The fitted parameters (`p`, `q`, `v`) indicate the model's understanding of the monetary value aspect of customer transactions.\n",
    "   - The conditional expected average profit for customers (e.g., Customer ID 912 with £12,619.15) shows the predicted average revenue from each customer, which is crucial for understanding customer value."
   ]
  },
  {
   "cell_type": "markdown",
   "id": "35be4ff1",
   "metadata": {},
   "source": [
    "## Results"
   ]
  },
  {
   "cell_type": "code",
   "execution_count": 274,
   "id": "7cbb20bc",
   "metadata": {},
   "outputs": [
    {
     "data": {
      "text/html": [
       "<div>\n",
       "<style scoped>\n",
       "    .dataframe tbody tr th:only-of-type {\n",
       "        vertical-align: middle;\n",
       "    }\n",
       "\n",
       "    .dataframe tbody tr th {\n",
       "        vertical-align: top;\n",
       "    }\n",
       "\n",
       "    .dataframe thead th {\n",
       "        text-align: right;\n",
       "    }\n",
       "</style>\n",
       "<table border=\"1\" class=\"dataframe\">\n",
       "  <thead>\n",
       "    <tr style=\"text-align: right;\">\n",
       "      <th></th>\n",
       "      <th>Customer ID</th>\n",
       "      <th>Recency</th>\n",
       "      <th>T</th>\n",
       "      <th>Frequency</th>\n",
       "      <th>Monetary</th>\n",
       "      <th>expected_purc_3_month</th>\n",
       "      <th>expected_purc_6_month</th>\n",
       "      <th>cltv</th>\n",
       "      <th>segment</th>\n",
       "    </tr>\n",
       "  </thead>\n",
       "  <tbody>\n",
       "    <tr>\n",
       "      <th>998</th>\n",
       "      <td>16048.0</td>\n",
       "      <td>53.428571</td>\n",
       "      <td>53.428571</td>\n",
       "      <td>2</td>\n",
       "      <td>128.220</td>\n",
       "      <td>0.649088</td>\n",
       "      <td>NaN</td>\n",
       "      <td>194.380874</td>\n",
       "      <td>D</td>\n",
       "    </tr>\n",
       "    <tr>\n",
       "      <th>1244</th>\n",
       "      <td>17025.0</td>\n",
       "      <td>53.428571</td>\n",
       "      <td>53.428571</td>\n",
       "      <td>2</td>\n",
       "      <td>80.485</td>\n",
       "      <td>0.649088</td>\n",
       "      <td>NaN</td>\n",
       "      <td>123.041203</td>\n",
       "      <td>D</td>\n",
       "    </tr>\n",
       "    <tr>\n",
       "      <th>1391</th>\n",
       "      <td>17552.0</td>\n",
       "      <td>53.285714</td>\n",
       "      <td>53.285714</td>\n",
       "      <td>2</td>\n",
       "      <td>149.260</td>\n",
       "      <td>0.649900</td>\n",
       "      <td>NaN</td>\n",
       "      <td>226.107474</td>\n",
       "      <td>D</td>\n",
       "    </tr>\n",
       "    <tr>\n",
       "      <th>800</th>\n",
       "      <td>15299.0</td>\n",
       "      <td>53.285714</td>\n",
       "      <td>53.285714</td>\n",
       "      <td>3</td>\n",
       "      <td>611.670</td>\n",
       "      <td>0.754961</td>\n",
       "      <td>NaN</td>\n",
       "      <td>1031.939175</td>\n",
       "      <td>A</td>\n",
       "    </tr>\n",
       "    <tr>\n",
       "      <th>788</th>\n",
       "      <td>15260.0</td>\n",
       "      <td>53.285714</td>\n",
       "      <td>53.285714</td>\n",
       "      <td>2</td>\n",
       "      <td>210.250</td>\n",
       "      <td>0.649900</td>\n",
       "      <td>NaN</td>\n",
       "      <td>317.370667</td>\n",
       "      <td>D</td>\n",
       "    </tr>\n",
       "  </tbody>\n",
       "</table>\n",
       "</div>"
      ],
      "text/plain": [
       "      Customer ID    Recency          T  Frequency  Monetary  \\\n",
       "998       16048.0  53.428571  53.428571          2   128.220   \n",
       "1244      17025.0  53.428571  53.428571          2    80.485   \n",
       "1391      17552.0  53.285714  53.285714          2   149.260   \n",
       "800       15299.0  53.285714  53.285714          3   611.670   \n",
       "788       15260.0  53.285714  53.285714          2   210.250   \n",
       "\n",
       "      expected_purc_3_month  expected_purc_6_month         cltv segment  \n",
       "998                0.649088                    NaN   194.380874       D  \n",
       "1244               0.649088                    NaN   123.041203       D  \n",
       "1391               0.649900                    NaN   226.107474       D  \n",
       "800                0.754961                    NaN  1031.939175       A  \n",
       "788                0.649900                    NaN   317.370667       D  "
      ]
     },
     "execution_count": 274,
     "metadata": {},
     "output_type": "execute_result"
    }
   ],
   "source": [
    "CLTV.sort_values(by = \"Recency\", ascending = False).head()"
   ]
  },
  {
   "cell_type": "code",
   "execution_count": 275,
   "id": "6ecb39d3",
   "metadata": {},
   "outputs": [
    {
     "data": {
      "text/html": [
       "<div>\n",
       "<style scoped>\n",
       "    .dataframe tbody tr th:only-of-type {\n",
       "        vertical-align: middle;\n",
       "    }\n",
       "\n",
       "    .dataframe tbody tr th {\n",
       "        vertical-align: top;\n",
       "    }\n",
       "\n",
       "    .dataframe thead th {\n",
       "        text-align: right;\n",
       "    }\n",
       "</style>\n",
       "<table border=\"1\" class=\"dataframe\">\n",
       "  <thead>\n",
       "    <tr style=\"text-align: right;\">\n",
       "      <th></th>\n",
       "      <th>Customer ID</th>\n",
       "      <th>Recency</th>\n",
       "      <th>T</th>\n",
       "      <th>Frequency</th>\n",
       "      <th>Monetary</th>\n",
       "      <th>expected_purc_3_month</th>\n",
       "      <th>expected_purc_6_month</th>\n",
       "      <th>cltv</th>\n",
       "      <th>segment</th>\n",
       "    </tr>\n",
       "  </thead>\n",
       "  <tbody>\n",
       "    <tr>\n",
       "      <th>1437</th>\n",
       "      <td>17706.0</td>\n",
       "      <td>41.428571</td>\n",
       "      <td>52.428571</td>\n",
       "      <td>4</td>\n",
       "      <td>222.212500</td>\n",
       "      <td>0.866525</td>\n",
       "      <td>NaN</td>\n",
       "      <td>424.546741</td>\n",
       "      <td>C</td>\n",
       "    </tr>\n",
       "    <tr>\n",
       "      <th>488</th>\n",
       "      <td>14156.0</td>\n",
       "      <td>41.428571</td>\n",
       "      <td>53.142857</td>\n",
       "      <td>7</td>\n",
       "      <td>3678.892857</td>\n",
       "      <td>1.176678</td>\n",
       "      <td>NaN</td>\n",
       "      <td>9321.171353</td>\n",
       "      <td>A</td>\n",
       "    </tr>\n",
       "    <tr>\n",
       "      <th>447</th>\n",
       "      <td>13993.0</td>\n",
       "      <td>41.428571</td>\n",
       "      <td>47.285714</td>\n",
       "      <td>2</td>\n",
       "      <td>411.425000</td>\n",
       "      <td>0.685932</td>\n",
       "      <td>NaN</td>\n",
       "      <td>652.687626</td>\n",
       "      <td>B</td>\n",
       "    </tr>\n",
       "    <tr>\n",
       "      <th>823</th>\n",
       "      <td>15373.0</td>\n",
       "      <td>41.428571</td>\n",
       "      <td>53.142857</td>\n",
       "      <td>4</td>\n",
       "      <td>225.000000</td>\n",
       "      <td>0.861099</td>\n",
       "      <td>NaN</td>\n",
       "      <td>427.158870</td>\n",
       "      <td>C</td>\n",
       "    </tr>\n",
       "    <tr>\n",
       "      <th>1360</th>\n",
       "      <td>17428.0</td>\n",
       "      <td>41.428571</td>\n",
       "      <td>52.714286</td>\n",
       "      <td>6</td>\n",
       "      <td>518.353333</td>\n",
       "      <td>1.075526</td>\n",
       "      <td>NaN</td>\n",
       "      <td>1206.921899</td>\n",
       "      <td>A</td>\n",
       "    </tr>\n",
       "  </tbody>\n",
       "</table>\n",
       "</div>"
      ],
      "text/plain": [
       "      Customer ID    Recency          T  Frequency     Monetary  \\\n",
       "1437      17706.0  41.428571  52.428571          4   222.212500   \n",
       "488       14156.0  41.428571  53.142857          7  3678.892857   \n",
       "447       13993.0  41.428571  47.285714          2   411.425000   \n",
       "823       15373.0  41.428571  53.142857          4   225.000000   \n",
       "1360      17428.0  41.428571  52.714286          6   518.353333   \n",
       "\n",
       "      expected_purc_3_month  expected_purc_6_month         cltv segment  \n",
       "1437               0.866525                    NaN   424.546741       C  \n",
       "488                1.176678                    NaN  9321.171353       A  \n",
       "447                0.685932                    NaN   652.687626       B  \n",
       "823                0.861099                    NaN   427.158870       C  \n",
       "1360               1.075526                    NaN  1206.921899       A  "
      ]
     },
     "execution_count": 275,
     "metadata": {},
     "output_type": "execute_result"
    }
   ],
   "source": [
    "CLTV.sort_values(by = \"Recency\", ascending = True).head()"
   ]
  },
  {
   "cell_type": "code",
   "execution_count": 276,
   "id": "58ea24cd",
   "metadata": {},
   "outputs": [
    {
     "data": {
      "text/html": [
       "<div>\n",
       "<style scoped>\n",
       "    .dataframe tbody tr th:only-of-type {\n",
       "        vertical-align: middle;\n",
       "    }\n",
       "\n",
       "    .dataframe tbody tr th {\n",
       "        vertical-align: top;\n",
       "    }\n",
       "\n",
       "    .dataframe thead th {\n",
       "        text-align: right;\n",
       "    }\n",
       "</style>\n",
       "<table border=\"1\" class=\"dataframe\">\n",
       "  <thead>\n",
       "    <tr style=\"text-align: right;\">\n",
       "      <th></th>\n",
       "      <th>Customer ID</th>\n",
       "      <th>Recency</th>\n",
       "      <th>T</th>\n",
       "      <th>Frequency</th>\n",
       "      <th>Monetary</th>\n",
       "      <th>expected_purc_3_month</th>\n",
       "      <th>expected_purc_6_month</th>\n",
       "      <th>cltv</th>\n",
       "      <th>segment</th>\n",
       "    </tr>\n",
       "  </thead>\n",
       "  <tbody>\n",
       "    <tr>\n",
       "      <th>226</th>\n",
       "      <td>13093.0</td>\n",
       "      <td>44.428571</td>\n",
       "      <td>53.428571</td>\n",
       "      <td>6</td>\n",
       "      <td>1176.741667</td>\n",
       "      <td>1.068808</td>\n",
       "      <td>NaN</td>\n",
       "      <td>2720.980124</td>\n",
       "      <td>A</td>\n",
       "    </tr>\n",
       "    <tr>\n",
       "      <th>1036</th>\n",
       "      <td>16210.0</td>\n",
       "      <td>44.285714</td>\n",
       "      <td>53.428571</td>\n",
       "      <td>6</td>\n",
       "      <td>1479.490000</td>\n",
       "      <td>1.068808</td>\n",
       "      <td>NaN</td>\n",
       "      <td>3420.659582</td>\n",
       "      <td>A</td>\n",
       "    </tr>\n",
       "    <tr>\n",
       "      <th>1244</th>\n",
       "      <td>17025.0</td>\n",
       "      <td>53.428571</td>\n",
       "      <td>53.428571</td>\n",
       "      <td>2</td>\n",
       "      <td>80.485000</td>\n",
       "      <td>0.649088</td>\n",
       "      <td>NaN</td>\n",
       "      <td>123.041203</td>\n",
       "      <td>D</td>\n",
       "    </tr>\n",
       "    <tr>\n",
       "      <th>1495</th>\n",
       "      <td>17897.0</td>\n",
       "      <td>52.571429</td>\n",
       "      <td>53.428571</td>\n",
       "      <td>2</td>\n",
       "      <td>217.310000</td>\n",
       "      <td>0.649088</td>\n",
       "      <td>NaN</td>\n",
       "      <td>327.525346</td>\n",
       "      <td>D</td>\n",
       "    </tr>\n",
       "    <tr>\n",
       "      <th>74</th>\n",
       "      <td>12583.0</td>\n",
       "      <td>43.285714</td>\n",
       "      <td>53.428571</td>\n",
       "      <td>3</td>\n",
       "      <td>635.860000</td>\n",
       "      <td>0.754018</td>\n",
       "      <td>NaN</td>\n",
       "      <td>1071.327930</td>\n",
       "      <td>A</td>\n",
       "    </tr>\n",
       "  </tbody>\n",
       "</table>\n",
       "</div>"
      ],
      "text/plain": [
       "      Customer ID    Recency          T  Frequency     Monetary  \\\n",
       "226       13093.0  44.428571  53.428571          6  1176.741667   \n",
       "1036      16210.0  44.285714  53.428571          6  1479.490000   \n",
       "1244      17025.0  53.428571  53.428571          2    80.485000   \n",
       "1495      17897.0  52.571429  53.428571          2   217.310000   \n",
       "74        12583.0  43.285714  53.428571          3   635.860000   \n",
       "\n",
       "      expected_purc_3_month  expected_purc_6_month         cltv segment  \n",
       "226                1.068808                    NaN  2720.980124       A  \n",
       "1036               1.068808                    NaN  3420.659582       A  \n",
       "1244               0.649088                    NaN   123.041203       D  \n",
       "1495               0.649088                    NaN   327.525346       D  \n",
       "74                 0.754018                    NaN  1071.327930       A  "
      ]
     },
     "execution_count": 276,
     "metadata": {},
     "output_type": "execute_result"
    }
   ],
   "source": [
    "CLTV.sort_values(by = \"T\", ascending = False).head()"
   ]
  },
  {
   "cell_type": "code",
   "execution_count": 277,
   "id": "11ac10dd",
   "metadata": {},
   "outputs": [
    {
     "data": {
      "text/html": [
       "<div>\n",
       "<style scoped>\n",
       "    .dataframe tbody tr th:only-of-type {\n",
       "        vertical-align: middle;\n",
       "    }\n",
       "\n",
       "    .dataframe tbody tr th {\n",
       "        vertical-align: top;\n",
       "    }\n",
       "\n",
       "    .dataframe thead th {\n",
       "        text-align: right;\n",
       "    }\n",
       "</style>\n",
       "<table border=\"1\" class=\"dataframe\">\n",
       "  <thead>\n",
       "    <tr style=\"text-align: right;\">\n",
       "      <th></th>\n",
       "      <th>Customer ID</th>\n",
       "      <th>Recency</th>\n",
       "      <th>T</th>\n",
       "      <th>Frequency</th>\n",
       "      <th>Monetary</th>\n",
       "      <th>expected_purc_3_month</th>\n",
       "      <th>expected_purc_6_month</th>\n",
       "      <th>cltv</th>\n",
       "      <th>segment</th>\n",
       "    </tr>\n",
       "  </thead>\n",
       "  <tbody>\n",
       "    <tr>\n",
       "      <th>1572</th>\n",
       "      <td>18172.0</td>\n",
       "      <td>41.428571</td>\n",
       "      <td>41.428571</td>\n",
       "      <td>2</td>\n",
       "      <td>989.190</td>\n",
       "      <td>0.725181</td>\n",
       "      <td>NaN</td>\n",
       "      <td>1654.725777</td>\n",
       "      <td>A</td>\n",
       "    </tr>\n",
       "    <tr>\n",
       "      <th>8</th>\n",
       "      <td>12365.0</td>\n",
       "      <td>41.714286</td>\n",
       "      <td>41.714286</td>\n",
       "      <td>2</td>\n",
       "      <td>320.690</td>\n",
       "      <td>0.723163</td>\n",
       "      <td>NaN</td>\n",
       "      <td>537.035593</td>\n",
       "      <td>B</td>\n",
       "    </tr>\n",
       "    <tr>\n",
       "      <th>1592</th>\n",
       "      <td>18257.0</td>\n",
       "      <td>41.571429</td>\n",
       "      <td>42.428571</td>\n",
       "      <td>2</td>\n",
       "      <td>181.900</td>\n",
       "      <td>0.718165</td>\n",
       "      <td>NaN</td>\n",
       "      <td>303.829400</td>\n",
       "      <td>D</td>\n",
       "    </tr>\n",
       "    <tr>\n",
       "      <th>35</th>\n",
       "      <td>12455.0</td>\n",
       "      <td>42.285714</td>\n",
       "      <td>42.428571</td>\n",
       "      <td>2</td>\n",
       "      <td>849.450</td>\n",
       "      <td>0.718165</td>\n",
       "      <td>NaN</td>\n",
       "      <td>1407.650877</td>\n",
       "      <td>A</td>\n",
       "    </tr>\n",
       "    <tr>\n",
       "      <th>707</th>\n",
       "      <td>14944.0</td>\n",
       "      <td>42.428571</td>\n",
       "      <td>42.428571</td>\n",
       "      <td>2</td>\n",
       "      <td>377.145</td>\n",
       "      <td>0.718165</td>\n",
       "      <td>NaN</td>\n",
       "      <td>626.675066</td>\n",
       "      <td>B</td>\n",
       "    </tr>\n",
       "  </tbody>\n",
       "</table>\n",
       "</div>"
      ],
      "text/plain": [
       "      Customer ID    Recency          T  Frequency  Monetary  \\\n",
       "1572      18172.0  41.428571  41.428571          2   989.190   \n",
       "8         12365.0  41.714286  41.714286          2   320.690   \n",
       "1592      18257.0  41.571429  42.428571          2   181.900   \n",
       "35        12455.0  42.285714  42.428571          2   849.450   \n",
       "707       14944.0  42.428571  42.428571          2   377.145   \n",
       "\n",
       "      expected_purc_3_month  expected_purc_6_month         cltv segment  \n",
       "1572               0.725181                    NaN  1654.725777       A  \n",
       "8                  0.723163                    NaN   537.035593       B  \n",
       "1592               0.718165                    NaN   303.829400       D  \n",
       "35                 0.718165                    NaN  1407.650877       A  \n",
       "707                0.718165                    NaN   626.675066       B  "
      ]
     },
     "execution_count": 277,
     "metadata": {},
     "output_type": "execute_result"
    }
   ],
   "source": [
    "CLTV.sort_values(by = \"T\", ascending = True).head()"
   ]
  },
  {
   "cell_type": "code",
   "execution_count": 278,
   "id": "5ad0ce46",
   "metadata": {},
   "outputs": [
    {
     "data": {
      "text/html": [
       "<div>\n",
       "<style scoped>\n",
       "    .dataframe tbody tr th:only-of-type {\n",
       "        vertical-align: middle;\n",
       "    }\n",
       "\n",
       "    .dataframe tbody tr th {\n",
       "        vertical-align: top;\n",
       "    }\n",
       "\n",
       "    .dataframe thead th {\n",
       "        text-align: right;\n",
       "    }\n",
       "</style>\n",
       "<table border=\"1\" class=\"dataframe\">\n",
       "  <thead>\n",
       "    <tr style=\"text-align: right;\">\n",
       "      <th></th>\n",
       "      <th>Customer ID</th>\n",
       "      <th>Recency</th>\n",
       "      <th>T</th>\n",
       "      <th>Frequency</th>\n",
       "      <th>Monetary</th>\n",
       "      <th>expected_purc_3_month</th>\n",
       "      <th>expected_purc_6_month</th>\n",
       "      <th>cltv</th>\n",
       "      <th>segment</th>\n",
       "    </tr>\n",
       "  </thead>\n",
       "  <tbody>\n",
       "    <tr>\n",
       "      <th>128</th>\n",
       "      <td>12748.0</td>\n",
       "      <td>41.571429</td>\n",
       "      <td>53.428571</td>\n",
       "      <td>41</td>\n",
       "      <td>114.113415</td>\n",
       "      <td>4.741358</td>\n",
       "      <td>9.482717</td>\n",
       "      <td>1141.197071</td>\n",
       "      <td>A</td>\n",
       "    </tr>\n",
       "    <tr>\n",
       "      <th>1475</th>\n",
       "      <td>17850.0</td>\n",
       "      <td>53.285714</td>\n",
       "      <td>53.428571</td>\n",
       "      <td>34</td>\n",
       "      <td>158.565000</td>\n",
       "      <td>4.006848</td>\n",
       "      <td>8.013697</td>\n",
       "      <td>1341.141113</td>\n",
       "      <td>A</td>\n",
       "    </tr>\n",
       "    <tr>\n",
       "      <th>804</th>\n",
       "      <td>15311.0</td>\n",
       "      <td>41.428571</td>\n",
       "      <td>53.428571</td>\n",
       "      <td>26</td>\n",
       "      <td>495.301923</td>\n",
       "      <td>3.167408</td>\n",
       "      <td>6.334816</td>\n",
       "      <td>3315.631755</td>\n",
       "      <td>A</td>\n",
       "    </tr>\n",
       "    <tr>\n",
       "      <th>223</th>\n",
       "      <td>13089.0</td>\n",
       "      <td>41.428571</td>\n",
       "      <td>52.857143</td>\n",
       "      <td>24</td>\n",
       "      <td>648.234167</td>\n",
       "      <td>2.972400</td>\n",
       "      <td>5.944801</td>\n",
       "      <td>4074.351152</td>\n",
       "      <td>A</td>\n",
       "    </tr>\n",
       "    <tr>\n",
       "      <th>618</th>\n",
       "      <td>14606.0</td>\n",
       "      <td>41.857143</td>\n",
       "      <td>53.428571</td>\n",
       "      <td>24</td>\n",
       "      <td>153.101667</td>\n",
       "      <td>2.957548</td>\n",
       "      <td>5.915096</td>\n",
       "      <td>958.216960</td>\n",
       "      <td>A</td>\n",
       "    </tr>\n",
       "  </tbody>\n",
       "</table>\n",
       "</div>"
      ],
      "text/plain": [
       "      Customer ID    Recency          T  Frequency    Monetary  \\\n",
       "128       12748.0  41.571429  53.428571         41  114.113415   \n",
       "1475      17850.0  53.285714  53.428571         34  158.565000   \n",
       "804       15311.0  41.428571  53.428571         26  495.301923   \n",
       "223       13089.0  41.428571  52.857143         24  648.234167   \n",
       "618       14606.0  41.857143  53.428571         24  153.101667   \n",
       "\n",
       "      expected_purc_3_month  expected_purc_6_month         cltv segment  \n",
       "128                4.741358               9.482717  1141.197071       A  \n",
       "1475               4.006848               8.013697  1341.141113       A  \n",
       "804                3.167408               6.334816  3315.631755       A  \n",
       "223                2.972400               5.944801  4074.351152       A  \n",
       "618                2.957548               5.915096   958.216960       A  "
      ]
     },
     "execution_count": 278,
     "metadata": {},
     "output_type": "execute_result"
    }
   ],
   "source": [
    "CLTV.sort_values(by = \"Frequency\", ascending = False).head()"
   ]
  },
  {
   "cell_type": "code",
   "execution_count": 279,
   "id": "4a8b30df",
   "metadata": {
    "scrolled": true
   },
   "outputs": [
    {
     "data": {
      "text/html": [
       "<div>\n",
       "<style scoped>\n",
       "    .dataframe tbody tr th:only-of-type {\n",
       "        vertical-align: middle;\n",
       "    }\n",
       "\n",
       "    .dataframe tbody tr th {\n",
       "        vertical-align: top;\n",
       "    }\n",
       "\n",
       "    .dataframe thead th {\n",
       "        text-align: right;\n",
       "    }\n",
       "</style>\n",
       "<table border=\"1\" class=\"dataframe\">\n",
       "  <thead>\n",
       "    <tr style=\"text-align: right;\">\n",
       "      <th></th>\n",
       "      <th>Customer ID</th>\n",
       "      <th>Recency</th>\n",
       "      <th>T</th>\n",
       "      <th>Frequency</th>\n",
       "      <th>Monetary</th>\n",
       "      <th>expected_purc_3_month</th>\n",
       "      <th>expected_purc_6_month</th>\n",
       "      <th>cltv</th>\n",
       "      <th>segment</th>\n",
       "    </tr>\n",
       "  </thead>\n",
       "  <tbody>\n",
       "    <tr>\n",
       "      <th>1</th>\n",
       "      <td>12347.0</td>\n",
       "      <td>45.428571</td>\n",
       "      <td>52.571429</td>\n",
       "      <td>2</td>\n",
       "      <td>593.59</td>\n",
       "      <td>0.653990</td>\n",
       "      <td>NaN</td>\n",
       "      <td>896.593521</td>\n",
       "      <td>A</td>\n",
       "    </tr>\n",
       "    <tr>\n",
       "      <th>925</th>\n",
       "      <td>15797.0</td>\n",
       "      <td>43.571429</td>\n",
       "      <td>45.714286</td>\n",
       "      <td>2</td>\n",
       "      <td>755.10</td>\n",
       "      <td>0.696039</td>\n",
       "      <td>NaN</td>\n",
       "      <td>1213.077426</td>\n",
       "      <td>A</td>\n",
       "    </tr>\n",
       "    <tr>\n",
       "      <th>917</th>\n",
       "      <td>15759.0</td>\n",
       "      <td>42.428571</td>\n",
       "      <td>51.285714</td>\n",
       "      <td>2</td>\n",
       "      <td>92.52</td>\n",
       "      <td>0.661482</td>\n",
       "      <td>NaN</td>\n",
       "      <td>143.720400</td>\n",
       "      <td>D</td>\n",
       "    </tr>\n",
       "    <tr>\n",
       "      <th>913</th>\n",
       "      <td>15750.0</td>\n",
       "      <td>52.428571</td>\n",
       "      <td>52.428571</td>\n",
       "      <td>2</td>\n",
       "      <td>170.26</td>\n",
       "      <td>0.654814</td>\n",
       "      <td>NaN</td>\n",
       "      <td>259.478325</td>\n",
       "      <td>D</td>\n",
       "    </tr>\n",
       "    <tr>\n",
       "      <th>912</th>\n",
       "      <td>15749.0</td>\n",
       "      <td>47.571429</td>\n",
       "      <td>47.571429</td>\n",
       "      <td>2</td>\n",
       "      <td>11499.20</td>\n",
       "      <td>0.684126</td>\n",
       "      <td>NaN</td>\n",
       "      <td>18116.072206</td>\n",
       "      <td>A</td>\n",
       "    </tr>\n",
       "  </tbody>\n",
       "</table>\n",
       "</div>"
      ],
      "text/plain": [
       "     Customer ID    Recency          T  Frequency  Monetary  \\\n",
       "1        12347.0  45.428571  52.571429          2    593.59   \n",
       "925      15797.0  43.571429  45.714286          2    755.10   \n",
       "917      15759.0  42.428571  51.285714          2     92.52   \n",
       "913      15750.0  52.428571  52.428571          2    170.26   \n",
       "912      15749.0  47.571429  47.571429          2  11499.20   \n",
       "\n",
       "     expected_purc_3_month  expected_purc_6_month          cltv segment  \n",
       "1                 0.653990                    NaN    896.593521       A  \n",
       "925               0.696039                    NaN   1213.077426       A  \n",
       "917               0.661482                    NaN    143.720400       D  \n",
       "913               0.654814                    NaN    259.478325       D  \n",
       "912               0.684126                    NaN  18116.072206       A  "
      ]
     },
     "execution_count": 279,
     "metadata": {},
     "output_type": "execute_result"
    }
   ],
   "source": [
    "CLTV.sort_values(by = \"Frequency\", ascending = True).head()"
   ]
  },
  {
   "cell_type": "code",
   "execution_count": 280,
   "id": "2eba0318",
   "metadata": {},
   "outputs": [
    {
     "data": {
      "text/html": [
       "<div>\n",
       "<style scoped>\n",
       "    .dataframe tbody tr th:only-of-type {\n",
       "        vertical-align: middle;\n",
       "    }\n",
       "\n",
       "    .dataframe tbody tr th {\n",
       "        vertical-align: top;\n",
       "    }\n",
       "\n",
       "    .dataframe thead th {\n",
       "        text-align: right;\n",
       "    }\n",
       "</style>\n",
       "<table border=\"1\" class=\"dataframe\">\n",
       "  <thead>\n",
       "    <tr style=\"text-align: right;\">\n",
       "      <th></th>\n",
       "      <th>Customer ID</th>\n",
       "      <th>Recency</th>\n",
       "      <th>T</th>\n",
       "      <th>Frequency</th>\n",
       "      <th>Monetary</th>\n",
       "      <th>expected_purc_3_month</th>\n",
       "      <th>expected_purc_6_month</th>\n",
       "      <th>cltv</th>\n",
       "      <th>segment</th>\n",
       "    </tr>\n",
       "  </thead>\n",
       "  <tbody>\n",
       "    <tr>\n",
       "      <th>912</th>\n",
       "      <td>15749.0</td>\n",
       "      <td>47.571429</td>\n",
       "      <td>47.571429</td>\n",
       "      <td>2</td>\n",
       "      <td>11499.200000</td>\n",
       "      <td>0.684126</td>\n",
       "      <td>NaN</td>\n",
       "      <td>18116.072206</td>\n",
       "      <td>A</td>\n",
       "    </tr>\n",
       "    <tr>\n",
       "      <th>23</th>\n",
       "      <td>12415.0</td>\n",
       "      <td>42.571429</td>\n",
       "      <td>48.285714</td>\n",
       "      <td>3</td>\n",
       "      <td>7038.633333</td>\n",
       "      <td>0.789523</td>\n",
       "      <td>NaN</td>\n",
       "      <td>12395.641018</td>\n",
       "      <td>A</td>\n",
       "    </tr>\n",
       "    <tr>\n",
       "      <th>1552</th>\n",
       "      <td>18102.0</td>\n",
       "      <td>43.714286</td>\n",
       "      <td>52.571429</td>\n",
       "      <td>6</td>\n",
       "      <td>6395.015000</td>\n",
       "      <td>1.076879</td>\n",
       "      <td>NaN</td>\n",
       "      <td>14892.512834</td>\n",
       "      <td>A</td>\n",
       "    </tr>\n",
       "    <tr>\n",
       "      <th>629</th>\n",
       "      <td>14646.0</td>\n",
       "      <td>41.571429</td>\n",
       "      <td>50.714286</td>\n",
       "      <td>10</td>\n",
       "      <td>5786.602000</td>\n",
       "      <td>1.524716</td>\n",
       "      <td>NaN</td>\n",
       "      <td>18849.636155</td>\n",
       "      <td>A</td>\n",
       "    </tr>\n",
       "    <tr>\n",
       "      <th>129</th>\n",
       "      <td>12753.0</td>\n",
       "      <td>43.428571</td>\n",
       "      <td>51.857143</td>\n",
       "      <td>2</td>\n",
       "      <td>4662.915000</td>\n",
       "      <td>0.658131</td>\n",
       "      <td>NaN</td>\n",
       "      <td>7068.583628</td>\n",
       "      <td>A</td>\n",
       "    </tr>\n",
       "  </tbody>\n",
       "</table>\n",
       "</div>"
      ],
      "text/plain": [
       "      Customer ID    Recency          T  Frequency      Monetary  \\\n",
       "912       15749.0  47.571429  47.571429          2  11499.200000   \n",
       "23        12415.0  42.571429  48.285714          3   7038.633333   \n",
       "1552      18102.0  43.714286  52.571429          6   6395.015000   \n",
       "629       14646.0  41.571429  50.714286         10   5786.602000   \n",
       "129       12753.0  43.428571  51.857143          2   4662.915000   \n",
       "\n",
       "      expected_purc_3_month  expected_purc_6_month          cltv segment  \n",
       "912                0.684126                    NaN  18116.072206       A  \n",
       "23                 0.789523                    NaN  12395.641018       A  \n",
       "1552               1.076879                    NaN  14892.512834       A  \n",
       "629                1.524716                    NaN  18849.636155       A  \n",
       "129                0.658131                    NaN   7068.583628       A  "
      ]
     },
     "execution_count": 280,
     "metadata": {},
     "output_type": "execute_result"
    }
   ],
   "source": [
    "CLTV.sort_values(by = \"Monetary\", ascending = False).head()"
   ]
  },
  {
   "cell_type": "code",
   "execution_count": 281,
   "id": "553f68a6",
   "metadata": {},
   "outputs": [
    {
     "data": {
      "text/html": [
       "<div>\n",
       "<style scoped>\n",
       "    .dataframe tbody tr th:only-of-type {\n",
       "        vertical-align: middle;\n",
       "    }\n",
       "\n",
       "    .dataframe tbody tr th {\n",
       "        vertical-align: top;\n",
       "    }\n",
       "\n",
       "    .dataframe thead th {\n",
       "        text-align: right;\n",
       "    }\n",
       "</style>\n",
       "<table border=\"1\" class=\"dataframe\">\n",
       "  <thead>\n",
       "    <tr style=\"text-align: right;\">\n",
       "      <th></th>\n",
       "      <th>Customer ID</th>\n",
       "      <th>Recency</th>\n",
       "      <th>T</th>\n",
       "      <th>Frequency</th>\n",
       "      <th>Monetary</th>\n",
       "      <th>expected_purc_3_month</th>\n",
       "      <th>expected_purc_6_month</th>\n",
       "      <th>cltv</th>\n",
       "      <th>segment</th>\n",
       "    </tr>\n",
       "  </thead>\n",
       "  <tbody>\n",
       "    <tr>\n",
       "      <th>185</th>\n",
       "      <td>12970.0</td>\n",
       "      <td>46.142857</td>\n",
       "      <td>46.142857</td>\n",
       "      <td>2</td>\n",
       "      <td>11.900</td>\n",
       "      <td>0.693253</td>\n",
       "      <td>NaN</td>\n",
       "      <td>21.939011</td>\n",
       "      <td>D</td>\n",
       "    </tr>\n",
       "    <tr>\n",
       "      <th>1531</th>\n",
       "      <td>18037.0</td>\n",
       "      <td>46.142857</td>\n",
       "      <td>51.857143</td>\n",
       "      <td>2</td>\n",
       "      <td>19.775</td>\n",
       "      <td>0.658131</td>\n",
       "      <td>NaN</td>\n",
       "      <td>32.760630</td>\n",
       "      <td>D</td>\n",
       "    </tr>\n",
       "    <tr>\n",
       "      <th>836</th>\n",
       "      <td>15422.0</td>\n",
       "      <td>46.285714</td>\n",
       "      <td>46.285714</td>\n",
       "      <td>2</td>\n",
       "      <td>48.850</td>\n",
       "      <td>0.692330</td>\n",
       "      <td>NaN</td>\n",
       "      <td>80.810153</td>\n",
       "      <td>D</td>\n",
       "    </tr>\n",
       "    <tr>\n",
       "      <th>747</th>\n",
       "      <td>15107.0</td>\n",
       "      <td>44.571429</td>\n",
       "      <td>53.285714</td>\n",
       "      <td>6</td>\n",
       "      <td>53.250</td>\n",
       "      <td>1.070145</td>\n",
       "      <td>NaN</td>\n",
       "      <td>124.642454</td>\n",
       "      <td>D</td>\n",
       "    </tr>\n",
       "    <tr>\n",
       "      <th>1491</th>\n",
       "      <td>17888.0</td>\n",
       "      <td>45.428571</td>\n",
       "      <td>51.142857</td>\n",
       "      <td>2</td>\n",
       "      <td>61.065</td>\n",
       "      <td>0.662326</td>\n",
       "      <td>NaN</td>\n",
       "      <td>95.935561</td>\n",
       "      <td>D</td>\n",
       "    </tr>\n",
       "  </tbody>\n",
       "</table>\n",
       "</div>"
      ],
      "text/plain": [
       "      Customer ID    Recency          T  Frequency  Monetary  \\\n",
       "185       12970.0  46.142857  46.142857          2    11.900   \n",
       "1531      18037.0  46.142857  51.857143          2    19.775   \n",
       "836       15422.0  46.285714  46.285714          2    48.850   \n",
       "747       15107.0  44.571429  53.285714          6    53.250   \n",
       "1491      17888.0  45.428571  51.142857          2    61.065   \n",
       "\n",
       "      expected_purc_3_month  expected_purc_6_month        cltv segment  \n",
       "185                0.693253                    NaN   21.939011       D  \n",
       "1531               0.658131                    NaN   32.760630       D  \n",
       "836                0.692330                    NaN   80.810153       D  \n",
       "747                1.070145                    NaN  124.642454       D  \n",
       "1491               0.662326                    NaN   95.935561       D  "
      ]
     },
     "execution_count": 281,
     "metadata": {},
     "output_type": "execute_result"
    }
   ],
   "source": [
    "CLTV.sort_values(by = \"Monetary\", ascending = True).head()"
   ]
  },
  {
   "cell_type": "markdown",
   "id": "9002517d",
   "metadata": {},
   "source": [
    "### CLTV Calculations and Segmentations:\n",
    "1. **Customer Lifetime Value**:\n",
    "   - The `cltv` column represents the estimated lifetime value of each customer. Higher values indicate customers who are expected to bring more revenue in the future. For instance, Customer ID 12359.0 has a high CLTV of £1,884.89, suggesting a high-value customer.\n",
    "   - The segmentation (A, B, C, D) based on CLTV scores allows for targeted marketing and customer relationship management. 'A' segment customers are the most valuable, while 'D' segment customers are the least.\n",
    "\n",
    "### Sorting and Analysis:\n",
    "- Sorting by different metrics like `Recency`, `Frequency`, `Monetary`, and `T` (customer's age in terms of their relationship with the company), you've effectively identified various types of customers:\n",
    "  - **By Recency**: Customers with the highest and lowest recency values. For instance, Customer ID 16048.0 has one of the highest recency values, indicating a risk of churn.\n",
    "  - **By Frequency**: Highlights the most and least frequent shoppers. Customer ID 12748.0, with 41 purchases, is a frequent buyer.\n",
    "  - **By Monetary**: Shows customers who have spent the most and least. Customer ID 15749.0 has a high monetary value, indicating significant spending.\n",
    "\n",
    "### Insights and Implications:\n",
    "1. **Customer Segmentation**: This model helps in effectively segmenting customers, which is crucial for personalized marketing strategies and optimizing customer engagement efforts.\n",
    "2. **Resource Allocation**: Understanding which customers bring more value allows for better allocation of marketing and retention resources.\n",
    "3. **Personalized Strategies**: High CLTV customers can be targeted with loyalty programs, while efforts can be made to re-engage those with high recency but low frequency or monetary values.\n",
    "4. **Revenue Predictions**: The model aids in forecasting future revenues and understanding the health of the customer base.\n",
    "\n",
    "### Conclusion:\n",
    "The CLTV model provides a robust framework for understanding customer behavior, predicting future transactions, and segmenting customers based on their value to the company. It's a powerful tool for strategic decision-making in marketing and customer relationship management."
   ]
  }
 ],
 "metadata": {
  "kernelspec": {
   "display_name": "Python 3 (ipykernel)",
   "language": "python",
   "name": "python3"
  },
  "language_info": {
   "codemirror_mode": {
    "name": "ipython",
    "version": 3
   },
   "file_extension": ".py",
   "mimetype": "text/x-python",
   "name": "python",
   "nbconvert_exporter": "python",
   "pygments_lexer": "ipython3",
   "version": "3.11.5"
  }
 },
 "nbformat": 4,
 "nbformat_minor": 5
}
